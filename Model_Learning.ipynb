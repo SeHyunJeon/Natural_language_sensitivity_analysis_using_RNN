{
  "nbformat": 4,
  "nbformat_minor": 0,
  "metadata": {
    "colab": {
      "provenance": []
    },
    "kernelspec": {
      "name": "python3",
      "display_name": "Python 3"
    },
    "language_info": {
      "name": "python"
    }
  },
  "cells": [
    {
      "cell_type": "code",
      "source": [
        "%%bash\n",
        "\n",
        "pip3 install konlpy"
      ],
      "metadata": {
        "colab": {
          "base_uri": "https://localhost:8080/"
        },
        "id": "nYHLV-x8u_zI",
        "outputId": "b9dc6a3f-d3dc-4c98-9706-22a54df92081"
      },
      "execution_count": null,
      "outputs": [
        {
          "output_type": "stream",
          "name": "stdout",
          "text": [
            "Looking in indexes: https://pypi.org/simple, https://us-python.pkg.dev/colab-wheels/public/simple/\n",
            "Requirement already satisfied: konlpy in /usr/local/lib/python3.10/dist-packages (0.6.0)\n",
            "Requirement already satisfied: JPype1>=0.7.0 in /usr/local/lib/python3.10/dist-packages (from konlpy) (1.4.1)\n",
            "Requirement already satisfied: lxml>=4.1.0 in /usr/local/lib/python3.10/dist-packages (from konlpy) (4.9.2)\n",
            "Requirement already satisfied: numpy>=1.6 in /usr/local/lib/python3.10/dist-packages (from konlpy) (1.22.4)\n",
            "Requirement already satisfied: packaging in /usr/local/lib/python3.10/dist-packages (from JPype1>=0.7.0->konlpy) (23.1)\n"
          ]
        }
      ]
    },
    {
      "cell_type": "code",
      "execution_count": null,
      "metadata": {
        "id": "hS9SRsqmGb-a"
      },
      "outputs": [],
      "source": [
        "import pickle\n",
        "import pandas as pd\n",
        "import numpy as np\n",
        "import matplotlib.pyplot as plt\n",
        "import re\n",
        "import urllib.request\n",
        "from konlpy.tag import Okt\n",
        "from tqdm import tqdm\n",
        "from tensorflow.keras.preprocessing.text import Tokenizer\n",
        "from tensorflow.keras.preprocessing.sequence import pad_sequences"
      ]
    },
    {
      "cell_type": "code",
      "source": [
        "urllib.request.urlretrieve(\"https://raw.githubusercontent.com/e9t/nsmc/master/ratings_train.txt\", filename=\"ratings_train.txt\")\n",
        "urllib.request.urlretrieve(\"https://raw.githubusercontent.com/e9t/nsmc/master/ratings_test.txt\", filename=\"ratings_test.txt\")"
      ],
      "metadata": {
        "colab": {
          "base_uri": "https://localhost:8080/"
        },
        "id": "CvKeHxG5GssT",
        "outputId": "b752e92a-d4a7-47df-ded9-a33234dc7c3a"
      },
      "execution_count": null,
      "outputs": [
        {
          "output_type": "execute_result",
          "data": {
            "text/plain": [
              "('ratings_test.txt', <http.client.HTTPMessage at 0x7f314879ecb0>)"
            ]
          },
          "metadata": {},
          "execution_count": 31
        }
      ]
    },
    {
      "cell_type": "code",
      "source": [
        "train_data = pd.read_table('ratings_train.txt')\n",
        "test_data = pd.read_table('ratings_test.txt')"
      ],
      "metadata": {
        "id": "9A7nY-SKHP2R"
      },
      "execution_count": null,
      "outputs": []
    },
    {
      "cell_type": "code",
      "source": [
        "print('훈련용 리뷰 개수 :',len(train_data)) # 훈련용 리뷰 개수 출력"
      ],
      "metadata": {
        "id": "aTPBMJmcHXVf",
        "colab": {
          "base_uri": "https://localhost:8080/"
        },
        "outputId": "c64aa3ea-aeda-4820-c67b-327b80fb4cad"
      },
      "execution_count": null,
      "outputs": [
        {
          "output_type": "stream",
          "name": "stdout",
          "text": [
            "훈련용 리뷰 개수 : 150000\n"
          ]
        }
      ]
    },
    {
      "cell_type": "code",
      "source": [
        "train_data[:5] # 상위 5개 출력"
      ],
      "metadata": {
        "id": "yW1UW9n4HavG",
        "colab": {
          "base_uri": "https://localhost:8080/",
          "height": 206
        },
        "outputId": "c17e5f82-d833-4e2a-ea2b-d434df697774"
      },
      "execution_count": null,
      "outputs": [
        {
          "output_type": "execute_result",
          "data": {
            "text/plain": [
              "         id                                           document  label\n",
              "0   9976970                                아 더빙.. 진짜 짜증나네요 목소리      0\n",
              "1   3819312                  흠...포스터보고 초딩영화줄....오버연기조차 가볍지 않구나      1\n",
              "2  10265843                                  너무재밓었다그래서보는것을추천한다      0\n",
              "3   9045019                      교도소 이야기구먼 ..솔직히 재미는 없다..평점 조정      0\n",
              "4   6483659  사이몬페그의 익살스런 연기가 돋보였던 영화!스파이더맨에서 늙어보이기만 했던 커스틴 ...      1"
            ],
            "text/html": [
              "\n",
              "  <div id=\"df-fc847016-1483-4132-b799-730874468e9c\">\n",
              "    <div class=\"colab-df-container\">\n",
              "      <div>\n",
              "<style scoped>\n",
              "    .dataframe tbody tr th:only-of-type {\n",
              "        vertical-align: middle;\n",
              "    }\n",
              "\n",
              "    .dataframe tbody tr th {\n",
              "        vertical-align: top;\n",
              "    }\n",
              "\n",
              "    .dataframe thead th {\n",
              "        text-align: right;\n",
              "    }\n",
              "</style>\n",
              "<table border=\"1\" class=\"dataframe\">\n",
              "  <thead>\n",
              "    <tr style=\"text-align: right;\">\n",
              "      <th></th>\n",
              "      <th>id</th>\n",
              "      <th>document</th>\n",
              "      <th>label</th>\n",
              "    </tr>\n",
              "  </thead>\n",
              "  <tbody>\n",
              "    <tr>\n",
              "      <th>0</th>\n",
              "      <td>9976970</td>\n",
              "      <td>아 더빙.. 진짜 짜증나네요 목소리</td>\n",
              "      <td>0</td>\n",
              "    </tr>\n",
              "    <tr>\n",
              "      <th>1</th>\n",
              "      <td>3819312</td>\n",
              "      <td>흠...포스터보고 초딩영화줄....오버연기조차 가볍지 않구나</td>\n",
              "      <td>1</td>\n",
              "    </tr>\n",
              "    <tr>\n",
              "      <th>2</th>\n",
              "      <td>10265843</td>\n",
              "      <td>너무재밓었다그래서보는것을추천한다</td>\n",
              "      <td>0</td>\n",
              "    </tr>\n",
              "    <tr>\n",
              "      <th>3</th>\n",
              "      <td>9045019</td>\n",
              "      <td>교도소 이야기구먼 ..솔직히 재미는 없다..평점 조정</td>\n",
              "      <td>0</td>\n",
              "    </tr>\n",
              "    <tr>\n",
              "      <th>4</th>\n",
              "      <td>6483659</td>\n",
              "      <td>사이몬페그의 익살스런 연기가 돋보였던 영화!스파이더맨에서 늙어보이기만 했던 커스틴 ...</td>\n",
              "      <td>1</td>\n",
              "    </tr>\n",
              "  </tbody>\n",
              "</table>\n",
              "</div>\n",
              "      <button class=\"colab-df-convert\" onclick=\"convertToInteractive('df-fc847016-1483-4132-b799-730874468e9c')\"\n",
              "              title=\"Convert this dataframe to an interactive table.\"\n",
              "              style=\"display:none;\">\n",
              "        \n",
              "  <svg xmlns=\"http://www.w3.org/2000/svg\" height=\"24px\"viewBox=\"0 0 24 24\"\n",
              "       width=\"24px\">\n",
              "    <path d=\"M0 0h24v24H0V0z\" fill=\"none\"/>\n",
              "    <path d=\"M18.56 5.44l.94 2.06.94-2.06 2.06-.94-2.06-.94-.94-2.06-.94 2.06-2.06.94zm-11 1L8.5 8.5l.94-2.06 2.06-.94-2.06-.94L8.5 2.5l-.94 2.06-2.06.94zm10 10l.94 2.06.94-2.06 2.06-.94-2.06-.94-.94-2.06-.94 2.06-2.06.94z\"/><path d=\"M17.41 7.96l-1.37-1.37c-.4-.4-.92-.59-1.43-.59-.52 0-1.04.2-1.43.59L10.3 9.45l-7.72 7.72c-.78.78-.78 2.05 0 2.83L4 21.41c.39.39.9.59 1.41.59.51 0 1.02-.2 1.41-.59l7.78-7.78 2.81-2.81c.8-.78.8-2.07 0-2.86zM5.41 20L4 18.59l7.72-7.72 1.47 1.35L5.41 20z\"/>\n",
              "  </svg>\n",
              "      </button>\n",
              "      \n",
              "  <style>\n",
              "    .colab-df-container {\n",
              "      display:flex;\n",
              "      flex-wrap:wrap;\n",
              "      gap: 12px;\n",
              "    }\n",
              "\n",
              "    .colab-df-convert {\n",
              "      background-color: #E8F0FE;\n",
              "      border: none;\n",
              "      border-radius: 50%;\n",
              "      cursor: pointer;\n",
              "      display: none;\n",
              "      fill: #1967D2;\n",
              "      height: 32px;\n",
              "      padding: 0 0 0 0;\n",
              "      width: 32px;\n",
              "    }\n",
              "\n",
              "    .colab-df-convert:hover {\n",
              "      background-color: #E2EBFA;\n",
              "      box-shadow: 0px 1px 2px rgba(60, 64, 67, 0.3), 0px 1px 3px 1px rgba(60, 64, 67, 0.15);\n",
              "      fill: #174EA6;\n",
              "    }\n",
              "\n",
              "    [theme=dark] .colab-df-convert {\n",
              "      background-color: #3B4455;\n",
              "      fill: #D2E3FC;\n",
              "    }\n",
              "\n",
              "    [theme=dark] .colab-df-convert:hover {\n",
              "      background-color: #434B5C;\n",
              "      box-shadow: 0px 1px 3px 1px rgba(0, 0, 0, 0.15);\n",
              "      filter: drop-shadow(0px 1px 2px rgba(0, 0, 0, 0.3));\n",
              "      fill: #FFFFFF;\n",
              "    }\n",
              "  </style>\n",
              "\n",
              "      <script>\n",
              "        const buttonEl =\n",
              "          document.querySelector('#df-fc847016-1483-4132-b799-730874468e9c button.colab-df-convert');\n",
              "        buttonEl.style.display =\n",
              "          google.colab.kernel.accessAllowed ? 'block' : 'none';\n",
              "\n",
              "        async function convertToInteractive(key) {\n",
              "          const element = document.querySelector('#df-fc847016-1483-4132-b799-730874468e9c');\n",
              "          const dataTable =\n",
              "            await google.colab.kernel.invokeFunction('convertToInteractive',\n",
              "                                                     [key], {});\n",
              "          if (!dataTable) return;\n",
              "\n",
              "          const docLinkHtml = 'Like what you see? Visit the ' +\n",
              "            '<a target=\"_blank\" href=https://colab.research.google.com/notebooks/data_table.ipynb>data table notebook</a>'\n",
              "            + ' to learn more about interactive tables.';\n",
              "          element.innerHTML = '';\n",
              "          dataTable['output_type'] = 'display_data';\n",
              "          await google.colab.output.renderOutput(dataTable, element);\n",
              "          const docLink = document.createElement('div');\n",
              "          docLink.innerHTML = docLinkHtml;\n",
              "          element.appendChild(docLink);\n",
              "        }\n",
              "      </script>\n",
              "    </div>\n",
              "  </div>\n",
              "  "
            ]
          },
          "metadata": {},
          "execution_count": 34
        }
      ]
    },
    {
      "cell_type": "code",
      "source": [
        "print('테스트용 리뷰 개수 :',len(test_data)) # 테스트용 리뷰 개수 출력"
      ],
      "metadata": {
        "id": "gRxLidYwHc8v",
        "colab": {
          "base_uri": "https://localhost:8080/"
        },
        "outputId": "e5b728ea-f9d5-4612-d43b-6f058bb5c118"
      },
      "execution_count": null,
      "outputs": [
        {
          "output_type": "stream",
          "name": "stdout",
          "text": [
            "테스트용 리뷰 개수 : 50000\n"
          ]
        }
      ]
    },
    {
      "cell_type": "code",
      "source": [
        "test_data[:5]"
      ],
      "metadata": {
        "id": "QusfPnhNHgcu",
        "colab": {
          "base_uri": "https://localhost:8080/",
          "height": 206
        },
        "outputId": "c2934b7d-bb0d-47fd-f86f-4014b4f81fad"
      },
      "execution_count": null,
      "outputs": [
        {
          "output_type": "execute_result",
          "data": {
            "text/plain": [
              "        id                                           document  label\n",
              "0  6270596                                                굳 ㅋ      1\n",
              "1  9274899                               GDNTOPCLASSINTHECLUB      0\n",
              "2  8544678             뭐야 이 평점들은.... 나쁘진 않지만 10점 짜리는 더더욱 아니잖아      0\n",
              "3  6825595                   지루하지는 않은데 완전 막장임... 돈주고 보기에는....      0\n",
              "4  6723715  3D만 아니었어도 별 다섯 개 줬을텐데.. 왜 3D로 나와서 제 심기를 불편하게 하죠??      0"
            ],
            "text/html": [
              "\n",
              "  <div id=\"df-88fba732-2fe5-433b-a505-2106a3fc10c9\">\n",
              "    <div class=\"colab-df-container\">\n",
              "      <div>\n",
              "<style scoped>\n",
              "    .dataframe tbody tr th:only-of-type {\n",
              "        vertical-align: middle;\n",
              "    }\n",
              "\n",
              "    .dataframe tbody tr th {\n",
              "        vertical-align: top;\n",
              "    }\n",
              "\n",
              "    .dataframe thead th {\n",
              "        text-align: right;\n",
              "    }\n",
              "</style>\n",
              "<table border=\"1\" class=\"dataframe\">\n",
              "  <thead>\n",
              "    <tr style=\"text-align: right;\">\n",
              "      <th></th>\n",
              "      <th>id</th>\n",
              "      <th>document</th>\n",
              "      <th>label</th>\n",
              "    </tr>\n",
              "  </thead>\n",
              "  <tbody>\n",
              "    <tr>\n",
              "      <th>0</th>\n",
              "      <td>6270596</td>\n",
              "      <td>굳 ㅋ</td>\n",
              "      <td>1</td>\n",
              "    </tr>\n",
              "    <tr>\n",
              "      <th>1</th>\n",
              "      <td>9274899</td>\n",
              "      <td>GDNTOPCLASSINTHECLUB</td>\n",
              "      <td>0</td>\n",
              "    </tr>\n",
              "    <tr>\n",
              "      <th>2</th>\n",
              "      <td>8544678</td>\n",
              "      <td>뭐야 이 평점들은.... 나쁘진 않지만 10점 짜리는 더더욱 아니잖아</td>\n",
              "      <td>0</td>\n",
              "    </tr>\n",
              "    <tr>\n",
              "      <th>3</th>\n",
              "      <td>6825595</td>\n",
              "      <td>지루하지는 않은데 완전 막장임... 돈주고 보기에는....</td>\n",
              "      <td>0</td>\n",
              "    </tr>\n",
              "    <tr>\n",
              "      <th>4</th>\n",
              "      <td>6723715</td>\n",
              "      <td>3D만 아니었어도 별 다섯 개 줬을텐데.. 왜 3D로 나와서 제 심기를 불편하게 하죠??</td>\n",
              "      <td>0</td>\n",
              "    </tr>\n",
              "  </tbody>\n",
              "</table>\n",
              "</div>\n",
              "      <button class=\"colab-df-convert\" onclick=\"convertToInteractive('df-88fba732-2fe5-433b-a505-2106a3fc10c9')\"\n",
              "              title=\"Convert this dataframe to an interactive table.\"\n",
              "              style=\"display:none;\">\n",
              "        \n",
              "  <svg xmlns=\"http://www.w3.org/2000/svg\" height=\"24px\"viewBox=\"0 0 24 24\"\n",
              "       width=\"24px\">\n",
              "    <path d=\"M0 0h24v24H0V0z\" fill=\"none\"/>\n",
              "    <path d=\"M18.56 5.44l.94 2.06.94-2.06 2.06-.94-2.06-.94-.94-2.06-.94 2.06-2.06.94zm-11 1L8.5 8.5l.94-2.06 2.06-.94-2.06-.94L8.5 2.5l-.94 2.06-2.06.94zm10 10l.94 2.06.94-2.06 2.06-.94-2.06-.94-.94-2.06-.94 2.06-2.06.94z\"/><path d=\"M17.41 7.96l-1.37-1.37c-.4-.4-.92-.59-1.43-.59-.52 0-1.04.2-1.43.59L10.3 9.45l-7.72 7.72c-.78.78-.78 2.05 0 2.83L4 21.41c.39.39.9.59 1.41.59.51 0 1.02-.2 1.41-.59l7.78-7.78 2.81-2.81c.8-.78.8-2.07 0-2.86zM5.41 20L4 18.59l7.72-7.72 1.47 1.35L5.41 20z\"/>\n",
              "  </svg>\n",
              "      </button>\n",
              "      \n",
              "  <style>\n",
              "    .colab-df-container {\n",
              "      display:flex;\n",
              "      flex-wrap:wrap;\n",
              "      gap: 12px;\n",
              "    }\n",
              "\n",
              "    .colab-df-convert {\n",
              "      background-color: #E8F0FE;\n",
              "      border: none;\n",
              "      border-radius: 50%;\n",
              "      cursor: pointer;\n",
              "      display: none;\n",
              "      fill: #1967D2;\n",
              "      height: 32px;\n",
              "      padding: 0 0 0 0;\n",
              "      width: 32px;\n",
              "    }\n",
              "\n",
              "    .colab-df-convert:hover {\n",
              "      background-color: #E2EBFA;\n",
              "      box-shadow: 0px 1px 2px rgba(60, 64, 67, 0.3), 0px 1px 3px 1px rgba(60, 64, 67, 0.15);\n",
              "      fill: #174EA6;\n",
              "    }\n",
              "\n",
              "    [theme=dark] .colab-df-convert {\n",
              "      background-color: #3B4455;\n",
              "      fill: #D2E3FC;\n",
              "    }\n",
              "\n",
              "    [theme=dark] .colab-df-convert:hover {\n",
              "      background-color: #434B5C;\n",
              "      box-shadow: 0px 1px 3px 1px rgba(0, 0, 0, 0.15);\n",
              "      filter: drop-shadow(0px 1px 2px rgba(0, 0, 0, 0.3));\n",
              "      fill: #FFFFFF;\n",
              "    }\n",
              "  </style>\n",
              "\n",
              "      <script>\n",
              "        const buttonEl =\n",
              "          document.querySelector('#df-88fba732-2fe5-433b-a505-2106a3fc10c9 button.colab-df-convert');\n",
              "        buttonEl.style.display =\n",
              "          google.colab.kernel.accessAllowed ? 'block' : 'none';\n",
              "\n",
              "        async function convertToInteractive(key) {\n",
              "          const element = document.querySelector('#df-88fba732-2fe5-433b-a505-2106a3fc10c9');\n",
              "          const dataTable =\n",
              "            await google.colab.kernel.invokeFunction('convertToInteractive',\n",
              "                                                     [key], {});\n",
              "          if (!dataTable) return;\n",
              "\n",
              "          const docLinkHtml = 'Like what you see? Visit the ' +\n",
              "            '<a target=\"_blank\" href=https://colab.research.google.com/notebooks/data_table.ipynb>data table notebook</a>'\n",
              "            + ' to learn more about interactive tables.';\n",
              "          element.innerHTML = '';\n",
              "          dataTable['output_type'] = 'display_data';\n",
              "          await google.colab.output.renderOutput(dataTable, element);\n",
              "          const docLink = document.createElement('div');\n",
              "          docLink.innerHTML = docLinkHtml;\n",
              "          element.appendChild(docLink);\n",
              "        }\n",
              "      </script>\n",
              "    </div>\n",
              "  </div>\n",
              "  "
            ]
          },
          "metadata": {},
          "execution_count": 36
        }
      ]
    },
    {
      "cell_type": "code",
      "source": [
        "# document 열과 label 열의 중복을 제외한 값의 개수\n",
        "train_data['document'].nunique(), train_data['label'].nunique()"
      ],
      "metadata": {
        "id": "SifYAqufHh9Z",
        "colab": {
          "base_uri": "https://localhost:8080/"
        },
        "outputId": "111e6c2c-ed74-4a59-d72a-fad2de687dc3"
      },
      "execution_count": null,
      "outputs": [
        {
          "output_type": "execute_result",
          "data": {
            "text/plain": [
              "(146182, 2)"
            ]
          },
          "metadata": {},
          "execution_count": 37
        }
      ]
    },
    {
      "cell_type": "code",
      "source": [
        "# document 열의 중복 제거\n",
        "train_data.drop_duplicates(subset=['document'], inplace=True)"
      ],
      "metadata": {
        "id": "vHb3o-KdHooj"
      },
      "execution_count": null,
      "outputs": []
    },
    {
      "cell_type": "code",
      "source": [
        "print('총 샘플의 수 :',len(train_data))"
      ],
      "metadata": {
        "id": "hsuhVKJVHq2A",
        "colab": {
          "base_uri": "https://localhost:8080/"
        },
        "outputId": "af779fe9-25d2-47b0-9582-8ddbc9792831"
      },
      "execution_count": null,
      "outputs": [
        {
          "output_type": "stream",
          "name": "stdout",
          "text": [
            "총 샘플의 수 : 146183\n"
          ]
        }
      ]
    },
    {
      "cell_type": "code",
      "source": [
        "train_data['label'].value_counts().plot(kind = 'bar')"
      ],
      "metadata": {
        "id": "B_rlkch3HuLo",
        "colab": {
          "base_uri": "https://localhost:8080/",
          "height": 443
        },
        "outputId": "466b98de-bb23-4e4a-8876-247c47ebfdb9"
      },
      "execution_count": null,
      "outputs": [
        {
          "output_type": "execute_result",
          "data": {
            "text/plain": [
              "<Axes: >"
            ]
          },
          "metadata": {},
          "execution_count": 40
        },
        {
          "output_type": "display_data",
          "data": {
            "text/plain": [
              "<Figure size 640x480 with 1 Axes>"
            ],
            "image/png": "[encoded data removed]"
          },
          "metadata": {}
        }
      ]
    },
    {
      "cell_type": "code",
      "source": [
        "print(train_data.groupby('label').size().reset_index(name = 'count'))"
      ],
      "metadata": {
        "id": "lQ1pPm65HwV8",
        "colab": {
          "base_uri": "https://localhost:8080/"
        },
        "outputId": "572dcb60-db13-41b7-8850-9923aba0fc69"
      },
      "execution_count": null,
      "outputs": [
        {
          "output_type": "stream",
          "name": "stdout",
          "text": [
            "   label  count\n",
            "0      0  73342\n",
            "1      1  72841\n"
          ]
        }
      ]
    },
    {
      "cell_type": "code",
      "source": [
        "print(train_data.isnull().values.any())"
      ],
      "metadata": {
        "id": "z9Lqbm_KH1E0",
        "colab": {
          "base_uri": "https://localhost:8080/"
        },
        "outputId": "6f3e4f4c-0834-4433-8151-46d2033903e9"
      },
      "execution_count": null,
      "outputs": [
        {
          "output_type": "stream",
          "name": "stdout",
          "text": [
            "True\n"
          ]
        }
      ]
    },
    {
      "cell_type": "code",
      "source": [
        "print(train_data.isnull().sum())"
      ],
      "metadata": {
        "id": "RoxidO6KH4dY",
        "colab": {
          "base_uri": "https://localhost:8080/"
        },
        "outputId": "af7a707b-c56a-4061-996e-41053d1ea5b6"
      },
      "execution_count": null,
      "outputs": [
        {
          "output_type": "stream",
          "name": "stdout",
          "text": [
            "id          0\n",
            "document    1\n",
            "label       0\n",
            "dtype: int64\n"
          ]
        }
      ]
    },
    {
      "cell_type": "code",
      "source": [
        "train_data.loc[train_data.document.isnull()]"
      ],
      "metadata": {
        "id": "TIJeW2ZiH9g5",
        "colab": {
          "base_uri": "https://localhost:8080/",
          "height": 81
        },
        "outputId": "71d788cd-7bfd-4866-c05a-80ee421fb0af"
      },
      "execution_count": null,
      "outputs": [
        {
          "output_type": "execute_result",
          "data": {
            "text/plain": [
              "            id document  label\n",
              "25857  2172111      NaN      1"
            ],
            "text/html": [
              "\n",
              "  <div id=\"df-7ef8b277-834d-4092-b0bb-12af20da78ee\">\n",
              "    <div class=\"colab-df-container\">\n",
              "      <div>\n",
              "<style scoped>\n",
              "    .dataframe tbody tr th:only-of-type {\n",
              "        vertical-align: middle;\n",
              "    }\n",
              "\n",
              "    .dataframe tbody tr th {\n",
              "        vertical-align: top;\n",
              "    }\n",
              "\n",
              "    .dataframe thead th {\n",
              "        text-align: right;\n",
              "    }\n",
              "</style>\n",
              "<table border=\"1\" class=\"dataframe\">\n",
              "  <thead>\n",
              "    <tr style=\"text-align: right;\">\n",
              "      <th></th>\n",
              "      <th>id</th>\n",
              "      <th>document</th>\n",
              "      <th>label</th>\n",
              "    </tr>\n",
              "  </thead>\n",
              "  <tbody>\n",
              "    <tr>\n",
              "      <th>25857</th>\n",
              "      <td>2172111</td>\n",
              "      <td>NaN</td>\n",
              "      <td>1</td>\n",
              "    </tr>\n",
              "  </tbody>\n",
              "</table>\n",
              "</div>\n",
              "      <button class=\"colab-df-convert\" onclick=\"convertToInteractive('df-7ef8b277-834d-4092-b0bb-12af20da78ee')\"\n",
              "              title=\"Convert this dataframe to an interactive table.\"\n",
              "              style=\"display:none;\">\n",
              "        \n",
              "  <svg xmlns=\"http://www.w3.org/2000/svg\" height=\"24px\"viewBox=\"0 0 24 24\"\n",
              "       width=\"24px\">\n",
              "    <path d=\"M0 0h24v24H0V0z\" fill=\"none\"/>\n",
              "    <path d=\"M18.56 5.44l.94 2.06.94-2.06 2.06-.94-2.06-.94-.94-2.06-.94 2.06-2.06.94zm-11 1L8.5 8.5l.94-2.06 2.06-.94-2.06-.94L8.5 2.5l-.94 2.06-2.06.94zm10 10l.94 2.06.94-2.06 2.06-.94-2.06-.94-.94-2.06-.94 2.06-2.06.94z\"/><path d=\"M17.41 7.96l-1.37-1.37c-.4-.4-.92-.59-1.43-.59-.52 0-1.04.2-1.43.59L10.3 9.45l-7.72 7.72c-.78.78-.78 2.05 0 2.83L4 21.41c.39.39.9.59 1.41.59.51 0 1.02-.2 1.41-.59l7.78-7.78 2.81-2.81c.8-.78.8-2.07 0-2.86zM5.41 20L4 18.59l7.72-7.72 1.47 1.35L5.41 20z\"/>\n",
              "  </svg>\n",
              "      </button>\n",
              "      \n",
              "  <style>\n",
              "    .colab-df-container {\n",
              "      display:flex;\n",
              "      flex-wrap:wrap;\n",
              "      gap: 12px;\n",
              "    }\n",
              "\n",
              "    .colab-df-convert {\n",
              "      background-color: #E8F0FE;\n",
              "      border: none;\n",
              "      border-radius: 50%;\n",
              "      cursor: pointer;\n",
              "      display: none;\n",
              "      fill: #1967D2;\n",
              "      height: 32px;\n",
              "      padding: 0 0 0 0;\n",
              "      width: 32px;\n",
              "    }\n",
              "\n",
              "    .colab-df-convert:hover {\n",
              "      background-color: #E2EBFA;\n",
              "      box-shadow: 0px 1px 2px rgba(60, 64, 67, 0.3), 0px 1px 3px 1px rgba(60, 64, 67, 0.15);\n",
              "      fill: #174EA6;\n",
              "    }\n",
              "\n",
              "    [theme=dark] .colab-df-convert {\n",
              "      background-color: #3B4455;\n",
              "      fill: #D2E3FC;\n",
              "    }\n",
              "\n",
              "    [theme=dark] .colab-df-convert:hover {\n",
              "      background-color: #434B5C;\n",
              "      box-shadow: 0px 1px 3px 1px rgba(0, 0, 0, 0.15);\n",
              "      filter: drop-shadow(0px 1px 2px rgba(0, 0, 0, 0.3));\n",
              "      fill: #FFFFFF;\n",
              "    }\n",
              "  </style>\n",
              "\n",
              "      <script>\n",
              "        const buttonEl =\n",
              "          document.querySelector('#df-7ef8b277-834d-4092-b0bb-12af20da78ee button.colab-df-convert');\n",
              "        buttonEl.style.display =\n",
              "          google.colab.kernel.accessAllowed ? 'block' : 'none';\n",
              "\n",
              "        async function convertToInteractive(key) {\n",
              "          const element = document.querySelector('#df-7ef8b277-834d-4092-b0bb-12af20da78ee');\n",
              "          const dataTable =\n",
              "            await google.colab.kernel.invokeFunction('convertToInteractive',\n",
              "                                                     [key], {});\n",
              "          if (!dataTable) return;\n",
              "\n",
              "          const docLinkHtml = 'Like what you see? Visit the ' +\n",
              "            '<a target=\"_blank\" href=https://colab.research.google.com/notebooks/data_table.ipynb>data table notebook</a>'\n",
              "            + ' to learn more about interactive tables.';\n",
              "          element.innerHTML = '';\n",
              "          dataTable['output_type'] = 'display_data';\n",
              "          await google.colab.output.renderOutput(dataTable, element);\n",
              "          const docLink = document.createElement('div');\n",
              "          docLink.innerHTML = docLinkHtml;\n",
              "          element.appendChild(docLink);\n",
              "        }\n",
              "      </script>\n",
              "    </div>\n",
              "  </div>\n",
              "  "
            ]
          },
          "metadata": {},
          "execution_count": 44
        }
      ]
    },
    {
      "cell_type": "code",
      "source": [
        "train_data = train_data.dropna(how = 'any') # Null 값이 존재하는 행 제거\n",
        "print(train_data.isnull().values.any()) # Null 값이 존재하는지 확인"
      ],
      "metadata": {
        "id": "U1PHodAjIAra",
        "colab": {
          "base_uri": "https://localhost:8080/"
        },
        "outputId": "130671e1-100a-4126-a5ba-673fccd9a478"
      },
      "execution_count": null,
      "outputs": [
        {
          "output_type": "stream",
          "name": "stdout",
          "text": [
            "False\n"
          ]
        }
      ]
    },
    {
      "cell_type": "code",
      "source": [
        "print(len(train_data))"
      ],
      "metadata": {
        "id": "XqIzlz9pIDAz",
        "colab": {
          "base_uri": "https://localhost:8080/"
        },
        "outputId": "9a89ec64-2130-4b12-9332-e004b5c60bc7"
      },
      "execution_count": null,
      "outputs": [
        {
          "output_type": "stream",
          "name": "stdout",
          "text": [
            "146182\n"
          ]
        }
      ]
    },
    {
      "cell_type": "code",
      "source": [
        "# 한글과 공백을 제외하고 모두 제거\n",
        "train_data['document'] = train_data['document'].str.replace(\"[^ㄱ-ㅎㅏ-ㅣ가-힣 ]\",\"\")\n",
        "train_data[:5]"
      ],
      "metadata": {
        "id": "180TyIe1IH5A",
        "colab": {
          "base_uri": "https://localhost:8080/",
          "height": 263
        },
        "outputId": "f9e8702c-5b6d-4cbd-bc01-ba6a11ecff58"
      },
      "execution_count": null,
      "outputs": [
        {
          "output_type": "stream",
          "name": "stderr",
          "text": [
            "<ipython-input-47-4419b0600db1>:2: FutureWarning: The default value of regex will change from True to False in a future version.\n",
            "  train_data['document'] = train_data['document'].str.replace(\"[^ㄱ-ㅎㅏ-ㅣ가-힣 ]\",\"\")\n"
          ]
        },
        {
          "output_type": "execute_result",
          "data": {
            "text/plain": [
              "         id                                           document  label\n",
              "0   9976970                                  아 더빙 진짜 짜증나네요 목소리      0\n",
              "1   3819312                         흠포스터보고 초딩영화줄오버연기조차 가볍지 않구나      1\n",
              "2  10265843                                  너무재밓었다그래서보는것을추천한다      0\n",
              "3   9045019                          교도소 이야기구먼 솔직히 재미는 없다평점 조정      0\n",
              "4   6483659  사이몬페그의 익살스런 연기가 돋보였던 영화스파이더맨에서 늙어보이기만 했던 커스틴 던...      1"
            ],
            "text/html": [
              "\n",
              "  <div id=\"df-e5507a98-52b4-4de6-84b9-37bf1b5ba223\">\n",
              "    <div class=\"colab-df-container\">\n",
              "      <div>\n",
              "<style scoped>\n",
              "    .dataframe tbody tr th:only-of-type {\n",
              "        vertical-align: middle;\n",
              "    }\n",
              "\n",
              "    .dataframe tbody tr th {\n",
              "        vertical-align: top;\n",
              "    }\n",
              "\n",
              "    .dataframe thead th {\n",
              "        text-align: right;\n",
              "    }\n",
              "</style>\n",
              "<table border=\"1\" class=\"dataframe\">\n",
              "  <thead>\n",
              "    <tr style=\"text-align: right;\">\n",
              "      <th></th>\n",
              "      <th>id</th>\n",
              "      <th>document</th>\n",
              "      <th>label</th>\n",
              "    </tr>\n",
              "  </thead>\n",
              "  <tbody>\n",
              "    <tr>\n",
              "      <th>0</th>\n",
              "      <td>9976970</td>\n",
              "      <td>아 더빙 진짜 짜증나네요 목소리</td>\n",
              "      <td>0</td>\n",
              "    </tr>\n",
              "    <tr>\n",
              "      <th>1</th>\n",
              "      <td>3819312</td>\n",
              "      <td>흠포스터보고 초딩영화줄오버연기조차 가볍지 않구나</td>\n",
              "      <td>1</td>\n",
              "    </tr>\n",
              "    <tr>\n",
              "      <th>2</th>\n",
              "      <td>10265843</td>\n",
              "      <td>너무재밓었다그래서보는것을추천한다</td>\n",
              "      <td>0</td>\n",
              "    </tr>\n",
              "    <tr>\n",
              "      <th>3</th>\n",
              "      <td>9045019</td>\n",
              "      <td>교도소 이야기구먼 솔직히 재미는 없다평점 조정</td>\n",
              "      <td>0</td>\n",
              "    </tr>\n",
              "    <tr>\n",
              "      <th>4</th>\n",
              "      <td>6483659</td>\n",
              "      <td>사이몬페그의 익살스런 연기가 돋보였던 영화스파이더맨에서 늙어보이기만 했던 커스틴 던...</td>\n",
              "      <td>1</td>\n",
              "    </tr>\n",
              "  </tbody>\n",
              "</table>\n",
              "</div>\n",
              "      <button class=\"colab-df-convert\" onclick=\"convertToInteractive('df-e5507a98-52b4-4de6-84b9-37bf1b5ba223')\"\n",
              "              title=\"Convert this dataframe to an interactive table.\"\n",
              "              style=\"display:none;\">\n",
              "        \n",
              "  <svg xmlns=\"http://www.w3.org/2000/svg\" height=\"24px\"viewBox=\"0 0 24 24\"\n",
              "       width=\"24px\">\n",
              "    <path d=\"M0 0h24v24H0V0z\" fill=\"none\"/>\n",
              "    <path d=\"M18.56 5.44l.94 2.06.94-2.06 2.06-.94-2.06-.94-.94-2.06-.94 2.06-2.06.94zm-11 1L8.5 8.5l.94-2.06 2.06-.94-2.06-.94L8.5 2.5l-.94 2.06-2.06.94zm10 10l.94 2.06.94-2.06 2.06-.94-2.06-.94-.94-2.06-.94 2.06-2.06.94z\"/><path d=\"M17.41 7.96l-1.37-1.37c-.4-.4-.92-.59-1.43-.59-.52 0-1.04.2-1.43.59L10.3 9.45l-7.72 7.72c-.78.78-.78 2.05 0 2.83L4 21.41c.39.39.9.59 1.41.59.51 0 1.02-.2 1.41-.59l7.78-7.78 2.81-2.81c.8-.78.8-2.07 0-2.86zM5.41 20L4 18.59l7.72-7.72 1.47 1.35L5.41 20z\"/>\n",
              "  </svg>\n",
              "      </button>\n",
              "      \n",
              "  <style>\n",
              "    .colab-df-container {\n",
              "      display:flex;\n",
              "      flex-wrap:wrap;\n",
              "      gap: 12px;\n",
              "    }\n",
              "\n",
              "    .colab-df-convert {\n",
              "      background-color: #E8F0FE;\n",
              "      border: none;\n",
              "      border-radius: 50%;\n",
              "      cursor: pointer;\n",
              "      display: none;\n",
              "      fill: #1967D2;\n",
              "      height: 32px;\n",
              "      padding: 0 0 0 0;\n",
              "      width: 32px;\n",
              "    }\n",
              "\n",
              "    .colab-df-convert:hover {\n",
              "      background-color: #E2EBFA;\n",
              "      box-shadow: 0px 1px 2px rgba(60, 64, 67, 0.3), 0px 1px 3px 1px rgba(60, 64, 67, 0.15);\n",
              "      fill: #174EA6;\n",
              "    }\n",
              "\n",
              "    [theme=dark] .colab-df-convert {\n",
              "      background-color: #3B4455;\n",
              "      fill: #D2E3FC;\n",
              "    }\n",
              "\n",
              "    [theme=dark] .colab-df-convert:hover {\n",
              "      background-color: #434B5C;\n",
              "      box-shadow: 0px 1px 3px 1px rgba(0, 0, 0, 0.15);\n",
              "      filter: drop-shadow(0px 1px 2px rgba(0, 0, 0, 0.3));\n",
              "      fill: #FFFFFF;\n",
              "    }\n",
              "  </style>\n",
              "\n",
              "      <script>\n",
              "        const buttonEl =\n",
              "          document.querySelector('#df-e5507a98-52b4-4de6-84b9-37bf1b5ba223 button.colab-df-convert');\n",
              "        buttonEl.style.display =\n",
              "          google.colab.kernel.accessAllowed ? 'block' : 'none';\n",
              "\n",
              "        async function convertToInteractive(key) {\n",
              "          const element = document.querySelector('#df-e5507a98-52b4-4de6-84b9-37bf1b5ba223');\n",
              "          const dataTable =\n",
              "            await google.colab.kernel.invokeFunction('convertToInteractive',\n",
              "                                                     [key], {});\n",
              "          if (!dataTable) return;\n",
              "\n",
              "          const docLinkHtml = 'Like what you see? Visit the ' +\n",
              "            '<a target=\"_blank\" href=https://colab.research.google.com/notebooks/data_table.ipynb>data table notebook</a>'\n",
              "            + ' to learn more about interactive tables.';\n",
              "          element.innerHTML = '';\n",
              "          dataTable['output_type'] = 'display_data';\n",
              "          await google.colab.output.renderOutput(dataTable, element);\n",
              "          const docLink = document.createElement('div');\n",
              "          docLink.innerHTML = docLinkHtml;\n",
              "          element.appendChild(docLink);\n",
              "        }\n",
              "      </script>\n",
              "    </div>\n",
              "  </div>\n",
              "  "
            ]
          },
          "metadata": {},
          "execution_count": 47
        }
      ]
    },
    {
      "cell_type": "code",
      "source": [
        "train_data['document'] = train_data['document'].str.replace('^ +', \"\") # white space 데이터를 empty value로 변경\n",
        "train_data['document'].replace('', np.nan, inplace=True)\n",
        "print(train_data.isnull().sum())"
      ],
      "metadata": {
        "id": "cq7yYoruIM-h",
        "colab": {
          "base_uri": "https://localhost:8080/"
        },
        "outputId": "41ec1e8c-5ef6-4208-89e4-2ea05bd9ff38"
      },
      "execution_count": null,
      "outputs": [
        {
          "output_type": "stream",
          "name": "stderr",
          "text": [
            "<ipython-input-48-c2f9538d5bc3>:1: FutureWarning: The default value of regex will change from True to False in a future version.\n",
            "  train_data['document'] = train_data['document'].str.replace('^ +', \"\") # white space 데이터를 empty value로 변경\n"
          ]
        },
        {
          "output_type": "stream",
          "name": "stdout",
          "text": [
            "id            0\n",
            "document    789\n",
            "label         0\n",
            "dtype: int64\n"
          ]
        }
      ]
    },
    {
      "cell_type": "code",
      "source": [
        "train_data.loc[train_data.document.isnull()][:5]"
      ],
      "metadata": {
        "id": "YWiAtzM4ITXC",
        "colab": {
          "base_uri": "https://localhost:8080/",
          "height": 206
        },
        "outputId": "fd9b335b-95cf-4f7e-d349-8f6b7eaee7dd"
      },
      "execution_count": null,
      "outputs": [
        {
          "output_type": "execute_result",
          "data": {
            "text/plain": [
              "           id document  label\n",
              "404   4221289      NaN      0\n",
              "412   9509970      NaN      1\n",
              "470  10147571      NaN      1\n",
              "584   7117896      NaN      0\n",
              "593   6478189      NaN      0"
            ],
            "text/html": [
              "\n",
              "  <div id=\"df-51e33e8e-6935-4bfc-8ff1-acca99db8873\">\n",
              "    <div class=\"colab-df-container\">\n",
              "      <div>\n",
              "<style scoped>\n",
              "    .dataframe tbody tr th:only-of-type {\n",
              "        vertical-align: middle;\n",
              "    }\n",
              "\n",
              "    .dataframe tbody tr th {\n",
              "        vertical-align: top;\n",
              "    }\n",
              "\n",
              "    .dataframe thead th {\n",
              "        text-align: right;\n",
              "    }\n",
              "</style>\n",
              "<table border=\"1\" class=\"dataframe\">\n",
              "  <thead>\n",
              "    <tr style=\"text-align: right;\">\n",
              "      <th></th>\n",
              "      <th>id</th>\n",
              "      <th>document</th>\n",
              "      <th>label</th>\n",
              "    </tr>\n",
              "  </thead>\n",
              "  <tbody>\n",
              "    <tr>\n",
              "      <th>404</th>\n",
              "      <td>4221289</td>\n",
              "      <td>NaN</td>\n",
              "      <td>0</td>\n",
              "    </tr>\n",
              "    <tr>\n",
              "      <th>412</th>\n",
              "      <td>9509970</td>\n",
              "      <td>NaN</td>\n",
              "      <td>1</td>\n",
              "    </tr>\n",
              "    <tr>\n",
              "      <th>470</th>\n",
              "      <td>10147571</td>\n",
              "      <td>NaN</td>\n",
              "      <td>1</td>\n",
              "    </tr>\n",
              "    <tr>\n",
              "      <th>584</th>\n",
              "      <td>7117896</td>\n",
              "      <td>NaN</td>\n",
              "      <td>0</td>\n",
              "    </tr>\n",
              "    <tr>\n",
              "      <th>593</th>\n",
              "      <td>6478189</td>\n",
              "      <td>NaN</td>\n",
              "      <td>0</td>\n",
              "    </tr>\n",
              "  </tbody>\n",
              "</table>\n",
              "</div>\n",
              "      <button class=\"colab-df-convert\" onclick=\"convertToInteractive('df-51e33e8e-6935-4bfc-8ff1-acca99db8873')\"\n",
              "              title=\"Convert this dataframe to an interactive table.\"\n",
              "              style=\"display:none;\">\n",
              "        \n",
              "  <svg xmlns=\"http://www.w3.org/2000/svg\" height=\"24px\"viewBox=\"0 0 24 24\"\n",
              "       width=\"24px\">\n",
              "    <path d=\"M0 0h24v24H0V0z\" fill=\"none\"/>\n",
              "    <path d=\"M18.56 5.44l.94 2.06.94-2.06 2.06-.94-2.06-.94-.94-2.06-.94 2.06-2.06.94zm-11 1L8.5 8.5l.94-2.06 2.06-.94-2.06-.94L8.5 2.5l-.94 2.06-2.06.94zm10 10l.94 2.06.94-2.06 2.06-.94-2.06-.94-.94-2.06-.94 2.06-2.06.94z\"/><path d=\"M17.41 7.96l-1.37-1.37c-.4-.4-.92-.59-1.43-.59-.52 0-1.04.2-1.43.59L10.3 9.45l-7.72 7.72c-.78.78-.78 2.05 0 2.83L4 21.41c.39.39.9.59 1.41.59.51 0 1.02-.2 1.41-.59l7.78-7.78 2.81-2.81c.8-.78.8-2.07 0-2.86zM5.41 20L4 18.59l7.72-7.72 1.47 1.35L5.41 20z\"/>\n",
              "  </svg>\n",
              "      </button>\n",
              "      \n",
              "  <style>\n",
              "    .colab-df-container {\n",
              "      display:flex;\n",
              "      flex-wrap:wrap;\n",
              "      gap: 12px;\n",
              "    }\n",
              "\n",
              "    .colab-df-convert {\n",
              "      background-color: #E8F0FE;\n",
              "      border: none;\n",
              "      border-radius: 50%;\n",
              "      cursor: pointer;\n",
              "      display: none;\n",
              "      fill: #1967D2;\n",
              "      height: 32px;\n",
              "      padding: 0 0 0 0;\n",
              "      width: 32px;\n",
              "    }\n",
              "\n",
              "    .colab-df-convert:hover {\n",
              "      background-color: #E2EBFA;\n",
              "      box-shadow: 0px 1px 2px rgba(60, 64, 67, 0.3), 0px 1px 3px 1px rgba(60, 64, 67, 0.15);\n",
              "      fill: #174EA6;\n",
              "    }\n",
              "\n",
              "    [theme=dark] .colab-df-convert {\n",
              "      background-color: #3B4455;\n",
              "      fill: #D2E3FC;\n",
              "    }\n",
              "\n",
              "    [theme=dark] .colab-df-convert:hover {\n",
              "      background-color: #434B5C;\n",
              "      box-shadow: 0px 1px 3px 1px rgba(0, 0, 0, 0.15);\n",
              "      filter: drop-shadow(0px 1px 2px rgba(0, 0, 0, 0.3));\n",
              "      fill: #FFFFFF;\n",
              "    }\n",
              "  </style>\n",
              "\n",
              "      <script>\n",
              "        const buttonEl =\n",
              "          document.querySelector('#df-51e33e8e-6935-4bfc-8ff1-acca99db8873 button.colab-df-convert');\n",
              "        buttonEl.style.display =\n",
              "          google.colab.kernel.accessAllowed ? 'block' : 'none';\n",
              "\n",
              "        async function convertToInteractive(key) {\n",
              "          const element = document.querySelector('#df-51e33e8e-6935-4bfc-8ff1-acca99db8873');\n",
              "          const dataTable =\n",
              "            await google.colab.kernel.invokeFunction('convertToInteractive',\n",
              "                                                     [key], {});\n",
              "          if (!dataTable) return;\n",
              "\n",
              "          const docLinkHtml = 'Like what you see? Visit the ' +\n",
              "            '<a target=\"_blank\" href=https://colab.research.google.com/notebooks/data_table.ipynb>data table notebook</a>'\n",
              "            + ' to learn more about interactive tables.';\n",
              "          element.innerHTML = '';\n",
              "          dataTable['output_type'] = 'display_data';\n",
              "          await google.colab.output.renderOutput(dataTable, element);\n",
              "          const docLink = document.createElement('div');\n",
              "          docLink.innerHTML = docLinkHtml;\n",
              "          element.appendChild(docLink);\n",
              "        }\n",
              "      </script>\n",
              "    </div>\n",
              "  </div>\n",
              "  "
            ]
          },
          "metadata": {},
          "execution_count": 49
        }
      ]
    },
    {
      "cell_type": "code",
      "source": [
        "train_data = train_data.dropna(how = 'any')\n",
        "print(len(train_data))"
      ],
      "metadata": {
        "id": "vAL9sxNTIWsH",
        "colab": {
          "base_uri": "https://localhost:8080/"
        },
        "outputId": "1157e89b-1afa-4901-f89b-834bcfcd540a"
      },
      "execution_count": null,
      "outputs": [
        {
          "output_type": "stream",
          "name": "stdout",
          "text": [
            "145393\n"
          ]
        }
      ]
    },
    {
      "cell_type": "code",
      "source": [
        "test_data.drop_duplicates(subset = ['document'], inplace=True) # document 열에서 중복인 내용이 있다면 중복 제거\n",
        "test_data['document'] = test_data['document'].str.replace(\"[^ㄱ-ㅎㅏ-ㅣ가-힣 ]\",\"\") # 정규 표현식 수행\n",
        "test_data['document'] = test_data['document'].str.replace('^ +', \"\") # 공백은 empty 값으로 변경\n",
        "test_data['document'].replace('', np.nan, inplace=True) # 공백은 Null 값으로 변경\n",
        "test_data = test_data.dropna(how='any') # Null 값 제거\n",
        "print('전처리 후 테스트용 샘플의 개수 :',len(test_data))"
      ],
      "metadata": {
        "id": "xKTvG4-OIZfx",
        "colab": {
          "base_uri": "https://localhost:8080/"
        },
        "outputId": "6322c6d9-753e-4f31-8e0b-430bfe26646a"
      },
      "execution_count": null,
      "outputs": [
        {
          "output_type": "stream",
          "name": "stderr",
          "text": [
            "<ipython-input-51-c182d8fa0991>:2: FutureWarning: The default value of regex will change from True to False in a future version.\n",
            "  test_data['document'] = test_data['document'].str.replace(\"[^ㄱ-ㅎㅏ-ㅣ가-힣 ]\",\"\") # 정규 표현식 수행\n",
            "<ipython-input-51-c182d8fa0991>:3: FutureWarning: The default value of regex will change from True to False in a future version.\n",
            "  test_data['document'] = test_data['document'].str.replace('^ +', \"\") # 공백은 empty 값으로 변경\n"
          ]
        },
        {
          "output_type": "stream",
          "name": "stdout",
          "text": [
            "전처리 후 테스트용 샘플의 개수 : 48852\n"
          ]
        }
      ]
    },
    {
      "cell_type": "code",
      "source": [
        "stopwords = ['의','가','이','은','들','는','좀','잘','걍','과','도','을','를','으로','자','에','와','한','하다']"
      ],
      "metadata": {
        "id": "bphlGeTfImZl"
      },
      "execution_count": null,
      "outputs": []
    },
    {
      "cell_type": "code",
      "source": [
        "okt = Okt()\n",
        "okt.morphs('와 이런 것도 영화라고 차라리 뮤직비디오를 만드는 게 나을 뻔', stem = True)"
      ],
      "metadata": {
        "colab": {
          "base_uri": "https://localhost:8080/"
        },
        "id": "DQkzfVFFIsjG",
        "outputId": "3c7ded7c-70c3-4772-edfa-5a29dd52d1de"
      },
      "execution_count": null,
      "outputs": [
        {
          "output_type": "execute_result",
          "data": {
            "text/plain": [
              "['오다', '이렇다', '것', '도', '영화', '라고', '차라리', '뮤직비디오', '를', '만들다', '게', '나다', '뻔']"
            ]
          },
          "metadata": {},
          "execution_count": 53
        }
      ]
    },
    {
      "cell_type": "code",
      "source": [
        "X_train = []\n",
        "for sentence in tqdm(train_data['document']):\n",
        "    tokenized_sentence = okt.morphs(sentence, stem=True) # 토큰화\n",
        "    stopwords_removed_sentence = [word for word in tokenized_sentence if not word in stopwords] # 불용어 제거\n",
        "    X_train.append(stopwords_removed_sentence)"
      ],
      "metadata": {
        "id": "sf3d8xq9IucQ",
        "colab": {
          "base_uri": "https://localhost:8080/",
          "height": 418
        },
        "outputId": "dc9d05d1-5640-4d9c-d9c0-b782b0467724"
      },
      "execution_count": null,
      "outputs": [
        {
          "output_type": "stream",
          "name": "stderr",
          "text": [
            "  5%|▌         | 7658/145393 [01:17<23:07, 99.30it/s] \n"
          ]
        },
        {
          "output_type": "error",
          "ename": "KeyboardInterrupt",
          "evalue": "ignored",
          "traceback": [
            "\u001b[0;31m---------------------------------------------------------------------------\u001b[0m",
            "\u001b[0;31mKeyboardInterrupt\u001b[0m                         Traceback (most recent call last)",
            "\u001b[0;32m<ipython-input-54-7464c2e1dffe>\u001b[0m in \u001b[0;36m<cell line: 2>\u001b[0;34m()\u001b[0m\n\u001b[1;32m      1\u001b[0m \u001b[0mX_train\u001b[0m \u001b[0;34m=\u001b[0m \u001b[0;34m[\u001b[0m\u001b[0;34m]\u001b[0m\u001b[0;34m\u001b[0m\u001b[0;34m\u001b[0m\u001b[0m\n\u001b[1;32m      2\u001b[0m \u001b[0;32mfor\u001b[0m \u001b[0msentence\u001b[0m \u001b[0;32min\u001b[0m \u001b[0mtqdm\u001b[0m\u001b[0;34m(\u001b[0m\u001b[0mtrain_data\u001b[0m\u001b[0;34m[\u001b[0m\u001b[0;34m'document'\u001b[0m\u001b[0;34m]\u001b[0m\u001b[0;34m)\u001b[0m\u001b[0;34m:\u001b[0m\u001b[0;34m\u001b[0m\u001b[0;34m\u001b[0m\u001b[0m\n\u001b[0;32m----> 3\u001b[0;31m     \u001b[0mtokenized_sentence\u001b[0m \u001b[0;34m=\u001b[0m \u001b[0mokt\u001b[0m\u001b[0;34m.\u001b[0m\u001b[0mmorphs\u001b[0m\u001b[0;34m(\u001b[0m\u001b[0msentence\u001b[0m\u001b[0;34m,\u001b[0m \u001b[0mstem\u001b[0m\u001b[0;34m=\u001b[0m\u001b[0;32mTrue\u001b[0m\u001b[0;34m)\u001b[0m \u001b[0;31m# 토큰화\u001b[0m\u001b[0;34m\u001b[0m\u001b[0;34m\u001b[0m\u001b[0m\n\u001b[0m\u001b[1;32m      4\u001b[0m     \u001b[0mstopwords_removed_sentence\u001b[0m \u001b[0;34m=\u001b[0m \u001b[0;34m[\u001b[0m\u001b[0mword\u001b[0m \u001b[0;32mfor\u001b[0m \u001b[0mword\u001b[0m \u001b[0;32min\u001b[0m \u001b[0mtokenized_sentence\u001b[0m \u001b[0;32mif\u001b[0m \u001b[0;32mnot\u001b[0m \u001b[0mword\u001b[0m \u001b[0;32min\u001b[0m \u001b[0mstopwords\u001b[0m\u001b[0;34m]\u001b[0m \u001b[0;31m# 불용어 제거\u001b[0m\u001b[0;34m\u001b[0m\u001b[0;34m\u001b[0m\u001b[0m\n\u001b[1;32m      5\u001b[0m     \u001b[0mX_train\u001b[0m\u001b[0;34m.\u001b[0m\u001b[0mappend\u001b[0m\u001b[0;34m(\u001b[0m\u001b[0mstopwords_removed_sentence\u001b[0m\u001b[0;34m)\u001b[0m\u001b[0;34m\u001b[0m\u001b[0;34m\u001b[0m\u001b[0m\n",
            "\u001b[0;32m/usr/local/lib/python3.10/dist-packages/konlpy/tag/_okt.py\u001b[0m in \u001b[0;36mmorphs\u001b[0;34m(self, phrase, norm, stem)\u001b[0m\n\u001b[1;32m     87\u001b[0m         \u001b[0;34m\"\"\"Parse phrase to morphemes.\"\"\"\u001b[0m\u001b[0;34m\u001b[0m\u001b[0;34m\u001b[0m\u001b[0m\n\u001b[1;32m     88\u001b[0m \u001b[0;34m\u001b[0m\u001b[0m\n\u001b[0;32m---> 89\u001b[0;31m         \u001b[0;32mreturn\u001b[0m \u001b[0;34m[\u001b[0m\u001b[0ms\u001b[0m \u001b[0;32mfor\u001b[0m \u001b[0ms\u001b[0m\u001b[0;34m,\u001b[0m \u001b[0mt\u001b[0m \u001b[0;32min\u001b[0m \u001b[0mself\u001b[0m\u001b[0;34m.\u001b[0m\u001b[0mpos\u001b[0m\u001b[0;34m(\u001b[0m\u001b[0mphrase\u001b[0m\u001b[0;34m,\u001b[0m \u001b[0mnorm\u001b[0m\u001b[0;34m=\u001b[0m\u001b[0mnorm\u001b[0m\u001b[0;34m,\u001b[0m \u001b[0mstem\u001b[0m\u001b[0;34m=\u001b[0m\u001b[0mstem\u001b[0m\u001b[0;34m)\u001b[0m\u001b[0;34m]\u001b[0m\u001b[0;34m\u001b[0m\u001b[0;34m\u001b[0m\u001b[0m\n\u001b[0m\u001b[1;32m     90\u001b[0m \u001b[0;34m\u001b[0m\u001b[0m\n\u001b[1;32m     91\u001b[0m     \u001b[0;32mdef\u001b[0m \u001b[0mphrases\u001b[0m\u001b[0;34m(\u001b[0m\u001b[0mself\u001b[0m\u001b[0;34m,\u001b[0m \u001b[0mphrase\u001b[0m\u001b[0;34m)\u001b[0m\u001b[0;34m:\u001b[0m\u001b[0;34m\u001b[0m\u001b[0;34m\u001b[0m\u001b[0m\n",
            "\u001b[0;32m/usr/local/lib/python3.10/dist-packages/konlpy/tag/_okt.py\u001b[0m in \u001b[0;36mpos\u001b[0;34m(self, phrase, norm, stem, join)\u001b[0m\n\u001b[1;32m     69\u001b[0m         \u001b[0mvalidate_phrase_inputs\u001b[0m\u001b[0;34m(\u001b[0m\u001b[0mphrase\u001b[0m\u001b[0;34m)\u001b[0m\u001b[0;34m\u001b[0m\u001b[0;34m\u001b[0m\u001b[0m\n\u001b[1;32m     70\u001b[0m \u001b[0;34m\u001b[0m\u001b[0m\n\u001b[0;32m---> 71\u001b[0;31m         tokens = self.jki.tokenize(\n\u001b[0m\u001b[1;32m     72\u001b[0m                     \u001b[0mphrase\u001b[0m\u001b[0;34m,\u001b[0m\u001b[0;34m\u001b[0m\u001b[0;34m\u001b[0m\u001b[0m\n\u001b[1;32m     73\u001b[0m                     \u001b[0mjpype\u001b[0m\u001b[0;34m.\u001b[0m\u001b[0mjava\u001b[0m\u001b[0;34m.\u001b[0m\u001b[0mlang\u001b[0m\u001b[0;34m.\u001b[0m\u001b[0mBoolean\u001b[0m\u001b[0;34m(\u001b[0m\u001b[0mnorm\u001b[0m\u001b[0;34m)\u001b[0m\u001b[0;34m,\u001b[0m\u001b[0;34m\u001b[0m\u001b[0;34m\u001b[0m\u001b[0m\n",
            "\u001b[0;31mKeyboardInterrupt\u001b[0m: "
          ]
        }
      ]
    },
    {
      "cell_type": "code",
      "source": [
        "print(X_train[:3])"
      ],
      "metadata": {
        "id": "D-SdKREQIzSE"
      },
      "execution_count": null,
      "outputs": []
    },
    {
      "cell_type": "code",
      "source": [
        "X_test = []\n",
        "for sentence in tqdm(test_data['document']):\n",
        "    tokenized_sentence = okt.morphs(sentence, stem=True) # 토큰화\n",
        "    stopwords_removed_sentence = [word for word in tokenized_sentence if not word in stopwords] # 불용어 제거\n",
        "    X_test.append(stopwords_removed_sentence)"
      ],
      "metadata": {
        "id": "YLmPWDqcLc6b"
      },
      "execution_count": null,
      "outputs": []
    },
    {
      "cell_type": "code",
      "source": [
        "tokenizer = Tokenizer()\n",
        "tokenizer.fit_on_texts(X_train)"
      ],
      "metadata": {
        "id": "mYQgHQYaLfty"
      },
      "execution_count": null,
      "outputs": []
    },
    {
      "cell_type": "code",
      "source": [
        "print(tokenizer.word_index)"
      ],
      "metadata": {
        "id": "A5PElDAzM0Ay",
        "colab": {
          "base_uri": "https://localhost:8080/"
        },
        "outputId": "c559508a-3ea7-45d5-d6c3-d610ea92ed3b"
      },
      "execution_count": null,
      "outputs": [
        {
          "output_type": "stream",
          "name": "stdout",
          "text": [
            "{'영화': 1, '보다': 2, '없다': 3, '이다': 4, '있다': 5, '좋다': 6, '너무': 7, '다': 8, '정말': 9, '재밌다': 10, '만': 11, '같다': 12, '되다': 13, '적': 14, '진짜': 15, '아니다': 16, '점': 17, '로': 18, '에서': 19, '않다': 20, '나오다': 21, '것': 22, '연기': 23, '평점': 24, '만들다': 25, '최고': 26, '안': 27, '나': 28, '인': 29, '못': 30, '내': 31, '사람': 32, '그': 33, '스토리': 34, '드라마': 35, '왜': 36, '감동': 37, '생각': 38, '때': 39, '게': 40, '아깝다': 41, '보고': 42, '고': 43, '말': 44, '감독': 45, '이렇다': 46, '그냥': 47, 'ㅋㅋ': 48, '시간': 49, '배우': 50, '재미있다': 51, '요': 52, '내용': 53, '거': 54, '재미': 55, '더': 56, '가다': 57, '아': 58, '지루하다': 59, '재미없다': 60, '자다': 61, '하고': 62, '주다': 63, '까지': 64, '네': 65, '쓰레기': 66, '뭐': 67, '중': 68, '모르다': 69, '작품': 70, '들다': 71, '그렇다': 72, '알다': 73, '수': 74, '사랑': 75, '싶다': 76, '지': 77, '하나': 78, '볼': 79, '정도': 80, '마지막': 81, '이건': 82, '돈': 83, '개': 84, '저': 85, '이렇게': 86, '주인공': 87, '기': 88, '액션': 89, '다시': 90, '차다': 91, 'ㅋ': 92, '걸': 93, 'ㅠㅠ': 94, '연출': 95, '느낌': 96, '하': 97, 'ㅋㅋㅋ': 98, '완전': 99, '많다': 100, '최악': 101, '장면': 102, 'ㅡㅡ': 103, '이야기': 104, '받다': 105, '나다': 106, '역시': 107, '오다': 108, '명작': 109, '지금': 110, '년': 111, '임': 112, '버리다': 113, '남다': 114, '라': 115, '안되다': 116, '처음': 117, '넘다': 118, '꼭': 119, '별': 120, '그리고': 121, '이나': 122, '또': 123, '듯': 124, '별로': 125, '먹다': 126, '많이': 127, '서': 128, '끝': 129, '이런': 130, '이영화': 131, '이해': 132, '괜찮다': 133, '면': 134, '인데': 135, '인생': 136, '영': 137, '난': 138, '부터': 139, '좋아하다': 140, '남자': 141, '느끼다': 142, '야': 143, '일': 144, '라고': 145, '소재': 146, '멋지다': 147, '뻔하다': 148, '이고': 149, '기억': 150, '전': 151, '에게': 152, '되어다': 153, '결말': 154, '대': 155, '여': 156, '아름답다': 157, '매력': 158, '무슨': 159, '두': 160, '줄': 161, '해주다': 162, '아쉽다': 163, '마음': 164, '끝나다': 165, '분': 166, '성': 167, '랑': 168, '때문': 169, '가장': 170, '속': 171, '어떻다': 172, '어리다': 173, '알': 174, '여자': 175, '한번': 176, '보여주다': 177, '냐': 178, '지만': 179, '끄다': 180, '엔': 181, '높다': 182, '뿐': 183, '라는': 184, '죽다': 185, '수준': 186, '가슴': 187, 'ㅎㅎ': 188, '공감': 189, '없이': 190, '허다': 191, '씨': 192, '쓰다': 193, '무섭다': 194, '크다': 195, '님': 196, '현실': 197, '모든': 198, '인간': 199, '편': 200, '본': 201, '짱': 202, '보기': 203, '솔직하다': 204, '웃기다': 205, '지다': 206, '번': 207, '우리': 208, '애': 209, '찍다': 210, '살다': 211, '전개': 212, '맞다': 213, '유치하다': 214, '화': 215, '니': 216, '낮다': 217, '말다': 218, '하지만': 219, '코미디': 220, '급': 221, '함': 222, '반전': 223, '자체': 224, '계속': 225, '슬프다': 226, '실망': 227, '건지다': 228, '늘다': 229, '움': 230, '캐릭터': 231, '개봉': 232, '다른': 233, '돼다': 234, '인가': 235, '아이': 236, '뭔': 237, '짜증나다': 238, '추천': 239, '이라': 240, '근데': 241, '대한': 242, '이제': 243, 'ㅋㅋㅋㅋ': 244, '미치다': 245, '제': 246, '작가': 247, '연기력': 248, '제목': 249, '웃다': 250, '눈': 251, '빠지다': 252, 'ㅠ': 253, '표현': 254, '뭔가': 255, '재다': 256, '인지': 257, '잔잔하다': 258, '연': 259, '이라는': 260, '일본': 261, '믿다': 262, '음악': 263, '기분': 264, 'ㅜㅜ': 265, '진심': 266, '몰입': 267, '전혀': 268, '이유': 269, '이쁘다': 270, '처럼': 271, '대단하다': 272, '이란': 273, '막장': 274, '시리즈': 275, '부분': 276, '욕': 277, '가족': 278, '깊다': 279, '기대': 280, '작': 281, '울다': 282, '잇다': 283, '영상': 284, '이상': 285, '원작': 286, '노잼': 287, '이라고': 288, '나름': 289, '기대하다': 290, '모습': 291, '여운': 292, '밖에': 293, '에는': 294, '내다': 295, '애니': 296, '보이다': 297, '수작': 298, '짜다': 299, '한국': 300, '시키다': 301, '감': 302, '눈물': 303, '건': 304, '아직도': 305, '이네': 306, '이랑': 307, '아주': 308, '잼': 309, '귀엽다': 310, '라면': 311, '력': 312, '중간': 313, '야하다': 314, '굿': 315, '내내': 316, '모두': 317, '느껴지다': 318, '절대': 319, '떨어지다': 320, '찾다': 321, '극장': 322, '위': 323, '개인': 324, '포스터': 325, '긴장감': 326, '오랜': 327, '요즘': 328, '시': 329, '신선하다': 330, '딱': 331, '따뜻하다': 332, '보지': 333, '스릴러': 334, '점수': 335, '점도': 336, '특히': 337, '너': 338, '몇': 339, '치다': 340, '그래도': 341, '인상': 342, '스럽다': 343, '후': 344, '문제': 345, '죽이다': 346, '결국': 347, '년대': 348, '나가다': 349, '조금': 350, '한테': 351, '이상하다': 352, '용': 353, '노래': 354, 'ㅎ': 355, '삶': 356, '캐스팅': 357, '놈': 358, '뭘': 359, '당시': 360, '자신': 361, '알바': 362, '티비': 363, '어': 364, '추억': 365, '물': 366, '예쁘다': 367, '앞': 368, '이딴': 369, '써다': 370, '접': 371, '세': 372, '극': 373, '이야': 374, '멋있다': 375, '빼다': 376, '에도': 377, '어설프다': 378, '한국영': 379, '대박': 380, '이지': 381, '세상': 382, '친구': 383, '공포': 384, '의미': 385, '제대로': 386, '보단': 387, '제일': 388, '웃음': 389, '대해': 390, '졸작': 391, '시작': 392, '놓다': 393, '배경': 394, '책': 395, '시나리오': 396, '안타깝다': 397, '엄청': 398, '공포영화': 399, '마다': 400, '발연기': 401, '정신': 402, '두다': 403, '나이': 404, '질': 405, '기도': 406, '장난': 407, '이후': 408, '필요없다': 409, '함께': 410, '팬': 411, '원': 412, '초반': 413, '우리나라': 414, '설정': 415, '쓸다': 416, '오늘': 417, '아직': 418, '더럽다': 419, '전쟁': 420, '실화': 421, '배우다': 422, '데': 423, '식': 424, '간': 425, '도대체': 426, '힘들다': 427, '충분하다': 428, '엄마': 429, '중국': 430, '최고다': 431, '이지만': 432, '영화관': 433, '무엇': 434, '반': 435, '살리다': 436, '맘': 437, '한마디': 438, '아무': 439, '역사': 440, '제발': 441, '남': 442, '시대': 443, '가지': 444, '봄': 445, '씬': 446, '이르다': 447, '오': 448, '어이없다': 449, '로맨스': 450, '미국': 451, '류': 452, '대사': 453, '즐겁다': 454, '해보다': 455, '차라리': 456, '잊다': 457, '그저': 458, '회': 459, '새롭다': 460, '멀다': 461, '쯤': 462, '생기다': 463, '후회': 464, '등': 465, '훌륭하다': 466, '소리': 467, '부족하다': 468, '영화로': 469, '사실': 470, '떠나다': 471, '여기': 472, '놀라다': 473, '같이': 474, '아프다': 475, '갈수록': 476, '이라도': 477, '관객': 478, '대다': 479, '작다': 480, '그대로': 481, '감정': 482, '위해': 483, '몰입도': 484, '건가': 485, '어느': 486, '해': 487, '유쾌하다': 488, '따다': 489, '완벽하다': 490, '망하다': 491, '개연': 492, '여배우': 493, '전체': 494, '코': 495, '그래서': 496, '어디': 497, '집': 498, '매우': 499, '읽다': 500, '순간': 501, '웃기': 502, '답답하다': 503, '기다': 504, '첨': 505, '얼굴': 506, '엄청나다': 507, '총': 508, '훨씬': 509, '해도': 510, '꽤': 511, '화려하다': 512, '명': 513, '평가': 514, '충격': 515, '어울리다': 516, '그만': 517, '다르다': 518, '심하다': 519, '당하다': 520, '상당하다': 521, '나쁘다': 522, '준': 523, '진': 524, '키': 525, '생각나다': 526, '엉': 527, '드리다': 528, '분위기': 529, '출연': 530, '분들': 531, '만큼': 532, '낫다': 533, '상': 534, '흥행': 535, '킬링타임': 536, '서다': 537, '잔인하다': 538, '그리다': 539, '날': 540, '부': 541, '든': 542, '그렇게': 543, '다운': 544, '어색하다': 545, '시즌': 546, '억': 547, '뻔': 548, '진부하다': 549, '이리': 550, '대체': 551, '행복하다': 552, '머': 553, '너무나': 554, '전부': 555, '니까': 556, '구성': 557, '음': 558, '오글거리다': 559, '비다': 560, '얘기': 561, '지루함': 562, '비디오': 563, '돌리다': 564, '애니메이션': 565, '따르다': 566, '확실하다': 567, '아무리': 568, '갑자기': 569, '터지다': 570, '들이다': 571, '영화인': 572, '여주': 573, '장르': 574, '돋다': 575, '소름': 576, '주연': 577, '뒤': 578, '주제': 579, '언제': 580, '아들': 581, '답': 582, '화가': 583, '옛날': 584, '년도': 585, '코믹': 586, '어렵다': 587, '스릴': 588, '끌다': 589, '누가': 590, '엔딩': 591, '참고': 592, '자기': 593, '존재': 594, '만점': 595, '달다': 596, '초딩': 597, '구': 598, '낭비': 599, '다니다': 600, '에선': 601, '짜증': 602, '또한': 603, '만들어지다': 604, '방송': 605, '비': 606, '극장판': 607, '편이': 608, '씩': 609, '당신': 610, '말고': 611, '탄탄하다': 612, '복수': 613, '존나': 614, '머리': 615, '타다': 616, '그나마': 617, '예술': 618, '좀비': 619, '울': 620, '거의': 621, '더빙': 622, '막': 623, 'ㅉㅉ': 624, '다큐': 625, '산': 626, '시청률': 627, '라서': 628, '점점': 629, '상황': 630, '사랑스럽다': 631, '네이버': 632, '시절': 633, '라니': 634, '거기': 635, '질질': 636, '주': 637, '바라다': 638, '만화': 639, '평생': 640, '조': 641, '풀다': 642, '쉬다': 643, '죠': 644, '소설': 645, '맛': 646, '엉망': 647, '성룡': 648, '순수하다': 649, '에서도': 650, '년전': 651, '살': 652, '뜨다': 653, '완성': 654, '죽': 655, '싫다': 656, '얼마나': 657, '판': 658, '피': 659, '세계': 660, '느와르': 661, '어디서': 662, '그러나': 663, '그런': 664, '미화': 665, '간만': 666, '걸작': 667, '상미': 668, '이에요': 669, '궁금하다': 670, '안보': 671, '불편하다': 672, '발': 673, '감성': 674, '라도': 675, '적다': 676, '빨리': 677, '노력': 678, '예전': 679, '비슷하다': 680, '에요': 681, '케이블': 682, '나르다': 683, '래': 684, '허무하다': 685, '휴': 686, '돌아가다': 687, '사회': 688, '싸우다': 689, '사건': 690, '형': 691, '괜히': 692, '단': 693, '필요하다': 694, '감사하다': 695, '전작': 696, '곳': 697, '약하다': 698, '제작': 699, '점주': 700, '요소': 701, '만하': 702, '소녀': 703, '아버지': 704, '무조건': 705, '소중하다': 706, '만나다': 707, '원래': 708, '몸': 709, '흠': 710, '그것': 711, '혼자': 712, '걸리다': 713, '강추': 714, '그녀': 715, '보': 716, '히': 717, '꿈': 718, '일단': 719, '장': 720, '흥미진진': 721, '화보': 722, '흐르다': 723, 'ㅡ': 724, '약간': 725, '다음': 726, '억지': 727, '최근': 728, '께': 729, '통해': 730, '만의': 731, '선택': 732, '집중': 733, '군': 734, '평': 735, '으로도': 736, '재': 737, '비교': 738, '몇번': 739, '죄': 740, '힘': 741, '가볍다': 742, '손': 743, '노': 744, 'ㅇ': 745, '터': 746, '살인': 747, '특유': 748, '현': 749, '교훈': 750, '이냐': 751, '자극': 752, '한편': 753, '화이팅': 754, '게임': 755, '힘드다': 756, '귀신': 757, '가보다': 758, '드': 759, '몰다': 760, '암': 761, '실제': 762, '물론': 763, '평론가': 764, '보내다': 765, '남기다': 766, '성하다': 767, '누구': 768, '그게': 769, '지나다': 770, '화면': 771, '선': 772, '흔하다': 773, '거지': 774, '먼저': 775, '반개': 776, '모': 777, '취향': 778, '중반': 779, '뛰어나다': 780, '간다': 781, '들어가다': 782, 'ㅋㅋㅋㅋㅋ': 783, '술': 784, '빵점': 785, '나라': 786, '왠만하다': 787, '재밋': 788, '훈훈하다': 789, '묻다': 790, '끼다': 791, '대작': 792, '개다': 793, '의도': 794, '불쾌하다': 795, '메세지': 796, '망치다': 797, '똥': 798, '즐기다': 799, '만으로도': 800, '에서는': 801, '역겹다': 802, '맞추다': 803, '수가': 804, '으로는': 805, '게이': 806, '황당하다': 807, '보다는': 808, '꿀잼': 809, '역대': 810, '담다': 811, '스타일': 812, '심': 813, '안좋다': 814, '과거': 815, '열': 816, '졸라': 817, '목소리': 818, '사': 819, '방법': 820, '소': 821, '억지스럽다': 822, '가요': 823, '인거': 824, '실감': 825, '잡다': 826, '쩔다': 827, '순': 828, '예산': 829, '청춘': 830, '그때': 831, '란': 832, '액션영화': 833, '빠져들다': 834, '비추다': 835, '이름': 836, '부르다': 837, '굳이': 838, '한심하다': 839, '인물': 840, '견자단': 841, '열심히': 842, '상영': 843, '이하': 844, '아저씨': 845, '희망': 846, '까진': 847, '티': 848, '상처': 849, '맨': 850, '강': 851, '똑같다': 852, '당': 853, '배': 854, '마르다': 855, '기다리다': 856, '아쉬움': 857, '귀': 858, '예상': 859, '도저히': 860, '얻다': 861, '바뀌다': 862, '조차': 863, '너무나도': 864, '떼다': 865, '엿': 866, '이기': 867, '안나': 868, '단순하다': 869, '온': 870, '깊이': 871, '이라니': 872, '차': 873, '진정': 874, '헐다': 875, '굉장하다': 876, '판타지': 877, '만이': 878, '넘치다': 879, '언': 880, '설레다': 881, '동': 882, '따라가다': 883, '역': 884, '어쩔': 885, '범죄': 886, '겁나다': 887, '걸다': 888, '아빠': 889, '다소': 890, '스러운': 891, '서로': 892, '영원하다': 893, '미안하다': 894, '섬세하다': 895, '스타': 896, '우울하다': 897, '혹은': 898, '종교': 899, '짓': 900, '기억나다': 901, '철학': 902, '시도': 903, '쓰래': 904, '팔': 905, '예고편': 906, '따위': 907, '기적': 908, '일어나다': 909, '각본': 910, '동안': 911, '현재': 912, '편집': 913, '어이': 914, '끝내다': 915, '학교': 916, '독특하다': 917, '참신하다': 918, '오빠': 919, '포기': 920, '햇': 921, '찾아보다': 922, '글': 923, '돋보이다': 924, '마': 925, '볼때': 926, '멜로': 927, '드럽다': 928, '신': 929, '표절': 930, '발견': 931, '가면': 932, '심심하다': 933, '악역': 934, '바로': 935, '말로': 936, '위대하다': 937, '밉다': 938, '흥미': 939, '외국': 940, '상상': 941, '생': 942, '초': 943, '프로': 944, '댓글': 945, '가치': 946, '짧다': 947, 'ㅜ': 948, '연인': 949, '인하다': 950, '둘': 951, '랄': 952, '이번': 953, '나중': 954, '망작': 955, '잃다': 956, '사라지다': 957, '며': 958, '일이': 959, '주기': 960, '아오': 961, '속편': 962, '뭐라다': 963, '싫어하다': 964, '개뿔': 965, '관계': 966, '삼류': 967, '불다': 968, '식상하다': 969, '쏘다': 970, '등장': 971, '프랑스': 972, '채널': 973, '짐': 974, '새끼': 975, '줄거리': 976, '평이': 977, '촬영': 978, '이며': 979, '하하': 980, '심리': 981, '진정하다': 982, '이기다': 983, '결혼': 984, '더욱': 985, '허세': 986, 'ㅅㅂ': 987, '과정': 988, '어른': 989, '리뷰': 990, '달': 991, '낚': 992, '밑': 993, '공': 994, '다루다': 995, '눈물나다': 996, '올': 997, '깔다': 998, '바': 999, '수도': 1000, '동화': 1001, '완전하다': 1002, '예요': 1003, '삼': 1004, '빨': 1005, '계': 1006, '끌': 1007, '연기자': 1008, '후반': 1009, '퀄리티': 1010, '화끈하다': 1011, '지겹다': 1012, '사극': 1013, '지키다': 1014, '흥미롭다': 1015, '나서다': 1016, '잠': 1017, '필요': 1018, '색다르다': 1019, '딸': 1020, '중요하다': 1021, '실망하다': 1022, '성도': 1023, '예': 1024, '땐': 1025, '살아가다': 1026, '법': 1027, '강하다': 1028, '우연히': 1029, '챙기다': 1030, '그래픽': 1031, '바꾸다': 1032, '엇': 1033, '거리': 1034, '그린': 1035, '선생님': 1036, '자막': 1037, '숨다': 1038, '올해': 1039, '무': 1040, '잘못': 1041, '타': 1042, '관람': 1043, '동시': 1044, '첫': 1045, '에서의': 1046, '자연': 1047, '아침': 1048, '한다는': 1049, '폭력': 1050, '손발': 1051, '가지다': 1052, '으리': 1053, '로는': 1054, '줍다': 1055, '이면': 1056, '외': 1057, '여러': 1058, '전편': 1059, '마무리': 1060, '항상': 1061, '대의': 1062, '표정': 1063, '홍콩': 1064, '희다': 1065, '반복': 1066, '뛰다': 1067, '문': 1068, '긴장': 1069, '착하다': 1070, 'ㅇㅇ': 1071, '불가': 1072, '북한': 1073, '푹': 1074, '넣다': 1075, '때리다': 1076, '유': 1077, '쫌': 1078, '보아': 1079, '어린이': 1080, '왠지': 1081, '참다': 1082, '실력': 1083, '돌아오다': 1084, '까지도': 1085, '결정': 1086, '으': 1087, '이든': 1088, '조연': 1089, '적당하다': 1090, '월': 1091, '레알': 1092, '연예인': 1093, '천재': 1094, '갈다': 1095, '보다도': 1096, '진리': 1097, '제작비': 1098, '늦다': 1099, '스': 1100, '아픔': 1101, '찌다': 1102, '관': 1103, '땜': 1104, '문화': 1105, '남녀': 1106, '째': 1107, '가끔': 1108, '행동': 1109, '접다': 1110, '날다': 1111, '다만': 1112, '불쌍하다': 1113, '아련하다': 1114, '홍보': 1115, '특별하다': 1116, '죽음': 1117, '용도': 1118, '여성': 1119, '에겐': 1120, '너무하다': 1121, '타임': 1122, '즈': 1123, '독립영화': 1124, '무협': 1125, '줌': 1126, '혹시': 1127, '잊혀지다': 1128, '기세': 1129, '바보': 1130, '그런데': 1131, '나머지': 1132, '졸리다': 1133, '오락': 1134, '악당': 1135, '잘만': 1136, '노답': 1137, '이연걸': 1138, '양': 1139, '좀더': 1140, '형제': 1141, '비판': 1142, '섹스': 1143, '소름끼치다': 1144, '과연': 1145, '사이': 1146, '스파이더맨': 1147, '초등학교': 1148, '자꾸': 1149, '도안': 1150, '열정': 1151, '미소': 1152, '용이': 1153, '무겁다': 1154, '일상': 1155, '컷': 1156, '듣다': 1157, '만에': 1158, '태어나다': 1159, '불륜': 1160, '왕': 1161, '생애': 1162, '어떤': 1163, '고민': 1164, '여전하다': 1165, '조절': 1166, 'ㅈ': 1167, '치고': 1168, '닿다': 1169, '묘사': 1170, '감각': 1171, '다시다': 1172, '전달': 1173, '세기': 1174, '누군가': 1175, '딱하다': 1176, '조폭': 1177, '신분': 1178, '마치': 1179, '리얼': 1180, '펑펑': 1181, '자식': 1182, '공부': 1183, '사다': 1184, '기술': 1185, '졸다': 1186, '벌써': 1187, '형님': 1188, '보이지': 1189, '내놓다': 1190, '패러디': 1191, '진지하다': 1192, '강렬하다': 1193, '통쾌하다': 1194, '만족하다': 1195, '덕분': 1196, '린다': 1197, '여서': 1198, '다행': 1199, '끼리': 1200, '빛': 1201, '청소년': 1202, '안다': 1203, '새': 1204, '방': 1205, '자주': 1206, '교육': 1207, '국가': 1208, '에로': 1209, '되게': 1210, '줄다': 1211, '대로': 1212, '성인': 1213, '정': 1214, 'ㅉㅉㅉ': 1215, '등장인물': 1216, '그럭저럭': 1217, '언제나': 1218, '멋': 1219, '땅': 1220, '추하다': 1221, '악': 1222, '그림': 1223, '감상': 1224, '전설': 1225, '프로그램': 1226, '에게는': 1227, '영환': 1228, '보라': 1229, '리메이크': 1230, '성우': 1231, '천': 1232, '부끄럽다': 1233, '결과': 1234, 'ㅠㅠㅠ': 1235, '인정': 1236, '진실': 1237, '동물': 1238, '라인': 1239, '고생': 1240, '앤': 1241, '병맛': 1242, '열자': 1243, '무재': 1244, '학년': 1245, '로만': 1246, '평범하다': 1247, '는걸': 1248, '탈': 1249, '올리다': 1250, '마이너스': 1251, '기본': 1252, '잠시': 1253, '녹다': 1254, '밋밋하다': 1255, '전개도': 1256, '이정': 1257, '에피소드': 1258, '부작': 1259, '뽑다': 1260, '갈등': 1261, '진창': 1262, 'ㅎㅎㅎ': 1263, '산만하다': 1264, '지난': 1265, '쪽': 1266, '살짝': 1267, '아끼다': 1268, '유명하다': 1269, '로써': 1270, '거슬리다': 1271, '어제': 1272, '주기도': 1273, '짜지다': 1274, '지나치다': 1275, '면서': 1276, '제로': 1277, '가득하다': 1278, '신나다': 1279, '언니': 1280, '싸움': 1281, '굳다': 1282, '런가': 1283, '넘어가다': 1284, '슬픔': 1285, '감다': 1286, '진행': 1287, '마저': 1288, '국민': 1289, '대한민국': 1290, '빌리다': 1291, '싸다': 1292, '울리다': 1293, '길다': 1294, '저런': 1295, '권': 1296, '깜짝': 1297, '대놓고': 1298, '용서': 1299, '분명하다': 1300, '쩌': 1301, '성격': 1302, '쵝오': 1303, '대안': 1304, '길': 1305, '영화계': 1306, '이니': 1307, '심형래': 1308, '들어서다': 1309, '신경': 1310, '젠': 1311, '아줌마': 1312, '명화': 1313, '양심': 1314, '신기하다': 1315, '무비': 1316, '남성': 1317, '토나오다': 1318, '시점': 1319, '난해하다': 1320, '미드': 1321, '크게': 1322, '관심': 1323, '우': 1324, '도전': 1325, '그만하다': 1326, '영화감독': 1327, '앞뒤': 1328, '로서': 1329, '미학': 1330, '변하다': 1331, '정서': 1332, '전형': 1333, '메다': 1334, '이미': 1335, '후속작': 1336, '지구': 1337, '효과': 1338, '옛': 1339, '뿐이다': 1340, '밋': 1341, '의외로': 1342, '채우다': 1343, '시기': 1344, '존경': 1345, '해오다': 1346, '미션임파서블': 1347, '능력': 1348, '더하다': 1349, '암튼': 1350, '그닥': 1351, '스케일': 1352, '고맙다': 1353, '커플': 1354, '우정': 1355, 'ㄷㄷ': 1356, '가깝다': 1357, '무지': 1358, '분노': 1359, '수고': 1360, '환상': 1361, '체': 1362, '심장': 1363, '게다가': 1364, '앞서': 1365, '호러': 1366, '나타나다': 1367, '몇몇': 1368, '썩다': 1369, '늘': 1370, '감명': 1371, '별개': 1372, '화나다': 1373, 'ㅁ': 1374, '공간': 1375, '갖다': 1376, '기회': 1377, '무시': 1378, '발전': 1379, '어찌': 1380, '늙다': 1381, '헐리우드': 1382, 'ㄱ': 1383, '냥': 1384, '없어지다': 1385, '학생': 1386, '당황': 1387, '맨날': 1388, '조작': 1389, '아무나': 1390, '별루': 1391, 'ㅋㅋㅋㅋㅋㅋ': 1392, '떠오르다': 1393, '배역': 1394, '모자라다': 1395, '담기다': 1396, '역할': 1397, '영국': 1398, '시종일관': 1399, '지나가다': 1400, '대가': 1401, '괴물': 1402, '시원하다': 1403, '바라보다': 1404, '필름': 1405, '쇼': 1406, '쓸데없이': 1407, '아역': 1408, '닮다': 1409, '꺼': 1410, '핵': 1411, '틀다': 1412, '동영상': 1413, '쩝': 1414, '개그': 1415, '히어로': 1416, '중심': 1417, '영구': 1418, '레전드': 1419, '반하다': 1420, '아누': 1421, '십': 1422, '적임': 1423, '끌리다': 1424, '보이': 1425, '로버트': 1426, '전반': 1427, '하늘': 1428, '사고': 1429, '흘리다': 1430, '웬만하다': 1431, '종영': 1432, '매니아': 1433, '응원': 1434, '유머': 1435, '불': 1436, '원하다': 1437, '장가': 1438, '한계': 1439, '기르다': 1440, '치고는': 1441, '사기': 1442, '카메라': 1443, '주윤발': 1444, '동생': 1445, '이라서': 1446, '쉬': 1447, '라이언': 1448, '에나': 1449, '레이': 1450, '옆': 1451, '연애': 1452, '개판': 1453, '주성치': 1454, '웃': 1455, '개념': 1456, '연결': 1457, '말아먹다': 1458, '마이클': 1459, '신의': 1460, '기만': 1461, '창': 1462, '경찰': 1463, '재난영화': 1464, '늘어지다': 1465, '한참': 1466, '으로써': 1467, '은근': 1468, '예능': 1469, '유일하다': 1470, '틴': 1471, '꽝': 1472, '볼거리': 1473, 'ㅜㅠ': 1474, '홍상수': 1475, '그지같다': 1476, '베리': 1477, '초등학생': 1478, '관점': 1479, '트': 1480, '이제야': 1481, '자리': 1482, '편하다': 1483, '만족': 1484, '러브': 1485, '시시하다': 1486, '처절하다': 1487, '꾸다': 1488, '부터가': 1489, '흐름': 1490, '구나': 1491, '뒷': 1492, '덥다': 1493, '지우다': 1494, '명성': 1495, '재밋다': 1496, '흑': 1497, '오버': 1498, '절제': 1499, '뜻': 1500, '차이': 1501, '경': 1502, '깨닫다': 1503, '한데': 1504, '이민기': 1505, '상태': 1506, '백': 1507, '분만': 1508, '광고': 1509, '투': 1510, '젤': 1511, '떨다': 1512, '섹시하다': 1513, '보임': 1514, '드니': 1515, '일품': 1516, '해내다': 1517, '통': 1518, '춤': 1519, '어린시절': 1520, '짓다': 1521, '기존': 1522, '재밋어': 1523, '하라': 1524, '흡입': 1525, '생생하다': 1526, '실패': 1527, '이구': 1528, '시선': 1529, '여자애': 1530, '토록': 1531, '뭉클하다': 1532, '탑': 1533, '평균': 1534, '흘러가다': 1535, '투자': 1536, '영화사': 1537, '뜬금': 1538, '해결': 1539, '찝찝하다': 1540, '로봇': 1541, '주제가': 1542, '와의': 1543, '정말로': 1544, '밤': 1545, '밥': 1546, '키우다': 1547, '짠하다': 1548, '잘생기다': 1549, '변태': 1550, '만으로': 1551, '지르다': 1552, '애기': 1553, '일으키다': 1554, '녀': 1555, '반도': 1556, '치밀하다': 1557, '갖추다': 1558, '았': 1559, '정체': 1560, '오르다': 1561, '쩐다': 1562, '바람': 1563, '일찍': 1564, '촌스럽다': 1565, '몸매': 1566, '씁쓸하다': 1567, '유럽': 1568, '포르노': 1569, '설명': 1570, '메시지': 1571, '의하다': 1572, '형편': 1573, '세다': 1574, '왕조현': 1575, '사무라이': 1576, '입장': 1577, '뇌': 1578, '어머니': 1579, '그만큼': 1580, '극단': 1581, '롭고': 1582, '약': 1583, '짝퉁': 1584, '러닝': 1585, '만화책': 1586, '걱정': 1587, '설득': 1588, '자르다': 1589, '틀어주다': 1590, '입다': 1591, '가능하다': 1592, '확': 1593, '던지다': 1594, '마리': 1595, '보신': 1596, '로그인': 1597, '이여': 1598, '저렇게': 1599, '블록버스터': 1600, '끔찍하다': 1601, '붙이다': 1602, '그립다': 1603, '다섯': 1604, '터미네이터': 1605, '스런': 1606, '내면': 1607, '움직이다': 1608, '본적': 1609, '지리다': 1610, '향연': 1611, '타짜': 1612, '봣': 1613, '진하다': 1614, '하이': 1615, '주의': 1616, '성장': 1617, '그다지': 1618, '어휴': 1619, '편의': 1620, '으로서': 1621, '제니퍼': 1622, '갑': 1623, '명연기': 1624, '무의미하다': 1625, '끼': 1626, '때우다': 1627, '돌다': 1628, '구리': 1629, '본성': 1630, '무료': 1631, '젠장': 1632, '최소한': 1633, '오그라들다': 1634, '달리다': 1635, '감탄': 1636, '기발하다': 1637, '이끌다': 1638, '망': 1639, '입': 1640, '오히려': 1641, '확인': 1642, '아내': 1643, '모험': 1644, '버전': 1645, '버': 1646, '누군지': 1647, '돌아보다': 1648, '얼': 1649, 'ㅅ': 1650, '직업': 1651, '남아': 1652, '비극': 1653, '깡패': 1654, '억지로': 1655, '낭비하다': 1656, '기대다': 1657, '캐리': 1658, '감안': 1659, '거나': 1660, 'ㄴ': 1661, '자살': 1662, '디즈니': 1663, '진짜진짜': 1664, '개성': 1665, '코난': 1666, '안감': 1667, '바다': 1668, '깔끔하다': 1669, '어거지': 1670, '놀다': 1671, '풍경': 1672, '탁월하다': 1673, '꽃': 1674, '명품': 1675, '카리스마': 1676, '현대': 1677, '코드': 1678, '내일': 1679, '기준': 1680, '과장': 1681, '뭥미': 1682, '공짜': 1683, '상대': 1684, '따로': 1685, '용기': 1686, '만해': 1687, '혹': 1688, '국산': 1689, '지네': 1690, '조합': 1691, '추다': 1692, '싸이코': 1693, '무한': 1694, '계기': 1695, '출현': 1696, '연극': 1697, '사로자다': 1698, '요리': 1699, '짜임새': 1700, '직전': 1701, '낼': 1702, '모순': 1703, '이따위': 1704, '본인': 1705, '안습': 1706, '어색': 1707, '수록': 1708, '파다': 1709, '봣는데': 1710, 'ㅋㅋㅋㅋㅋㅋㅋ': 1711, '역작': 1712, '이만': 1713, '탓': 1714, '놀이': 1715, '미모': 1716, '도움': 1717, '애쓰다': 1718, '영활': 1719, '높이다': 1720, '성공': 1721, '세월': 1722, '울컥': 1723, '쥐': 1724, '과는': 1725, '주변': 1726, 'ㅋㅋㅋㅋㅋㅋㅋㅋ': 1727, '군대': 1728, '베다': 1729, '싸구려': 1730, '겨': 1731, '다가오다': 1732, '자동차': 1733, '성은': 1734, '노출': 1735, '만들기': 1736, '한개': 1737, '유치': 1738, '근래': 1739, '께서': 1740, '세련되다': 1741, '픽션': 1742, '낳다': 1743, '깨': 1744, '겨우': 1745, '박수': 1746, '치유': 1747, '끼우다': 1748, '흐뭇하다': 1749, '무어': 1750, '이어서': 1751, '심각하다': 1752, '외계인': 1753, '데리': 1754, '여인': 1755, '화질': 1756, '화란': 1757, '던데': 1758, '디': 1759, '워': 1760, '절대로': 1761, '낮추다': 1762, '외모': 1763, '정작': 1764, '대표': 1765, '김치': 1766, '거장': 1767, '비밀': 1768, '영향': 1769, '마냥': 1770, '시청자': 1771, '어처구니': 1772, '색깔': 1773, '겠다': 1774, '맥': 1775, '특이하다': 1776, '전율': 1777, '더불다': 1778, '도르다': 1779, '흥': 1780, '오는': 1781, '특수': 1782, 'ㅠㅠㅠㅠ': 1783, '고양이': 1784, '반갑다': 1785, '달리': 1786, '일부러': 1787, '성공하다': 1788, '짝': 1789, '때매': 1790, '만남': 1791, '본방': 1792, '사수': 1793, '이도': 1794, '그야말로': 1795, '과의': 1796, '맺다': 1797, '지상파': 1798, '최': 1799, '야동': 1800, '임권택': 1801, '풀': 1802, '저희': 1803, '태국': 1804, '중학교': 1805, '마을': 1806, '낯선': 1807, 'ㅠㅜ': 1808, '화일': 1809, '스럽게': 1810, '신다': 1811, '치': 1812, '운': 1813, '톰': 1814, '꼴': 1815, '닥': 1816, '이전': 1817, '미래': 1818, '아무렇다': 1819, '호흡': 1820, '굿굿': 1821, '여신': 1822, '힐링': 1823, '아자': 1824, '하나같이': 1825, '부디': 1826, '해피엔딩': 1827, '놀랍다': 1828, '색감': 1829, '리': 1830, '세번': 1831, '외화': 1832, '으로가': 1833, '옷': 1834, '당연하다': 1835, '중국영화': 1836, '혼란': 1837, '의상': 1838, '만세': 1839, '한정': 1840, '잠들다': 1841, '호감': 1842, '등등': 1843, '눈빛': 1844, '의식': 1845, '빈': 1846, '부산': 1847, '세계관': 1848, '추리': 1849, '연상': 1850, '아래': 1851, '목적': 1852, '무리': 1853, '그동안': 1854, '브루스': 1855, '니깐': 1856, '알파': 1857, '치노': 1858, '부족': 1859, '향': 1860, '시트콤': 1861, '여기다': 1862, '테러': 1863, '고딩': 1864, '애매하다': 1865, '적어도': 1866, '그렇다고': 1867, '옴': 1868, '대화': 1869, '방금': 1870, '존': 1871, '겉': 1872, '옳다': 1873, '방식': 1874, '오래되다': 1875, '전문가': 1876, '예수': 1877, '가득': 1878, '사투리': 1879, '틈': 1880, '고뇌': 1881, '지루': 1882, '유덕화': 1883, '거야': 1884, '빠르다': 1885, '으론': 1886, '부자': 1887, '뉴스': 1888, '생활': 1889, '향수': 1890, '울면': 1891, '심오하다': 1892, '납득': 1893, '고추': 1894, '센스': 1895, '검사': 1896, '소소하다': 1897, '패': 1898, '누': 1899, '월드': 1900, '느리다': 1901, '은희': 1902, '학살': 1903, '살인자': 1904, '불구': 1905, '단연': 1906, '우뢰매': 1907, '짬뽕': 1908, '박하다': 1909, '스스로': 1910, '드러나다': 1911, '욕심': 1912, '전하': 1913, '떠들다': 1914, '감히': 1915, '하나로': 1916, '무술': 1917, '대본': 1918, '위원회': 1919, '김': 1920, '벌어지다': 1921, '뮤지컬': 1922, '인가요': 1923, '돼지': 1924, '지옥': 1925, '보고오다': 1926, '벗어나다': 1927, '만큼은': 1928, '최고봉': 1929, '본능': 1930, '새벽': 1931, '이래': 1932, '오우삼': 1933, '영웅본색': 1934, '배경음악': 1935, '특집': 1936, '들어주다': 1937, '발톱': 1938, '없애다': 1939, '겁니다': 1940, '아우': 1941, '짱짱': 1942, '피해자': 1943, '할머니': 1944, '익숙하다': 1945, '그건': 1946, '계시다': 1947, '호구': 1948, '꾼': 1949, '송강호': 1950, '즐거움': 1951, '의문': 1952, '다리': 1953, '처': 1954, '철': 1955, '민망하다': 1956, '빠순이': 1957, '펭귄': 1958, '헐리웃': 1959, '으로만': 1960, '다가': 1961, '단지': 1962, '뛰어넘다': 1963, '거부': 1964, '공주': 1965, '자유': 1966, '우베': 1967, '엽문': 1968, '게뭐': 1969, '압': 1970, '토마스': 1971, '인형': 1972, '찡': 1973, '정치': 1974, '곳곳': 1975, '글쎄': 1976, '착각': 1977, '기독교': 1978, '공포물': 1979, '로나': 1980, '조잡하다': 1981, '죄다': 1982, '나와라': 1983, '가족영화': 1984, '멍청하다': 1985, '능': 1986, '영웅': 1987, '희생': 1988, '물이': 1989, '우와': 1990, '배신': 1991, '정재영': 1992, '파': 1993, '반감': 1994, '왠': 1995, '영화제': 1996, '수많다': 1997, '금': 1998, '붙다': 1999, '애틋하다': 2000, '막히다': 2001, '원숭이': 2002, '후회되다': 2003, '에만': 2004, '우주': 2005, '맡다': 2006, '로움': 2007, '이미지': 2008, '여러가지': 2009, '콜린': 2010, '풍기다': 2011, '아기': 2012, '에서만': 2013, '제외': 2014, '하고는': 2015, '척': 2016, '너무도': 2017, '선정': 2018, '링': 2019, '민': 2020, '티나': 2021, '이래서': 2022, '들어오다': 2023, '려': 2024, '천녀유혼': 2025, '강요': 2026, '곡': 2027, '무언가': 2028, '컴퓨터': 2029, '낭만': 2030, '흑인': 2031, '참으로': 2032, '주말': 2033, '근': 2034, '최강': 2035, '마이': 2036, '노인': 2037, '누나': 2038, '덕': 2039, '왕자': 2040, '스탤론': 2041, '플롯': 2042, '대신': 2043, '장선우': 2044, '첨으로': 2045, '분장': 2046, '시골': 2047, '기법': 2048, '에게도': 2049, '생기': 2050, '일주일': 2051, '빨다': 2052, '번은': 2053, '찬사': 2054, '송혜교': 2055, '연관': 2056, '니콜라스': 2057, '케이': 2058, '절정': 2059, '합치다': 2060, '점줌': 2061, '똑같이': 2062, '편견': 2063, '개그맨': 2064, '똑바로': 2065, '다해': 2066, '포인트': 2067, '잭': 2068, '로우': 2069, '마녀': 2070, '쯧쯧': 2071, '새다': 2072, '팔이': 2073, '단체': 2074, '컨셉': 2075, '풋풋하다': 2076, '이군': 2077, '회사': 2078, '신데렐라': 2079, '성의': 2080, '안기다': 2081, '빡치다': 2082, '국내': 2083, 'ㅎㄷㄷ': 2084, '유발': 2085, '가시': 2086, '주지': 2087, '달달': 2088, '선동': 2089, '이용': 2090, '늘리다': 2091, '판단': 2092, '좋아지다': 2093, '쓸데없다': 2094, '만도': 2095, '정신병': 2096, '진수': 2097, '딴': 2098, '무서움': 2099, '틱': 2100, '유리': 2101, '압권': 2102, '오브': 2103, '울음': 2104, '임팩트': 2105, '화구': 2106, '캐': 2107, '잠깐': 2108, '선물': 2109, '소통': 2110, '이자': 2111, '형사': 2112, '리들리': 2113, '스콧': 2114, '나소': 2115, '데이': 2116, '여행': 2117, '전투': 2118, '재미나': 2119, '강제': 2120, '실수': 2121, '어차피': 2122, '이보': 2123, '표': 2124, '심다': 2125, '눈치': 2126, '후기': 2127, '웰': 2128, '스트레스': 2129, '난리': 2130, '이념': 2131, '매일': 2132, '무간도': 2133, '대부': 2134, '한국인': 2135, '벗다': 2136, '각색': 2137, '신고': 2138, '긴박': 2139, '신세계': 2140, '려고': 2141, '욕먹다': 2142, '어디가': 2143, '대충': 2144, '지는': 2145, '꼬': 2146, '영화배우': 2147, '역량': 2148, '갠': 2149, '환장하다': 2150, '살이': 2151, '드디어': 2152, '전쟁영화': 2153, '감정이입': 2154, '김희선': 2155, '매': 2156, '합': 2157, '하자': 2158, '일반인': 2159, '올라가다': 2160, '잔': 2161, '보호': 2162, '아치': 2163, '직장인': 2164, '막판': 2165, '저러다': 2166, '장만옥': 2167, '목': 2168, '레': 2169, '범인': 2170, '하루': 2171, '국어': 2172, '라스트': 2173, '깎다': 2174, '명불허전': 2175, '견디다': 2176, '효': 2177, '하드': 2178, '영어': 2179, '적당': 2180, '까지는': 2181, '션': 2182, '부턴': 2183, '어우러지다': 2184, '오랫': 2185, '재주': 2186, '조여정': 2187, '토': 2188, '커서': 2189, '아시아': 2190, '포함': 2191, '극본': 2192, '베일': 2193, '시청': 2194, '와우': 2195, '무대': 2196, '액션씬': 2197, '미녀': 2198, '얘': 2199, '거품': 2200, '승리': 2201, '드러내다': 2202, '어떻': 2203, '금보': 2204, '곧': 2205, '검색': 2206, '다그': 2207, '납치': 2208, '왜케': 2209, '달인': 2210, '담백하다': 2211, '매번': 2212, '재밋음': 2213, '아이돌': 2214, '깨알': 2215, '일드': 2216, '음식': 2217, '허허': 2218, '은은하다': 2219, '알바생': 2220, '리얼리티': 2221, '리스': 2222, '용의': 2223, '콩': 2224, '꼬마': 2225, '어쩌라고': 2226, '이라고는': 2227, '지독하다': 2228, '차갑다': 2229, '일본인': 2230, '상상력': 2231, '예측': 2232, '극적': 2233, '아예': 2234, '열리다': 2235, '러시아': 2236, '민중': 2237, '무난': 2238, '사진': 2239, '골': 2240, '서기': 2241, '클라라': 2242, '행복': 2243, '음향': 2244, '망치': 2245, '고증': 2246, '포장': 2247, '올레': 2248, '식이': 2249, '섞이다': 2250, '채': 2251, '한석규': 2252, '부가': 2253, '용가리': 2254, '짱짱맨': 2255, '상업': 2256, '샘': 2257, '타란티노': 2258, '유명': 2259, '초월': 2260, '멍하다': 2261, '공유': 2262, '앉다': 2263, '논리': 2264, '사운드': 2265, '스텝': 2266, '풍': 2267, '죄송하다': 2268, '형식': 2269, '이안': 2270, '생명': 2271, '여정': 2272, '성적': 2273, '부실하다': 2274, '학창시절': 2275, '이의': 2276, '황': 2277, '만큼도': 2278, '밝다': 2279, '인게': 2280, '정치인': 2281, 'ㅄ': 2282, '최초': 2283, '애니매이션': 2284, '시각': 2285, '값': 2286, '즉': 2287, '싸하다': 2288, '수입': 2289, '해석': 2290, '곤': 2291, '많아지다': 2292, '비정하다': 2293, '지대': 2294, '와는': 2295, '하나님': 2296, '편도': 2297, '높아지다': 2298, '삼다': 2299, '기사': 2300, '흉내': 2301, '쌍': 2302, '미스': 2303, '살인마': 2304, '탈출': 2305, '잡히다': 2306, '앤드류': 2307, 'ㅜㅜㅜ': 2308, '절망': 2309, '비참하다': 2310, '대하': 2311, '어딘가': 2312, '순위': 2313, '리브': 2314, '간첩': 2315, '호': 2316, '유대인': 2317, '인척': 2318, '베': 2319, '신하균': 2320, '빨갱이': 2321, '그리움': 2322, '깜놀': 2323, '무기': 2324, '김태희': 2325, '신인': 2326, '답지': 2327, '디테': 2328, '짐승': 2329, '변화': 2330, '복선': 2331, '밝혀지다': 2332, '별거': 2333, '감수성': 2334, '할아버지': 2335, '즐': 2336, '절절': 2337, '삭제': 2338, '엑소시스트': 2339, '능가': 2340, '스펙': 2341, '부탁드리다': 2342, '빵': 2343, '뜨겁다': 2344, '블랙코미디': 2345, '뎀': 2346, '칠': 2347, '루즈': 2348, '저리': 2349, '승부': 2350, '기키': 2351, '제작자': 2352, '캐릭': 2353, '평작': 2354, '독립': 2355, '습': 2356, '내리다': 2357, '담배': 2358, '피다': 2359, '남편': 2360, '단순': 2361, '가안': 2362, '도입': 2363, '묻히다': 2364, '미스터리': 2365, '고도': 2366, '중년': 2367, '땀': 2368, '고본': 2369, '번째': 2370, '개도': 2371, '주목': 2372, '보통': 2373, '겪다': 2374, '하트넷': 2375, '라이': 2376, '김민종': 2377, '삼국지': 2378, '자위': 2379, '과학': 2380, '삽질': 2381, '대부분': 2382, '일리': 2383, '신뢰': 2384, '가게': 2385, '분신': 2386, '서점': 2387, '출신': 2388, '베스트': 2389, '듬': 2390, '틀리다': 2391, '잘알다': 2392, '젊다': 2393, '파라': 2394, '노말': 2395, '마련': 2396, '낮': 2397, '소유': 2398, '흑백': 2399, '나발': 2400, '누르다': 2401, '리그': 2402, '옴니버스': 2403, '피로': 2404, '극복': 2405, '평소': 2406, '엽기': 2407, '정당하다': 2408, '여기저기': 2409, '구경': 2410, '놀래다': 2411, '그걸': 2412, '어쩌': 2413, 'ㅋㅋㅋㅋㅋㅋㅋㅋㅋ': 2414, '끝내주다': 2415, '지하철': 2416, '스타워즈': 2417, '탄생': 2418, '호화': 2419, '무리수': 2420, '기획': 2421, '홀로': 2422, 'ㅎㅎㅎㅎ': 2423, '삐': 2424, '다세포': 2425, '전지현': 2426, '어떡하다': 2427, '졸업': 2428, '메이': 2429, '케릭': 2430, '파괴': 2431, '뻥': 2432, '곽지민': 2433, '외면': 2434, '패턴': 2435, '어쩌면': 2436, '다점': 2437, '고독': 2438, '잉': 2439, '본격': 2440, '안성기': 2441, '최수종': 2442, '매주': 2443, '고자': 2444, '김기덕': 2445, '부부': 2446, '꾸미다': 2447, '의리': 2448, '막장드라마': 2449, '지경': 2450, '서극': 2451, '야말로': 2452, '그거': 2453, '뜬금없이': 2454, '근본': 2455, '배려': 2456, '찌': 2457, '적절하다': 2458, '다이하드': 2459, '가시다': 2460, '트릭': 2461, '스럽지': 2462, '부자연스럽다': 2463, '의학': 2464, '게스트': 2465, '최하': 2466, '시사': 2467, '수능': 2468, 'ㅋㅋㅋㅋㅋㅋㅋㅋㅋㅋㅋ': 2469, '출연료': 2470, '리가': 2471, '분석': 2472, '배트맨': 2473, '바치다': 2474, '이니까': 2475, '든지': 2476, '습작': 2477, '우아하다': 2478, '오래': 2479, '지지': 2480, '소화': 2481, '사용': 2482, '주장': 2483, '이정재': 2484, '빛나다': 2485, '섹시': 2486, '만화가': 2487, '사신': 2488, '로렌스': 2489, 'ㄷㄷㄷ': 2490, '남친': 2491, '이드': 2492, '제시카': 2493, '천사': 2494, '파리': 2495, '향기': 2496, '순수': 2497, 'ㅣ': 2498, '와나': 2499, '푸다': 2500, '용다': 2501, '배다': 2502, '교수': 2503, '회장': 2504, '찬': 2505, '질리': 2506, '동성애': 2507, '년작': 2508, '허준': 2509, '아놀드': 2510, '열연': 2511, '단막극': 2512, '신동엽': 2513, '만원': 2514, '풍자': 2515, '발상': 2516, '밧다': 2517, '총알': 2518, '무게': 2519, '추': 2520, 'ㅂㅅ': 2521, '에바': 2522, '질주': 2523, '단조롭다': 2524, '남지': 2525, '금발': 2526, '아아': 2527, '조화': 2528, '이루다': 2529, '하고프다': 2530, '장난감': 2531, '헤어지다': 2532, '호러영화': 2533, '빗대다': 2534, '보시': 2535, '로코': 2536, '최후': 2537, '조카': 2538, '살아나다': 2539, '기차': 2540, '서부': 2541, '뱀파이어': 2542, '유지태': 2543, '어수선하다': 2544, '묘': 2545, '소장': 2546, '경험': 2547, '도시': 2548, '이정현': 2549, 'ㅈㄴ': 2550, '기자': 2551, '빵터지다': 2552, '깨달음': 2553, '살때': 2554, '부모': 2555, '인지도': 2556, '안녕하다': 2557, '취해': 2558, '팝콘': 2559, '찌질하다': 2560, '역쉬': 2561, '발음': 2562, '디스': 2563, '가하다': 2564, '물다': 2565, '화답': 2566, '야구': 2567, '옥': 2568, '고르다': 2569, '판치다': 2570, '뒤지다': 2571, '우선': 2572, '엄정화': 2573, '가수': 2574, '투표': 2575, '용암': 2576, '자매': 2577, '관련': 2578, '김구라': 2579, '멀쩡하다': 2580, '고수': 2581, '내공': 2582, '장치': 2583, '가리다': 2584, '메이드': 2585, '벌': 2586, '씨발': 2587, '로맨틱': 2588, '흔': 2589, '스티븐': 2590, '안해': 2591, '거지같다': 2592, '사장': 2593, '토끼': 2594, '연속': 2595, '가관': 2596, '이별': 2597, '차인표': 2598, '스크린': 2599, '케': 2600, '투성이': 2601, '워낙': 2602, '쥐다': 2603, '덤': 2604, '공중파': 2605, '퀼리티': 2606, '찾아가다': 2607, '넹': 2608, '홍콩영화': 2609, '초능력': 2610, '가해자': 2611, '보장': 2612, '백배': 2613, '바탕': 2614, '료코': 2615, '한텐': 2616, '올려주다': 2617, '무너지다': 2618, '쌈': 2619, '남매': 2620, '애절하다': 2621, '여왕': 2622, '접근': 2623, '나뉘다': 2624, '부럽다': 2625, '디카프리오': 2626, '명확하다': 2627, '농담': 2628, '앙': 2629, '인연': 2630, '재난': 2631, '차마': 2632, '소년': 2633, '거짓말': 2634, '슈퍼': 2635, '얼마': 2636, '한결같다': 2637, '비중': 2638, '이어지다': 2639, '껏': 2640, '박평': 2641, '퍼즐': 2642, '할리우드': 2643, '매다': 2644, '하든': 2645, '에이': 2646, '블레이드': 2647, '예매': 2648, '후지': 2649, '가도': 2650, '한국판': 2651, '불법': 2652, '감흥': 2653, '강시': 2654, '대감': 2655, '금은': 2656, '뚝뚝': 2657, '이러니': 2658, '장동건': 2659, '강력': 2660, '녀석': 2661, '불과하다': 2662, '시사회': 2663, '흑역사': 2664, '겁': 2665, '기전': 2666, '박보영': 2667, '하니': 2668, '따분하다': 2669, '유익하다': 2670, '드물다': 2671, '크리스찬': 2672, '옮기다': 2673, '사상': 2674, '절로': 2675, '깨우다': 2676, '반드시': 2677, '프레데터': 2678, '우승자': 2679, '가난하다': 2680, '인기': 2681, '구로': 2682, '리지': 2683, '감옥': 2684, '하고도': 2685, '모니카': 2686, '축구': 2687, '가야': 2688, '린즈링': 2689, '포': 2690, '빈약하다': 2691, '뜯다': 2692, '김수현': 2693, '나비': 2694, '으으': 2695, '엿보다': 2696, '한지': 2697, '차승원': 2698, '자연스럽다': 2699, '물들다': 2700, '기계': 2701, '킹': 2702, '대비': 2703, '오프닝': 2704, '설마': 2705, '구석': 2706, '로마': 2707, '각자': 2708, '키드': 2709, '가짜': 2710, '스틱': 2711, '쪽팔리다': 2712, '파격': 2713, '자라': 2714, '초적': 2715, '블랙': 2716, '숨기다': 2717, '다큐멘터리': 2718, '적도': 2719, '신념': 2720, '필': 2721, '클레멘타인': 2722, '흐지부지': 2723, '광구': 2724, '징그럽다': 2725, '해적': 2726, '주더': 2727, '이서진': 2728, '뺏다': 2729, '된거': 2730, '떨리다': 2731, '세뇌': 2732, '바르다': 2733, '방영': 2734, '정무문': 2735, '에드워드': 2736, '이승환': 2737, '걸음': 2738, '잊어버리다': 2739, '존중': 2740, '내생': 2741, '바스코': 2742, '불가능하다': 2743, '벨': 2744, '위력': 2745, '아시': 2746, '죄인': 2747, '패션': 2748, '키이라': 2749, '싱겁다': 2750, '낚임': 2751, '속지': 2752, '초기': 2753, '물건': 2754, '토르': 2755, '영혼': 2756, '어루만지다': 2757, '거치다': 2758, '세르게이': 2759, '시리': 2760, '꺼지다': 2761, '아무튼': 2762, '민간인': 2763, '재탕': 2764, '우려': 2765, '손예진': 2766, '안이': 2767, '펴다': 2768, '남발': 2769, '아햏햏': 2770, '불안하다': 2771, '쓰러지다': 2772, '메인': 2773, '작화': 2774, '크리스마스': 2775, '중국인': 2776, '허풍': 2777, '가상하다': 2778, '과대': 2779, '도둑': 2780, '그릇': 2781, '바이러스': 2782, '석': 2783, '멀리': 2784, '지치다': 2785, '김혜선': 2786, '논란': 2787, '주된': 2788, '일반': 2789, '말리': 2790, '로맨틱코미디': 2791, '극치': 2792, '무당': 2793, '인격': 2794, '멜로영화': 2795, '후세': 2796, '빼앗다': 2797, '닥치고': 2798, '파워': 2799, '미묘하다': 2800, '은지원': 2801, '배꼽': 2802, '몰락': 2803, '가져오다': 2804, '제적': 2805, '형태': 2806, '이승기': 2807, '미로': 2808, '소박하다': 2809, '장군': 2810, '서스펜스': 2811, '하진': 2812, '주년': 2813, '개그콘서트': 2814, '건데': 2815, 'ㅋㅋㅋㅋㅋㅋㅋㅋㅋㅋㅋㅋㅋㅋ': 2816, '나타내다': 2817, '훨': 2818, '정은지': 2819, '복': 2820, '딸리다': 2821, '개막': 2822, '야경': 2823, '민폐': 2824, '킁': 2825, '금지': 2826, '불후': 2827, '재치': 2828, '재탕하다': 2829, '결코': 2830, '루': 2831, '지고': 2832, '다듬다': 2833, '매끄럽다': 2834, '군더더기': 2835, '포스': 2836, '예술가': 2837, '관객수': 2838, '거짓': 2839, '알아차리다': 2840, '의견': 2841, '정당화': 2842, '검술': 2843, '트리스탄': 2844, '하락': 2845, '모으다': 2846, '알맞다': 2847, '정유미': 2848, '비록': 2849, '선사': 2850, '성찰': 2851, '사색': 2852, '어마어마하다': 2853, '만약': 2854, '미국인': 2855, '으로나': 2856, '환경': 2857, '살아오다': 2858, '요구': 2859, '도와주다': 2860, '장혁': 2861, '두근거리다': 2862, '난감하다': 2863, '에릭': 2864, '힘내다': 2865, '교양': 2866, '단어': 2867, '미스캐스팅': 2868, '김유미': 2869, '정상': 2870, '공통점': 2871, '광기': 2872, '절실': 2873, '함정': 2874, '숨막히다': 2875, '신파': 2876, '빙빙': 2877, '밀려오다': 2878, '번만': 2879, '추가': 2880, '함부로': 2881, '맙시': 2882, '잃어버리다': 2883, '반대': 2884, '실상': 2885, '재방': 2886, '이해도': 2887, '웅장': 2888, '코끼리': 2889, '들보': 2890, '관해': 2891, '압축': 2892, '아마': 2893, '정화': 2894, '드릴': 2895, '꿈꾸다': 2896, '박': 2897, '이크': 2898, '괴롭다': 2899, '달라': 2900, '부진': 2901, '업': 2902, '머릿속': 2903, '폭발': 2904, '추격': 2905, '빵빵': 2906, '주온': 2907, '묵직하다': 2908, '슴': 2909, '안쓰럽다': 2910, '마찬가지': 2911, '구림': 2912, '아이디어': 2913, '겸비': 2914, '윤계상': 2915, '이상은': 2916, '구역': 2917, '두번째': 2918, '품': 2919, '욕망': 2920, '저렴하다': 2921, '헛웃음': 2922, '도통': 2923, '쳐다보다': 2924, '베드': 2925, '난이': 2926, '불교': 2927, '물씬': 2928, '대중': 2929, '오로지': 2930, '청': 2931, '스나이퍼': 2932, '조커': 2933, '주위': 2934, '퍼스': 2935, '전라도': 2936, '처벌': 2937, '공자': 2938, '유지': 2939, '크리스': 2940, '도덕': 2941, '정신차리다': 2942, '이신': 2943, '또는': 2944, '헤어스타일': 2945, '저렇다': 2946, '설경구': 2947, '프레디': 2948, '타고': 2949, '솜씨': 2950, '대판': 2951, '사촌동생': 2952, '장애인': 2953, '거북하다': 2954, '충실하다': 2955, '존내': 2956, '준비': 2957, '장편': 2958, '손대다': 2959, '적히다': 2960, '포드': 2961, '여러분': 2962, '두근두근': 2963, '실험': 2964, '보드': 2965, '파트': 2966, '얼음': 2967, '흠잡다': 2968, '나루토': 2969, '지저분하다': 2970, '어정쩡하다': 2971, '인성': 2972, '늑대': 2973, '운동': 2974, '셈': 2975, '연예계': 2976, '알리다': 2977, '우우': 2978, '교과서': 2979, '간직': 2980, '악몽': 2981, '캬': 2982, '접영': 2983, '넘어서다': 2984, '굿굿굿': 2985, '주님': 2986, '잡': 2987, '에여': 2988, '쨋': 2989, '팍팍': 2990, '색채': 2991, '대학교': 2992, '부대': 2993, '설리': 2994, '만큼이나': 2995, '미장센': 2996, '불필요하다': 2997, '태도': 2998, '어유': 2999, '번역': 3000, '일제': 3001, '명복': 3002, '전기': 3003, '그럴듯하다': 3004, '성과': 3005, '성유리': 3006, '어줍다': 3007, '말르다': 3008, '미사일': 3009, '쓸쓸하다': 3010, '복잡하다': 3011, '에다가': 3012, '편성': 3013, '킴': 3014, '싱어': 3015, '찬양': 3016, '서민': 3017, '박진': 3018, '증말': 3019, '록키': 3020, '허구': 3021, '우디': 3022, '생략': 3023, '크리': 3024, '말고는': 3025, '잡스': 3026, '일요일': 3027, '서른': 3028, '수지': 3029, '나오미': 3030, '파커': 3031, '클린트': 3032, '우드': 3033, '올라오다': 3034, '가르치다': 3035, '상치': 3036, '토리': 3037, '기용': 3038, '황당': 3039, '복습': 3040, '수십': 3041, '게이고': 3042, '부담': 3043, '흔적': 3044, '혐오': 3045, '토미': 3046, '측면': 3047, '성욕': 3048, '에다': 3049, '빨갛다': 3050, '퍼펙트': 3051, '열다': 3052, '올려놓다': 3053, '섬': 3054, '전이': 3055, '벌다': 3056, '냄새': 3057, '조용하다': 3058, '지원': 3059, '톰크루즈': 3060, '점준': 3061, '이자벨': 3062, '불러일으키다': 3063, '음모론': 3064, '초점': 3065, '만족스럽다': 3066, '본질': 3067, '잼남': 3068, '한수': 3069, '날리다': 3070, '길이': 3071, '하아': 3072, '강력하다': 3073, '고프다': 3074, '가보': 3075, '덜': 3076, '고발': 3077, '소스': 3078, '고개': 3079, '깨다': 3080, '달러': 3081, '집다': 3082, '라고는': 3083, '전락': 3084, '비노': 3085, '고해': 3086, '보나': 3087, '어깨': 3088, '겨울왕국': 3089, '지식인': 3090, '샤론스톤': 3091, '크루즈': 3092, '간지': 3093, '만은': 3094, '어긋나다': 3095, '히치콕': 3096, '한가지': 3097, '에플렉': 3098, '김지수': 3099, '뉴': 3100, '행': 3101, '층': 3102, '예수님': 3103, '홍어': 3104, '렉': 3105, '장이': 3106, '동호': 3107, '에서나': 3108, '아바타': 3109, '아이디': 3110, '어도': 3111, '원표': 3112, '행진': 3113, '하품': 3114, '컬트': 3115, '욬': 3116, '빅뱅': 3117, '나누다': 3118, '도데': 3119, '와이프': 3120, '손가락': 3121, '무덤': 3122, '각각': 3123, '모름': 3124, '놓치다': 3125, '대치': 3126, '경악': 3127, '너희': 3128, '질투': 3129, '유아': 3130, '국적': 3131, '외설': 3132, '제이슨': 3133, '팔리다': 3134, '토니': 3135, '분량': 3136, '반영': 3137, '지내다': 3138, '잘나다': 3139, '스페인': 3140, '여친': 3141, '범벅': 3142, '찜찜하다': 3143, '봣던': 3144, '다우니': 3145, '가을': 3146, '겨울': 3147, '여름': 3148, '팀': 3149, '요새': 3150, '작위': 3151, '엘리트': 3152, '양조위': 3153, '상관': 3154, '흡사하다': 3155, '무방': 3156, '따지다': 3157, '지도': 3158, '햇음': 3159, '키스': 3160, '당당하다': 3161, '에반게리온': 3162, '자료': 3163, '헤': 3164, '걸이': 3165, '감독판': 3166, '백인': 3167, '써로게이트': 3168, '인들': 3169, '다수': 3170, '알리': 3171, '아리': 3172, '뽕': 3173, '헤어': 3174, '아부지': 3175, '건조하다': 3176, '어우': 3177, '가능': 3178, '칼': 3179, '단단하다': 3180, '우리네': 3181, '다나': 3182, '가제': 3183, '어둠': 3184, '한동안': 3185, '새삼': 3186, '왕가위': 3187, '실소': 3188, '마동석': 3189, '뿌리다': 3190, '어지럽다': 3191, '정돈': 3192, '걸왜': 3193, 'ㅅㅅ': 3194, '막상': 3195, '객관': 3196, '두렵다': 3197, '패스': 3198, '이상형': 3199, '첩보': 3200, '멘탈': 3201, '거절': 3202, '저건': 3203, '다른사람': 3204, '마스터피스': 3205, '천국': 3206, '떡': 3207, '실': 3208, '찍': 3209, '깔리다': 3210, '하디': 3211, '덩어리': 3212, '요란하다': 3213, '졸잼': 3214, '여유': 3215, '서인국': 3216, '이종석': 3217, '연습': 3218, '피하': 3219, '첨부': 3220, '말투': 3221, '쉽다': 3222, '병사': 3223, '떄': 3224, '웨스턴': 3225, '증거': 3226, '담': 3227, '대역': 3228, '해명': 3229, '왜곡': 3230, '수다': 3231, '만드': 3232, '앞서다': 3233, '집합': 3234, '세영': 3235, '마약': 3236, '임요환': 3237, '에야': 3238, '일지': 3239, '뭐임': 3240, '신세경': 3241, '압도': 3242, '랑은': 3243, '뭣': 3244, '원주율': 3245, '좆': 3246, '잡고': 3247, '신기': 3248, '호강': 3249, '싹': 3250, '만난': 3251, '존멋': 3252, '방해': 3253, '깨끗하다': 3254, '세트': 3255, '에로영화': 3256, '정선': 3257, '타령': 3258, '삼성': 3259, '비난': 3260, '정신병원': 3261, '걸레': 3262, '브래드피트': 3263, '일부': 3264, '해대': 3265, '인터스텔라': 3266, '분명': 3267, '첫사랑': 3268, '평화': 3269, '라기': 3270, '상실': 3271, '바토리': 3272, '밖': 3273, '쏟다': 3274, '분동': 3275, '황금': 3276, '구라': 3277, '도아': 3278, '감사': 3279, '리더': 3280, '해봤다': 3281, '다크나이트': 3282, '테이크': 3283, '대책': 3284, '손색': 3285, '쩔어요': 3286, '허니': 3287, '획': 3288, '담담하다': 3289, '정보': 3290, '소지섭': 3291, '삶다': 3292, '설레임': 3293, '개선': 3294, '깡': 3295, '일베': 3296, '뎅': 3297, '성폭행': 3298, '천만': 3299, '악플': 3300, '케로로': 3301, '은퇴': 3302, '맑다': 3303, '긋다': 3304, '조르다': 3305, '전환': 3306, '레옹': 3307, '자비': 3308, '우연': 3309, '빅': 3310, '나니': 3311, '뒷이야기': 3312, '제주도': 3313, '가능성': 3314, '그랬는데': 3315, '허무': 3316, '선전': 3317, '박정희': 3318, '움직임': 3319, '등록': 3320, '가운데': 3321, '해지': 3322, '솔': 3323, '피식': 3324, '대리': 3325, '업다': 3326, '이혼': 3327, '통한': 3328, '멜로디': 3329, '재현': 3330, '고전': 3331, '오유': 3332, '묵주': 3333, '정확하다': 3334, '교회': 3335, 'ㅇㅅㅇ': 3336, '학원': 3337, '떡밥': 3338, '방향': 3339, '노리다': 3340, '애초': 3341, '비현실적': 3342, '심지어': 3343, '존트라볼타': 3344, '던': 3345, '친': 3346, '히나타': 3347, '플': 3348, '도하': 3349, '주옥': 3350, '조기': 3351, '안내': 3352, '공개': 3353, '저주': 3354, '참나': 3355, '영감': 3356, '별하나': 3357, '다양하다': 3358, '임청하': 3359, '한적': 3360, '잔혹하다': 3361, '어번': 3362, '악마': 3363, '흉내내': 3364, '안목': 3365, '가기': 3366, '엠버': 3367, '허드': 3368, '환': 3369, '러셀': 3370, '크로우': 3371, '여지': 3372, '루이스': 3373, '비주': 3374, '한글': 3375, '쭉': 3376, '지라': 3377, '핳': 3378, '만큼의': 3379, '볼껄': 3380, '널다': 3381, '정지훈': 3382, '홍': 3383, '대원': 3384, '눈요기': 3385, '팍': 3386, '클라스': 3387, '우스': 3388, '피아노': 3389, '상어': 3390, '전범': 3391, '화만': 3392, '두뇌': 3393, '바닥': 3394, '에미': 3395, '설치다': 3396, '원주고': 3397, '탄압': 3398, '스텝업': 3399, '아역배우': 3400, '드래곤볼': 3401, '드림': 3402, '타이타닉': 3403, '용감하다': 3404, '일본애니': 3405, '민들레': 3406, '숲': 3407, '켜다': 3408, '벨루치': 3409, '인권': 3410, '예스': 3411, '이계인': 3412, '비호감': 3413, '수용': 3414, '박다': 3415, '몹시': 3416, '원피스': 3417, '인도': 3418, '부터는': 3419, '킬링': 3420, '프레': 3421, '우산': 3422, '전통': 3423, '새록새록': 3424, '화장실': 3425, '낫': 3426, '목숨': 3427, '시간여행': 3428, '에혀': 3429, '갚다': 3430, '죄책감': 3431, '튀다': 3432, '위트': 3433, '센터': 3434, '투자자': 3435, '희극': 3436, '편안하다': 3437, '차리다': 3438, '공리': 3439, '록': 3440, '숨죽': 3441, '참혹하다': 3442, '잔뜩': 3443, '조승우': 3444, '톤': 3445, '재료': 3446, '싸이코패스': 3447, '반응': 3448, '시청율': 3449, '각': 3450, '렌트': 3451, '덜다': 3452, '기광': 3453, '지인': 3454, '택': 3455, '런': 3456, '조각': 3457, '모범': 3458, '홍진호': 3459, '드네': 3460, '도망치다': 3461, '투척': 3462, '기괴하다': 3463, '독일': 3464, 'ㄷ': 3465, '완벽': 3466, '유치원': 3467, '한순간': 3468, '나은': 3469, '신곡': 3470, '샤이니': 3471, '에이핑크': 3472, '태양': 3473, '오래전': 3474, '다시금': 3475, '강철': 3476, '굿잡': 3477, '안남': 3478, '버금': 3479, '덜하다': 3480, '쿠바': 3481, '표본': 3482, '주관': 3483, '대고': 3484, '나아지다': 3485, '웬': 3486, '케빈': 3487, '드립': 3488, '분안': 3489, '민족': 3490, '복제': 3491, '도무지': 3492, '일만': 3493, '재판': 3494, '퍼': 3495, '킬러': 3496, '정신건강': 3497, '연장': 3498, '사람과': 3499, '비법': 3500, '달라지다': 3501, '대학': 3502, '앵': 3503, '출발': 3504, '집착': 3505, '오글오글': 3506, '혹평': 3507, '실패하다': 3508, '어지간하다': 3509, '버그': 3510, '롱': 3511, '막심': 3512, '흥분': 3513, '성숙하다': 3514, '허영': 3515, '알아보다': 3516, '해리포터': 3517, '후의': 3518, '정리': 3519, '김동완': 3520, '상승': 3521, '스포': 3522, '오늘날': 3523, '먼지': 3524, '별다르다': 3525, '총장': 3526, '이소룡': 3527, '현상': 3528, '이준': 3529, '심야식당': 3530, '비행': 3531, '비정상': 3532, '졸리': 3533, '그림자': 3534, '벨라': 3535, '라만': 3536, '결론': 3537, '삼각관계': 3538, '공연': 3539, '디워': 3540, '발달': 3541, '오로라': 3542, '타이': 3543, '쉐리던': 3544, '래서': 3545, '조정': 3546, '커스틴': 3547, '생인': 3548, '이범수': 3549, '락스': 3550, '굿바이': 3551, '용구성': 3552, '변명': 3553, '선생': 3554, '만찬': 3555, '유령': 3556, '굶주리다': 3557, 'ㅜㅡ': 3558, '장애': 3559, '툭하면': 3560, '뮤비': 3561, '타르': 3562, '가르다': 3563, '주인': 3564, '메': 3565, '니스': 3566, '다크': 3567, '맵다': 3568, '저그': 3569, '애가': 3570, '나대다': 3571, '한두': 3572, '가슴속': 3573, '사의': 3574, '단면': 3575, '보도': 3576, '명백하다': 3577, '탕': 3578, '박시환': 3579, '망신': 3580, '이틀': 3581, '활짝': 3582, '비번': 3583, '기리': 3584, '온몸': 3585, '인공': 3586, '믹스': 3587, '가구': 3588, '불법체류자': 3589, '지나': 3590, '숀펜': 3591, '만이라도': 3592, '믿어지다': 3593, '주입': 3594, '여군': 3595, '엠비씨': 3596, '질린다': 3597, '꼽': 3598, '재방송': 3599, '노출씬': 3600, '맥스': 3601, '동심': 3602, '방도': 3603, '수백향': 3604, '정이': 3605, '팜므파탈': 3606, '의외': 3607, '발랄하다': 3608, '요원': 3609, '녹음': 3610, '뮤지컬영화': 3611, '알고싶다': 3612, '꼭두각시': 3613, '현대인': 3614, '뻑뻑': 3615, '볼걸': 3616, '흘러나오다': 3617, '클래식': 3618, '조차도': 3619, '듣기': 3620, '우웩': 3621, '가져가다': 3622, '복귀': 3623, '참가자': 3624, '판타지영화': 3625, '금물': 3626, '탈피': 3627, '쏙': 3628, '주네': 3629, '젊음': 3630, '건담': 3631, '사다코': 3632, '우물': 3633, '펀치': 3634, '대들다': 3635, '호기심': 3636, '각기': 3637, '응답': 3638, '장끌': 3639, '로드': 3640, '화남': 3641, '영양가': 3642, '현충일': 3643, '휴가': 3644, '다녀오다': 3645, '뿅': 3646, '버킷리스트': 3647, '완존': 3648, '긍정': 3649, '해피': 3650, '봉하': 3651, '서양': 3652, '구만': 3653, '문학': 3654, '큐브': 3655, '알리시아': 3656, '이적': 3657, '모녀': 3658, '혀': 3659, '매니저': 3660, '역활': 3661, '트로트': 3662, '연속극': 3663, '물폭탄': 3664, '조디': 3665, '명대사': 3666, '뒷받침': 3667, '애니스톤': 3668, '작살': 3669, '훅': 3670, '테이프': 3671, '이외': 3672, '당대': 3673, '안개': 3674, '사토시': 3675, '이겠다': 3676, '이구나': 3677, '가문': 3678, '섞다': 3679, '비롯': 3680, '펼치다': 3681, '다미': 3682, '줄리아': 3683, '로버츠': 3684, '남북': 3685, '이던': 3686, '가정': 3687, '핀': 3688, '신라': 3689, '달려가다': 3690, '지존파': 3691, '정부': 3692, '여부': 3693, '매칭': 3694, '안대': 3695, '치르다': 3696, '위조': 3697, '제자': 3698, '패자부활전': 3699, '아이언맨': 3700, '점차': 3701, '땡': 3702, '칠이': 3703, '친척': 3704, '고요하다': 3705, '서글프다': 3706, '내기': 3707, '심은하': 3708, '눈부시다': 3709, '풀리다': 3710, '페이스': 3711, '퇴색': 3712, '마르': 3713, '맞서다': 3714, '아메리칸': 3715, '원주민': 3716, '영화평론가': 3717, '대강': 3718, '이탈리아': 3719, '경의': 3720, '예민하다': 3721, '지수': 3722, '공효진': 3723, '콧대': 3724, '왼쪽': 3725, '밟다': 3726, '대변': 3727, '샤넬': 3728, '수년': 3729, '찰나': 3730, '신화': 3731, '이민정': 3732, '남자배우': 3733, '한예슬': 3734, '쌤': 3735, '박자': 3736, '완': 3737, '탕웨이': 3738, '다망': 3739, '스릴러물': 3740, '도가니탕': 3741, '걸치다': 3742, '똑똑하다': 3743, '몸짓': 3744, '평정': 3745, '생동감': 3746, '박물관': 3747, '노땅': 3748, '밴드': 3749, '로더': 3750, '상술': 3751, '줄리': 3752, '성해': 3753, '꽉': 3754, '절': 3755, '남극': 3756, '제보': 3757, '귀요미': 3758, '조롱': 3759, '대상': 3760, '우린': 3761, '성기': 3762, '동네': 3763, '꼽히다': 3764, '지아': 3765, '초등': 3766, '자녀': 3767, '후속': 3768, '찰지다': 3769, '성인영화': 3770, '커피': 3771, '미흡하다': 3772, '과도': 3773, '호화롭다': 3774, '님들': 3775, '이해관계': 3776, '미가': 3777, '또다른': 3778, '넌': 3779, '뿜었다': 3780, '고스': 3781, '세얼간이': 3782, '심혜진': 3783, '모호하다': 3784, '사업': 3785, '화하다': 3786, '오락가락': 3787, '지모': 3788, '데넘': 3789, '니당다': 3790, '터키': 3791, '남고': 3792, '최루성': 3793, '성녀': 3794, '마술': 3795, '리좀': 3796, '게왜': 3797, '영화상': 3798, '부족함': 3799, '스치다': 3800, '사망': 3801, '고고': 3802, '제제': 3803, '박사': 3804, '아기자기하다': 3805, '우아': 3806, '능청': 3807, '효과음': 3808, '강혜정': 3809, '꾸준하다': 3810, '타이틀': 3811, '달고나': 3812, '추잡하다': 3813, '솜': 3814, '모니터링': 3815, '산업': 3816, '박신혜': 3817, '빠져나오다': 3818, '국민학교': 3819, '전차': 3820, '부류': 3821, '마구잡이': 3822, '비행기': 3823, '기쁨': 3824, '거대하다': 3825, '말고도': 3826, '파렐': 3827, '사이코': 3828, 'ㄹ': 3829, '꼬옥': 3830, '이성재': 3831, '허탈하다': 3832, '헬기': 3833, '미군': 3834, '일병': 3835, '업햄': 3836, '피해': 3837, '자위대': 3838, '브리': 3839, '정우성': 3840, '그토록': 3841, '비트': 3842, '노예': 3843, '국회의원': 3844, '가만히': 3845, '치졸하다': 3846, '솔로': 3847, '직접': 3848, '벌이다': 3849, '수역': 3850, '요점': 3851, '설마설마': 3852, '고만': 3853, '다니엘헤니': 3854, '보심': 3855, '통제': 3856, '해군': 3857, '유오성': 3858, '퓨': 3859, '이모': 3860, '하하호호': 3861, '폐지': 3862, '이랬는데': 3863, '골목': 3864, '대형': 3865, '학': 3866, '재밋습': 3867, '로맨스영화': 3868, '허황': 3869, '참여': 3870, '화전': 3871, '진과': 3872, '천하다': 3873, '정조': 3874, '침대': 3875, '해리슨': 3876, '영화광': 3877, '안타': 3878, '충분': 3879, '서인영': 3880, '저만': 3881, '개떡': 3882, '단독': 3883, '믄': 3884, '와이': 3885, '라지': 3886, '뒈지다': 3887, '괴짜': 3888, '일정': 3889, '성취': 3890, '거두다': 3891, '카타르': 3892, '시스': 3893, '린': 3894, '조금씩': 3895, '일방': 3896, '사르다': 3897, '요약': 3898, '구식': 3899, '루크': 3900, '운명': 3901, '소문나다': 3902, '잔치': 3903, '플레이': 3904, '꺼내다': 3905, '나영': 3906, '머싯': 3907, '고래': 3908, '신사': 3909, '김소현': 3910, '바치': 3911, '데인': 3912, '양반': 3913, '통틀어': 3914, '정철': 3915, '케미': 3916, 'ㅋㅋㅋㅋㅋㅋㅋㅋㅋㅋㅋㅋㅋ': 3917, '에일리언': 3918, '쇼핑': 3919, '리리': 3920, '심정': 3921, '허전하다': 3922, '년생': 3923, '샷': 3924, '구려': 3925, '오오': 3926, '여태': 3927, '맷': 3928, '데이먼': 3929, '얼티': 3930, '베이': 3931, '미달': 3932, '고치다': 3933, '헛': 3934, '통과': 3935, '그라드': 3936, '죠스': 3937, '딥블루씨': 3938, '모텔': 3939, '딱이다': 3940, '질적': 3941, '류덕환': 3942, '퀴즈': 3943, '에게로': 3944, '인턴': 3945, '랜턴': 3946, '배속': 3947, '충': 3948, '기한': 3949, '전투기': 3950, '이병헌': 3951, '뭉클': 3952, '공룡': 3953, '중때': 3954, '상콤': 3955, '구조': 3956, '질문': 3957, '광희': 3958, '쫓겨나다': 3959, '부도': 3960, '넉': 3961, '시내': 3962, '질감': 3963, '격': 3964, '떨어뜨리다': 3965, '요런': 3966, '호러물': 3967, '거듭': 3968, '반지의제왕': 3969, '공존': 3970, '유작': 3971, '매혹': 3972, '부리다': 3973, '몰락하다': 3974, '아이유': 3975, '장근석': 3976, '축복': 3977, '하여튼': 3978, '헌': 3979, '화의': 3980, '앨런': 3981, '어째서': 3982, '자세하다': 3983, '후진': 3984, '흔들리다': 3985, '안정': 3986, 'ㅍ': 3987, '의지': 3988, '김해': 3989, '고통': 3990, '괴': 3991, '짱구': 3992, '건너': 3993, '띄다': 3994, '봣음': 3995, '결': 3996, '결승전': 3997, '장동민': 3998, '라운드': 3999, '결과물': 4000, '관계도': 4001, '팔다': 4002, '범죄자': 4003, '이물': 4004, '나인': 4005, '넘사벽': 4006, '갓': 4007, '갈래': 4008, '왓츠': 4009, '떄문': 4010, '오류': 4011, '이스트': 4012, '북받치다': 4013, '이중성': 4014, '언론': 4015, '파헤치다': 4016, '균형': 4017, '강우석': 4018, '에이브': 4019, '찔끔': 4020, '비명': 4021, '용두사미': 4022, '패트레이버': 4023, '행위': 4024, '부여': 4025, '워드': 4026, '용의자': 4027, '리기': 4028, '어케': 4029, '부탁': 4030, '데이빗': 4031, '린치': 4032, '종': 4033, '웹툰': 4034, '돌': 4035, '웬디': 4036, '대지': 4037, '는바': 4038, '전국': 4039, '정답': 4040, '합리화': 4041, '조니': 4042, '조명': 4043, '깜찍하다': 4044, '로부터': 4045, '저수지': 4046, '뿜': 4047, '불가능': 4048, '단점': 4049, '궁': 4050, '성함': 4051, '저기': 4052, '주진모': 4053, '송승헌': 4054, '겉멋': 4055, '강철중': 4056, '오디션': 4057, '나열하다': 4058, '모음': 4059, '어째': 4060, '그러니까': 4061, '미이라': 4062, '뵈다': 4063, '품다': 4064, '복고': 4065, '년뒤': 4066, '자질': 4067, '어처구니없다': 4068, '두사부일체': 4069, '먹어주다': 4070, '파내다': 4071, '조선시대': 4072, '김옥빈': 4073, '의심': 4074, '개척': 4075, '성동일': 4076, '시르다': 4077, '최곤데': 4078, '널리': 4079, '퍼지다': 4080, '박시후': 4081, '까지야': 4082, '흡혈': 4083, '식물': 4084, '소동': 4085, '유사하다': 4086, '택시': 4087, '줄리엣': 4088, '짱짱하다': 4089, '모로': 4090, '도로': 4091, '젛': 4092, '왜캐': 4093, '물어보다': 4094, '미만': 4095, '창피하다': 4096, '궁금증': 4097, '손자': 4098, '동의': 4099, '저급하다': 4100, '봣엇': 4101, '정선경': 4102, '고어영화': 4103, '에드': 4104, '에든': 4105, '갱': 4106, '펜': 4107, '이하나': 4108, '정겨운': 4109, '모기': 4110, '매니': 4111, '여동생': 4112, '미쉘': 4113, '누님': 4114, '별명': 4115, '마법': 4116, '색': 4117, '운지': 4118, '부릉부릉': 4119, '땅크': 4120, '케이트': 4121, '나레이션': 4122, '아나운서': 4123, '일어나서': 4124, '장진영': 4125, '고현정': 4126, '근육': 4127, '참신': 4128, '템포': 4129, '후딱': 4130, '감추다': 4131, '스탠': 4132, '마담': 4133, '낚시': 4134, '고장': 4135, '테레비': 4136, '뉘': 4137, '런닝타임': 4138, '외치': 4139, 'ㅁㅇ': 4140, '해님': 4141, '임신': 4142, '함축': 4143, '환불': 4144, '입력': 4145, '존론': 4146, '정형': 4147, '모양': 4148, '볼륨': 4149, '다모': 4150, '제니': 4151, '라이트': 4152, '진행중': 4153, '자만': 4154, '짜증스럽다': 4155, '관장': 4156, '오버액션': 4157, '얹다': 4158, '불꽃': 4159, '아낌없다': 4160, '르완다': 4161, '난민': 4162, '감우성': 4163, '재회': 4164, '시종': 4165, '허비하다': 4166, '장벽': 4167, '시퀀스': 4168, '보삼': 4169, '사족': 4170, '화단': 4171, '에게만': 4172, '이편': 4173, '게리': 4174, '논': 4175, '냉소': 4176, '의존': 4177, '윤후': 4178, '보실': 4179, '지드': 4180, '온통': 4181, '탄탄': 4182, '제프': 4183, '머리스타일': 4184, '오줌': 4185, '하얗다': 4186, '슬로우': 4187, '넋': 4188, '적나라하다': 4189, '주니어': 4190, '터뜨리다': 4191, '작년': 4192, '에너미': 4193, '너리': 4194, '사만': 4195, '어딨다': 4196, '누리': 4197, '경쟁': 4198, '서서히': 4199, '지현우': 4200, '러시아어': 4201, '상관없다': 4202, '엘리자베스': 4203, '조건': 4204, '벅차다': 4205, '댄서': 4206, '어기다': 4207, '개꿀잼': 4208, '갈수': 4209, '스완': 4210, '명장': 4211, '이세영': 4212, '무한도전': 4213, '권리': 4214, '컴플렉스': 4215, '오래오래': 4216, '고이': 4217, '재수': 4218, '호기': 4219, '로운': 4220, '해달라다': 4221, '예진': 4222, '일일': 4223, '물의': 4224, '까먹다': 4225, '뽜': 4226, '한국어': 4227, '쥬산': 4228, '메이크업': 4229, '아하': 4230, '떤다': 4231, '의사': 4232, '우기': 4233, '훼': 4234, '장통': 4235, '연주': 4236, '넘기다': 4237, '문득': 4238, '쏘우': 4239, '훔치다': 4240, '게살': 4241, '낙': 4242, '중화사상': 4243, 'ㅏ': 4244, '상투': 4245, '결혼식': 4246, '판도': 4247, '엇네': 4248, '어보': 4249, '물결': 4250, '그중': 4251, '나머진': 4252, '직장': 4253, '동료': 4254, '파이팅': 4255, '몬스터왕국': 4256, '김준호': 4257, '이자나': 4258, '이브': 4259, '마디': 4260, '앙증맞다': 4261, '찰리채플린': 4262, '질리다': 4263, '집기': 4264, '일수': 4265, '하숙집': 4266, '불행하다': 4267, '하지원': 4268, '지기': 4269, '도발': 4270, '소품': 4271, '였음': 4272, '영호': 4273, '추락': 4274, '무림': 4275, '읭': 4276, '시험': 4277, '바쁘다': 4278, '놔두다': 4279, '서프라이즈': 4280, '가왜': 4281, '따오다': 4282, '열차': 4283, '폭탄': 4284, '끊다': 4285, '된장': 4286, '성형': 4287, '기간': 4288, '복녀': 4289, '기여': 4290, '장나라': 4291, '미도': 4292, '휴머니즘': 4293, '망가지다': 4294, '듭니': 4295, '리부트': 4296, '확장': 4297, '레이미': 4298, '고로': 4299, '주원': 4300, '뽀로로': 4301, '산드라': 4302, '자유롭다': 4303, '휴대폰': 4304, '군인': 4305, '그러면': 4306, '전용': 4307, '걷다': 4308, '침': 4309, '출연자': 4310, '고난': 4311, '카이': 4312, '시네마': 4313, '쟁이': 4314, '재수없다': 4315, '진도': 4316, '성장하다': 4317, '반면': 4318, 'ㅠㅠㅠㅠㅠ': 4319, '도라에몽': 4320, '이따': 4321, '그나저나': 4322, '보디가드': 4323, '푸른': 4324, '아리다': 4325, '탁': 4326, '일케': 4327, '수의': 4328, '호프만': 4329, '닳다': 4330, '혼나다': 4331, '구멍': 4332, '상도': 4333, '신부': 4334, '종이': 4335, '트렌드': 4336, '이종혁': 4337, '소유자': 4338, '정사': 4339, '판이': 4340, '장악': 4341, '비쥬': 4342, '예고': 4343, '장점': 4344, '쓰레긴데': 4345, '부녀': 4346, '래야': 4347, '김범': 4348, '룰': 4349, '요하': 4350, '떠돌다': 4351, '멸망': 4352, '디자인': 4353, '때로는': 4354, '특': 4355, '유의': 4356, '외우다': 4357, '별것': 4358, '지진희': 4359, '연민': 4360, '사랑과전쟁': 4361, '전의': 4362, '얼버무리다': 4363, '실종': 4364, '대기업': 4365, '당장': 4366, 'ㅋㅋㅋㅋㅋㅋㅋㅋㅋㅋㅋㅋ': 4367, '마케팅': 4368, '중딩': 4369, 'ㅗ': 4370, '교묘하다': 4371, '어떠하다': 4372, '식스센스': 4373, '캐롤': 4374, '이요원': 4375, '무도': 4376, '몫': 4377, '곰': 4378, '거참': 4379, '억울하다': 4380, '필요성': 4381, '완죤': 4382, '루시': 4383, '자도': 4384, '뚫다': 4385, '강용석': 4386, '휘': 4387, '잘라먹다': 4388, '싫어지다': 4389, '다다': 4390, '밤시': 4391, '몽환': 4392, '힐러': 4393, '프': 4394, '따먹다': 4395, '지점': 4396, '버티다': 4397, '처참하다': 4398, '난후': 4399, '분간': 4400, '멍': 4401, '라스': 4402, 'ㄹㅇ': 4403, '오랫동안': 4404, '티켓': 4405, '헉': 4406, '청리': 4407, '마크': 4408, '복제인간': 4409, '적극': 4410, '진국': 4411, '기원': 4412, '심취': 4413, '김하늘': 4414, '강대국': 4415, '슈퍼맨': 4416, '달콤하다': 4417, '효민': 4418, '눈살': 4419, '이라기': 4420, '저절로': 4421, '앵글': 4422, '타락': 4423, '이재용': 4424, '간지나다': 4425, '사정': 4426, '뱉다': 4427, '울버린': 4428, '무려': 4429, '못만드': 4430, '해외': 4431, '부동산': 4432, '탈세': 4433, '입원': 4434, '세명': 4435, '우롱': 4436, '해서웨이': 4437, '녹화': 4438, '자랑': 4439, '까맣다': 4440, '망설이다': 4441, '자국': 4442, '강물': 4443, '사도': 4444, '장사': 4445, '배급사': 4446, '상징': 4447, '찾기': 4448, '탐정': 4449, '도가니': 4450, '들리다': 4451, '뻔햇': 4452, '성립': 4453, 'ㅅㅋ': 4454, '지켜보다': 4455, '책임': 4456, '모성애': 4457, '톱스타': 4458, '외다': 4459, '공각기동대': 4460, '상이': 4461, '모니터': 4462, '스토': 4463, '덩달아': 4464, '범': 4465, '가나다': 4466, '라마': 4467, '바사': 4468, '잘봣습니': 4469, '사할린': 4470, '노역': 4471, '서영희': 4472, '모야': 4473, '닌': 4474, '기초': 4475, '꼽으': 4476, '전무후무': 4477, 'ㅐ': 4478, '추악하다': 4479, '또다시': 4480, '임수정': 4481, '예뻣다': 4482, '냉혹하다': 4483, '선하다': 4484, '박용우': 4485, '크리스틴': 4486, '룩': 4487, '스웨덴': 4488, '면모': 4489, '이쯤': 4490, '이기만': 4491, '히스': 4492, '중단': 4493, '절묘하다': 4494, '생뚱맞': 4495, '도쿄': 4496, '활동': 4497, '쿵': 4498, '데이즈': 4499, '스마트': 4500, '수녀': 4501, '콘스탄틴': 4502, '박스오피스': 4503, '외국인': 4504, '환타': 4505, '공상': 4506, '르': 4507, '쎄다': 4508, '성숙': 4509, '엉터리': 4510, '지능': 4511, '저스틴': 4512, '학력': 4513, '왕따': 4514, '거울': 4515, '기어': 4516, '가난': 4517, '급전': 4518, '시드': 4519, '서정': 4520, '중이병': 4521, '티라노': 4522, '컴퓨터그래픽': 4523, '축소': 4524, '무척': 4525, '위로': 4526, '전성기': 4527, '오현경': 4528, '오멘': 4529, '엉뚱하다': 4530, '와일드': 4531, '괜츈': 4532, '닷': 4533, '스며들다': 4534, '체적': 4535, '왤케': 4536, '스탭': 4537, '차태현': 4538, '만듭시': 4539, '보고서': 4540, '제리': 4541, '외로움': 4542, '시온': 4543, '부패': 4544, '여장': 4545, '방가': 4546, '징기스칸': 4547, '셋': 4548, '하찮다': 4549, '지역': 4550, '타고나다': 4551, '호호': 4552, '스토킹': 4553, '제의': 4554, '빙': 4555, '류작': 4556, '수없이': 4557, '공식': 4558, '한국말': 4559, '칭찬': 4560, '조선': 4561, '막간': 4562, '귀염': 4563, '교감': 4564, '첩보물': 4565, '미미': 4566, '극한': 4567, '오만하다': 4568, '정적': 4569, '따분함': 4570, '짝짓기': 4571, '쓰이다': 4572, '다가가다': 4573, '전선': 4574, '병': 4575, '옹': 4576, '어진': 4577, '책임감': 4578, '복싱': 4579, '역사상': 4580, '황홀하다': 4581, '스크림': 4582, '스파이키즈': 4583, '인걸': 4584, '아담': 4585, '아영': 4586, '근접하다': 4587, '고국': 4588, '모시다': 4589, '문화재': 4590, '대가리': 4591, '뒤죽박죽': 4592, '유도': 4593, '권장': 4594, '슬레': 4595, '억배': 4596, '틀': 4597, '바디': 4598, '특출나다': 4599, '겔겔': 4600, '패틴슨': 4601, '류승룡': 4602, '진자': 4603, '가가': 4604, '쿡': 4605, '난뒤': 4606, '작성': 4607, '꼴다': 4608, '편의점': 4609, '보구': 4610, '돌려주다': 4611, '권하다': 4612, '아일랜드': 4613, '수애': 4614, '소문': 4615, '마키': 4616, '생겨나다': 4617, '빠삐용': 4618, '끓다': 4619, '아마도': 4620, '술함': 4621, '민주주의': 4622, '캄캄하다': 4623, '자꾸만': 4624, '크레딧': 4625, '가늠': 4626, '밸런스': 4627, '정감': 4628, '딴사람': 4629, '동양': 4630, '쩌러': 4631, '기해': 4632, '거임': 4633, '릴': 4634, '치아': 4635, '펼쳐지다': 4636, '인류': 4637, '로섬': 4638, '멋대로': 4639, '눈꼽': 4640, '후유증': 4641, '조니뎁': 4642, '소방관': 4643, '아키라': 4644, '이뿌다': 4645, '주류': 4646, '무색': 4647, '아따': 4648, '이를': 4649, '쟤': 4650, '라그': 4651, '강박증': 4652, '글자': 4653, '개방': 4654, '아프리카': 4655, '널': 4656, '트리': 4657, '우울증': 4658, '프렌즈': 4659, '유학생': 4660, '돌싱': 4661, '햐': 4662, '시바': 4663, '정복': 4664, '뽕짝': 4665, '암울하다': 4666, '아르': 4667, '멘토': 4668, '농구': 4669, '물리다': 4670, '겉도': 4671, '부실': 4672, '중국산': 4673, '라곤': 4674, '한결': 4675, '엠씨': 4676, '고요': 4677, '이웃': 4678, '정비': 4679, '단속': 4680, '폰': 4681, '작렬': 4682, '엑스트라': 4683, '옹박': 4684, '제임스': 4685, '비평가': 4686, '볼바': 4687, '메리': 4688, '애란': 4689, '채다': 4690, '정말루': 4691, '주자': 4692, '흐': 4693, '현지': 4694, '정독': 4695, '자격': 4696, '리트': 4697, '스노우': 4698, '독립영화관': 4699, '오래간만': 4700, '람보': 4701, '할배': 4702, '카피': 4703, '김래원': 4704, '해독': 4705, '핥다': 4706, '짜깁다': 4707, '달려들다': 4708, '모티브': 4709, '내려가다': 4710, '뜸': 4711, '주가': 4712, '쫄깃쫄깃': 4713, '군요': 4714, '정권': 4715, '절도': 4716, '평화롭다': 4717, '취업': 4718, '잡탕': 4719, '맛있다': 4720, '동해': 4721, '로안': 4722, '소수': 4723, '한바탕': 4724, '유효하다': 4725, '영화음악': 4726, '애도': 4727, '사가': 4728, '저녁': 4729, '이중': 4730, '자빠지다': 4731, '후루룩': 4732, '티브이': 4733, '지니어스': 4734, '짝사랑': 4735, '시끄럽다': 4736, '발작': 4737, '질색': 4738, '고백': 4739, '주체': 4740, '여야': 4741, '내다보다': 4742, '가량': 4743, '경지': 4744, '마틴': 4745, '어쩜': 4746, '오해': 4747, '쓴다': 4748, '종교영화': 4749, '실컷': 4750, '자아': 4751, '감점': 4752, '낚시꾼': 4753, '창의': 4754, '치료': 4755, '총각': 4756, '러브스토리': 4757, '스탁': 4758, '스모': 4759, '배럴': 4760, '강간': 4761, '집단': 4762, '어후': 4763, '오페라': 4764, '귀가': 4765, '법정': 4766, '엮': 4767, '숨쉬다': 4768, '남겨지다': 4769, '마스크': 4770, '다기': 4771, '끊기다': 4772, '구분': 4773, '다문화': 4774, '정의': 4775, '예나': 4776, '부다': 4777, '브라이언': 4778, '지식': 4779, '어쩌다': 4780, '와도': 4781, '장국영': 4782, '날로': 4783, '연봉': 4784, '숨소리': 4785, '오죽하다': 4786, '패러독스': 4787, '전투씬': 4788, '젊은이': 4789, '비치': 4790, '치우다': 4791, '짤': 4792, '표기': 4793, '에가': 4794, '서울': 4795, '에잉': 4796, '픽사': 4797, '빙의': 4798, '매달리다': 4799, '부로': 4800, '본영': 4801, '야만': 4802, '야수': 4803, '브라운': 4804, '쏠리다': 4805, '드라큘라': 4806, '오죽': 4807, '코스프레': 4808, '기념': 4809, '명언': 4810, '우에노': 4811, '주리': 4812, '침묵': 4813, '수도원': 4814, '스파이': 4815, '어덜트': 4816, '모처럼': 4817, '기이하다': 4818, '여명': 4819, '등급': 4820, '소오강호': 4821, '여균동': 4822, '딱좋다': 4823, '유감': 4824, '쿵푸팬더': 4825, '거가': 4826, '정석': 4827, '사사롭다': 4828, '파티': 4829, '유동근': 4830, '승': 4831, '딜레마': 4832, '슬랩': 4833, '짜임': 4834, '오지': 4835, '드라마정': 4836, '도의': 4837, '빚': 4838, '론데': 4839, '테스트': 4840, '괜': 4841, '말초신경': 4842, '편지': 4843, '무적자': 4844, '초라하다': 4845, '늦추다': 4846, '커트': 4847, '어렷을때': 4848, '데이트': 4849, '산이': 4850, '주군': 4851, '동성애자': 4852, '실태': 4853, '중독': 4854, '한겨울': 4855, '길동': 4856, '녹': 4857, '와이어액션': 4858, '재앙': 4859, '모방': 4860, '시보': 4861, '최진실': 4862, '화이자': 4863, '팬텀': 4864, '제라드': 4865, '버틀러': 4866, '커버': 4867, '그치다': 4868, '임지연': 4869, '롯': 4870, '퍼센트': 4871, '로이': 4872, '커녕': 4873, '수업': 4874, '최종': 4875, '전함': 4876, '해주': 4877, '힘쓰다': 4878, '류승범': 4879, '조진웅': 4880, '밋었': 4881, '사생활': 4882, '쑤시다': 4883, '떠다니다': 4884, '관통': 4885, '히트': 4886, '언능': 4887, '진퉁': 4888, '바라지': 4889, '인생관': 4890, '인색하다': 4891, 'ㅇㅇㅇ': 4892, '야곱': 4893, '만을': 4894, '왕창': 4895, '리브스': 4896, '기독교인': 4897, '대면': 4898, '일류': 4899, '춤추다': 4900, '짙다': 4901, '고조': 4902, '자괴': 4903, '때메': 4904, '썻': 4905, '혁명': 4906, '봉준호': 4907, '첩혈쌍웅': 4908, '창작': 4909, '부활': 4910, '일과': 4911, '리얼리즘': 4912, '나오니': 4913, '랩': 4914, '놀란': 4915, '페이': 4916, '음원': 4917, '구혜선': 4918, '스트레이트': 4919, '위험하다': 4920, '박찬욱': 4921, '다큐맨': 4922, '주요': 4923, '필드': 4924, '구성은': 4925, '르노': 4926, '자화상': 4927, '꺾다': 4928, '오싹하다': 4929, '먹음': 4930, '마저도': 4931, '의심스럽다': 4932, '루비': 4933, '주시': 4934, '사나': 4935, '로또': 4936, '신파극': 4937, '캐치온': 4938, '디비디': 4939, '크크': 4940, '통일': 4941, '할로윈': 4942, '염병': 4943, '업그레이드': 4944, '바꿔치다': 4945, '수습': 4946, '어쩐지': 4947, '경준': 4948, '은혜': 4949, '몇개': 4950, '관리': 4951, '남경': 4952, '난도질': 4953, '작전': 4954, '군사': 4955, '김민준': 4956, '구심': 4957, '유일': 4958, '스티브': 4959, '좌빨': 4960, '뷰티': 4961, '따라잡다': 4962, '이즈': 4963, '이기도': 4964, '꾸역꾸역': 4965, '뿌리': 4966, '노동': 4967, '아마추어': 4968, '룸메이트': 4969, '곁': 4970, '만주': 4971, '트라우마': 4972, '재밋는데': 4973, '미루다': 4974, '지껄이다': 4975, '거창하다': 4976, '활약': 4977, '폴라': 4978, '랜드': 4979, '정책': 4980, '처리': 4981, '기승': 4982, '작정': 4983, '전도연': 4984, '소이현': 4985, '언젠가': 4986, '김영호': 4987, '닫다': 4988, '인사': 4989, '짤린': 4990, '개인주의': 4991, '스킵': 4992, '아만다': 4993, '껀들': 4994, '명절': 4995, '가성': 4996, '감격': 4997, '일그러지다': 4998, '뗼': 4999, '유역비': 5000, '데리다': 5001, '타임슬립': 5002, '상기': 5003, '하편': 5004, '라푼젤': 5005, '전인': 5006, '현빈': 5007, '철수': 5008, '놀랏다': 5009, '라스베가스': 5010, '한쪽': 5011, '지게': 5012, '방향성': 5013, '직설': 5014, '게이트': 5015, '스탈린그라드': 5016, '힌': 5017, '에러': 5018, '까지만': 5019, '김보성': 5020, '구리다': 5021, '비수': 5022, '관대하다': 5023, '불호': 5024, '주석': 5025, '토의': 5026, '해안': 5027, '사귀다': 5028, '매료': 5029, '차지': 5030, '깍': 5031, '구속': 5032, '가히': 5033, '대구': 5034, '에의': 5035, '하차': 5036, '위기': 5037, '협박': 5038, '저지르다': 5039, '속이다': 5040, '죽겠네': 5041, '이소연': 5042, '미국영화': 5043, '간절하다': 5044, '브': 5045, '다치다': 5046, '아무래도': 5047, '볼땐': 5048, '리모컨': 5049, '헐크': 5050, '경찰서': 5051, '엘리베이터': 5052, '치기': 5053, '트와일라잇': 5054, '진솔하다': 5055, '판사': 5056, '합의': 5057, '동아리': 5058, '김청기': 5059, '황정민': 5060, '디테일': 5061, '평타': 5062, '산물': 5063, '윌리스': 5064, '임성한': 5065, '과제': 5066, '여태껏': 5067, 'ㅁㅊ': 5068, '유리창': 5069, '임창정': 5070, '일본도': 5071, '제기': 5072, '쥐뿔': 5073, '멘스': 5074, '미니': 5075, '불문': 5076, '다화': 5077, '잘리다': 5078, '넨': 5079, '반점': 5080, '송하윤': 5081, '답답': 5082, '이함': 5083, '파이다': 5084, '낚였다': 5085, '상반': 5086, '최대': 5087, '씹다': 5088, '어마': 5089, '펠레': 5090, '만치': 5091, '성냥': 5092, '장판': 5093, '계단': 5094, '나날이': 5095, 'ㅕ': 5096, '토토': 5097, '톱': 5098, '인역': 5099, '조반': 5100, '한장': 5101, '건축': 5102, '건축가': 5103, '부모님': 5104, '꼽는다': 5105, '은커녕': 5106, '꼬이다': 5107, '에로의': 5108, '참패': 5109, '묘미': 5110, '여분': 5111, '필립': 5112, '존엄성': 5113, '식탁': 5114, '인간미': 5115, '스톤': 5116, '밀': 5117, '볼떄': 5118, '제법': 5119, '생전': 5120, '농락': 5121, '스포일러': 5122, '탑기어': 5123, '강예빈': 5124, '순환선': 5125, '인굿': 5126, '컴퍼니': 5127, '그딴': 5128, '다프네': 5129, '두리반': 5130, '조보아': 5131, '송재림': 5132, '홧팅': 5133, '테라': 5134, '부영': 5135, '반지': 5136, '제왕': 5137, '숀': 5138, '본드': 5139, '코메디': 5140, '클레이': 5141, '에스트로겐': 5142, '하이퍼': 5143, '놀': 5144, '낚였네': 5145, '스마일리': 5146, '이야말로': 5147, '분노하다': 5148, '치매': 5149, '레아': 5150, '세이': 5151, '집안': 5152, '이구만': 5153, '자평': 5154, '동포': 5155, '강지환': 5156, '애정': 5157, '짜릿하다': 5158, '사나이': 5159, '에이스': 5160, '주변인': 5161, '소말리아': 5162, '완젼': 5163, '훨낫다': 5164, '쿠궁': 5165, '헷갈리다': 5166, '펜싱': 5167, '수사물': 5168, '띠띠': 5169, '샤론': 5170, '무성영화': 5171, '역류': 5172, '채플린': 5173, '피아니스트': 5174, '발암': 5175, 'ㅎㅡㅎ': 5176, '사정봉': 5177, '응': 5178, '밓었': 5179, '교도소': 5180, '구먼': 5181, '몬페': 5182, '익살스럽다': 5183, '던스트': 5184, '이응경': 5185, '길용우': 5186, '감금': 5187, '길들이다': 5188, '인피니트': 5189, '허진호': 5190, '횡단보도': 5191, '건너다': 5192, '다지': 5193, '바비': 5194, '안달': 5195, '레닌': 5196, '질퍽': 5197, '산뜻하다': 5198, '버무러진': 5199, '약탈': 5200, '바베트': 5201, '남바': 5202, '베트': 5203, '핀란드': 5204, '할랫': 5205, '말씀드리다': 5206, '짤랐을꺼': 5207, '털다': 5208, '카밀라': 5209, '재밋는뎅': 5210, '엄포스': 5211, '적남': 5212, '졸': 5213, '윈': 5214, '투어': 5215, '나이틀리': 5216, '정신장애': 5217, '틱장애': 5218, '서리': 5219, '윤제문': 5220, '머금': 5221, '정신의학': 5222, '분노조절': 5223, '증상': 5224, '파손': 5225, '엔나': 5226, '근친상간': 5227, '드래곤': 5228, '잡수다': 5229, '선방': 5230, '상사': 5231, '포퐁': 5232, '진호': 5233, '난또': 5234, '원한': 5235, '활': 5236, '무자비하다': 5237, '백봉기': 5238, '들어맞다': 5239, '불알': 5240, '대만': 5241, '헤집다': 5242, '사죄': 5243, '잡기': 5244, '연맹': 5245, '사골': 5246, '먹듯': 5247, '김남길': 5248, 'ㅈㅈ': 5249, '노래실력': 5250, '문자': 5251, '재밋네': 5252, '달팽이': 5253, '부패하다': 5254, '로마노프': 5255, '왕조': 5256, '뭣같': 5257, '항거': 5258, '폭도': 5259, '화해': 5260, '리플릿': 5261, '럼': 5262, '조미': 5263, '막문위': 5264, '골깜': 5265, '부라리다': 5266, '걸스데이': 5267, '이혜리': 5268, '주귀': 5269, '어내스트': 5270, '셀레스틴': 5271, '볼라': 5272, '화신': 5273, '차차': 5274, '신카이': 5275, '마코토': 5276, '카나': 5277, '이훨': 5278, '고은님': 5279, '노골': 5280, '별루더': 5281, '패널': 5282, '서운하다': 5283, '몬스터': 5284, '주식회사': 5285, '안간힘': 5286, '거북': 5287, '우상화': 5288, '삶속': 5289, '라미란': 5290, '베댓': 5291, '잘쓰다': 5292, '뫼비우스': 5293, '찌릿짜릿': 5294, '화이': 5295, '덴': 5296, '리투': 5297, '차이밍량': 5298, '김혜수': 5299, '어딘': 5300, '에볼라': 5301, '모건': 5302, '프리': 5303, '시나': 5304, '끝내': 5305, '바랬다': 5306, '스러웟음': 5307, '찍을껀데': 5308, '면상': 5309, '총을드': 5310, '크리스토퍼': 5311, '왈츠': 5312, '종방': 5313, '바른': 5314, '순정': 5315, '존잘': 5316, '상쾌': 5317, '껄끄런': 5318, '해설': 5319, '소파': 5320, '로큰롤': 5321, '타겟': 5322, '무능력하다': 5323, '맘마미아': 5324, '게이물': 5325, '익숙해지다': 5326, '언밸러스': 5327, '뚱뚱하다': 5328, '고역': 5329, '간간히': 5330, '닭목': 5331, '윤종신': 5332, '이하늘': 5333, '뽑히다': 5334, '심사': 5335, '위원': 5336, '쌓다': 5337, '어허': 5338, '광장': 5339, '사랑비': 5340, '서준': 5341, '젖다': 5342, '접해': 5343, '개콘': 5344, '코너': 5345, '서린': 5346, '람': 5347, '강수연': 5348, '최정원': 5349, '신음': 5350, '김혜성': 5351, '이현진': 5352, '가발': 5353, '이인상': 5354, '배두나': 5355, '미국드라마': 5356, '컴': 5357, '제대': 5358, '햇살': 5359, '부엌': 5360, '신현준': 5361, '재생': 5362, '소원': 5363, '무표': 5364, '요홍': 5365, '혜정': 5366, '이그': 5367, '마도': 5368, '후련': 5369, '월요일': 5370, '정치범': 5371, '재개': 5372, '대희': 5373, '전화': 5374, '끊음': 5375, '싸움판': 5376, '푸하하하': 5377, '반공': 5378, '무고': 5379, '감옥살이': 5380, '흑인음악': 5381, '아이스': 5382, '옥소리': 5383, '프로필': 5384, '재밓당': 5385, '영화롭다': 5386, '토막': 5387, '살해': 5388, '구리지': 5389, '매미': 5390, 'ㄷㅔ': 5391, '진개': 5392, '천카이거': 5393, '순이': 5394, '다투다': 5395, '인터뷰': 5396, '박스': 5397, '오피스': 5398, '기량': 5399, '두기': 5400, '쌀': 5401, '저스트': 5402, '위드': 5403, '맛깔': 5404, '시베리아': 5405, '훈련': 5406, '달이': 5407, '지존': 5408, '추노': 5409, '저급': 5410, '그로': 5411, '새롭웠': 5412, '라파스': 5413, '신봉선': 5414, '퀄': 5415, '재기': 5416, '지지다': 5417, '넘어지다': 5418, '유유': 5419, '워터': 5420, '마스코트': 5421, '뼈': 5422, '독': 5423, '츠무구': 5424, 'ㅝ': 5425, '뼈대': 5426, '박정아': 5427, '긔': 5428, '재밋쎠': 5429, '베테': 5430, '류승완': 5431, '한창': 5432, '평화로': 5433, '헤드': 5434, '달밤': 5435, '푸근하다': 5436, '둑': 5437, '핑계': 5438, '아더': 5439, '원탁': 5440, '랜슬롯': 5441, '란슬롯': 5442, '검다': 5443, '기네': 5444, '비어': 5445, '역도': 5446, '종착역': 5447, '대유': 5448, '트레비스': 5449, '네러티브': 5450, '취미': 5451, '올인': 5452, '학위': 5453, '성범죄자': 5454, '뜻밖': 5455, '그랜드': 5456, '부다페스트': 5457, '호텔': 5458, '감기': 5459, '대적': 5460, '조달환': 5461, '사촌형': 5462, '최신': 5463, '선속': 5464, '머물다': 5465, '박빙': 5466, '잔인함': 5467, '투쟁': 5468, '아카데미상': 5469, '부정': 5470, '엇음': 5471, '일어나고': 5472, '정장': 5473, '림프비즈킷': 5474, '쥑': 5475, '오월': 5476, '야릇하다': 5477, '명치': 5478, '깨달': 5479, '마는': 5480, '효느': 5481, '색휘': 5482, '검증': 5483, '절때': 5484, '껄욕': 5485, '이이경': 5486, '가나다라': 5487, '의아': 5488, '날카로워지다': 5489, '끙끙': 5490, '갈팡질팡': 5491, '평수': 5492, '권상우': 5493, '화산고': 5494, '팔자': 5495, '말랑말랑': 5496, '동행': 5497, '유태인': 5498, '가족사진': 5499, '사슴': 5500, '므': 5501, '상대성': 5502, '이론': 5503, '니노': 5504, '이중인격': 5505, '핫': 5506, '돌진': 5507, '유혹': 5508, '센세이션': 5509, '차이나타운': 5510, '몬초': 5511, '몬': 5512, '초가': 5513, '울먹이다': 5514, '힘겹다': 5515, '조은숙': 5516, '세계대전': 5517, '피고': 5518, '지휘': 5519, '고위': 5520, '장교': 5521, '적월': 5522, '점때': 5523, '이연서': 5524, '뵙다': 5525, '피의자': 5526, '스피디': 5527, '시가전': 5528, '아수라': 5529, '스포츠영화': 5530, '만끽': 5531, '서나': 5532, '경제': 5533, '압삘럽': 5534, '김영애': 5535, '경극': 5536, '카톡': 5537, '간신히': 5538, '인종차별': 5539, '유괴': 5540, '불협화음': 5541, '고명환': 5542, '후자': 5543, '앨빈': 5544, '결투': 5545, '폭풍눈물': 5546, '팝핀현준': 5547, 'ㄵ': 5548, '선거': 5549, '성향': 5550, '델피': 5551, '글쎄요': 5552, '비약': 5553, '행간': 5554, '스킨헤드': 5555, '사치': 5556, '일찐': 5557, '개제': 5558, '처키': 5559, '저조하다': 5560, '저예산영화': 5561, '다크호스': 5562, '어그': 5563, '촌': 5564, '툭툭': 5565, '쌩뚱': 5566, '민국이': 5567, '데뷔': 5568, '무리하다': 5569, '띄우다': 5570, '이득': 5571, '박얘쁜': 5572, '빠수니': 5573, '카메오': 5574, '토종': 5575, '가비': 5576, '의향': 5577, '장윤현': 5578, '쓰시': 5579, '경쾌하다': 5580, '정정은': 5581, '어케된거': 5582, '이본': 5583, '최저': 5584, '갘': 5585, '스토리텔링': 5586, '기절': 5587, 'ㅜㅜㅜㅜ': 5588, '끙': 5589, '본분': 5590, '영홥니': 5591, '알럽키': 5592, '중고생': 5593, '마마': 5594, '추어': 5595, '영물': 5596, '이승연': 5597, '홍경인': 5598, '브라': 5599, '계몽영화': 5600, '답습': 5601, '마침표': 5602, '창업': 5603, '아이템': 5604, '험하다': 5605, '스승': 5606, '지침': 5607, '단념': 5608, '대소': 5609, '부자간': 5610, '원망': 5611, '낰였다': 5612, '프리미엄': 5613, '이선균': 5614, '김상중': 5615, '계쇠': 5616, 'ㅣㅆ': 5617, '느덕': 5618, '퍼스트': 5619, '대우': 5620, '지우개': 5621, '오늘이': 5622, '월요커플': 5623, '스키': 5624, '건너편': 5625, '성남': 5626, '슈발': 5627, '나볼': 5628, '수나': 5629, '수도승': 5630, '떠내려가다': 5631, '물대포': 5632, '쏠때': 5633, '웃겻다': 5634, '고스트라이더': 5635, '뭉치': 5636, '싸대기': 5637, '뚝방': 5638, '찍지마라': 5639, '육감': 5640, '각도': 5641, '라든지': 5642, '이라든지': 5643, '두고두고': 5644, '아닐런지': 5645, '정시': 5646, '번뜩이다': 5647, '에로스': 5648, '에린': 5649, '프레스토': 5650, '네요': 5651, '본가': 5652, '진짴': 5653, '뷰욕': 5654, '퀵이유': 5655, '삼십분': 5656, '명도': 5657, '왜색': 5658, '작고': 5659, '교활하다': 5660, '망상': 5661, '염치': 5662, '소비자': 5663, '상급': 5664, '상호': 5665, '금단비': 5666, '열중': 5667, '섭리': 5668, '성미': 5669, '자애': 5670, '고릴라': 5671, '거도': 5672, '섭렵': 5673, '샤워': 5674, '광해': 5675, '나약하다': 5676, '부각': 5677, '속출': 5678, '씨바': 5679, '어캐봐': 5680, '저격': 5681, '비긴': 5682, '어게인': 5683, '카이사르': 5684, '공격': 5685, '유순하다': 5686, '여성성': 5687, '일기토': 5688, '지략': 5689, '맞짱': 5690, '비디오테잎': 5691, '좍좍': 5692, '따분': 5693, '마구': 5694, '베트공': 5695, '등현': 5696, '일편': 5697, '쪼끔': 5698, '그랜트': 5699, '한자리': 5700, '아이리스': 5701, '자시': 5702, '접합': 5703, '고소영': 5704, '업주': 5705, '이슈': 5706, '노자': 5707, '끼리끼리': 5708, '이삼': 5709, '덴젤와싱턴': 5710, '모레쯔': 5711, '후덕': 5712, '배틀로얄': 5713, '상류층': 5714, '속물': 5715, '근성': 5716, '아부': 5717, '씨익': 5718, '정상인': 5719, '샬라샬': 5720, '즁': 5721, '쥬': 5722, '옹졸하다': 5723, '빠다': 5724, '어르신': 5725, '얘길': 5726, '주민': 5727, '로간': 5728, '주로': 5729, '하층': 5730, '복수심': 5731, '군경': 5732, '빨치산': 5733, '으이구': 5734, '노찌': 5735, '쯔': 5736, '김명민': 5737, '구해': 5738, '모욕감': 5739, '썰매': 5740, '목적지': 5741, '데몰리션맨': 5742, '이퀄리브리엄': 5743, '원조': 5744, '격인': 5745, '파란색': 5746, '챔프': 5747, '폭풍': 5748, '오열': 5749, 'ㅠㅜㅠㅍ': 5750, '사소하다': 5751, '페이크': 5752, '시미즈': 5753, '업적': 5754, '쌈질': 5755, '낚시질': 5756, '지미': 5757, '애린': 5758, '꼴통': 5759, '페미니즘': 5760, '페미나치': 5761, '마인드': 5762, '지향': 5763, '단것': 5764, '쿨하다': 5765, '밤중': 5766, '에몽': 5767, '사과': 5768, '상권': 5769, '슈퍼마켓': 5770, '모해': 5771, '껀줄': 5772, '한송이': 5773, '하나라': 5774, '설교': 5775, '결혼반지': 5776, '담하다': 5777, '개역': 5778, '문성우': 5779, '써주다': 5780, '미취': 5781, '자랑스럽다': 5782, '어의': 5783, '윤아': 5784, '작자': 5785, '퀭': 5786, '훠': 5787, '얼씬': 5788, '내사': 5789, '나위': 5790, '산만': 5791, '화학': 5792, '봣습니닼': 5793, '잼잇엇숩니': 5794, '마라천': 5795, '두서': 5796, '오그리다': 5797, '엑': 5798, '부러': 5799, '문헌': 5800, '문란하다': 5801, '사도세자': 5802, '휴일': 5803, '눕다': 5804, '벌떡': 5805, '쇼핑몰': 5806, '와아': 5807, '익스트림': 5808, '수트': 5809, '미남': 5810, '으루': 5811, '권유': 5812, '창조': 5813, '중복': 5814, '농촌': 5815, '여호와': 5816, '증인': 5817, '탁재훈': 5818, '재밌': 5819, '무치다': 5820, '섬머': 5821, '힘알': 5822, '보상': 5823, '결실': 5824, '아씨': 5825, '갈겨쓰다': 5826, '값지다': 5827, '제이': 5828, '차안': 5829, '전화통화': 5830, '가까이': 5831, '폰부스': 5832, '현기증': 5833, '되돌아보다': 5834, '킬': 5835, '려면': 5836, '흩어지다': 5837, '밀리': 5838, '식인종': 5839, '식인': 5840, '말살': 5841, '신도': 5842, '민권': 5843, '뛰어내리다': 5844, '유투브': 5845, '기관사': 5846, '다스베이더': 5847, '레이어': 5848, '소희': 5849, '졸귀': 5850, '귀찮다': 5851, '화영': 5852, '호들갑': 5853, '밤새': 5854, '완주': 5855, '뮬란': 5856, '전쟁씬': 5857, '맑음': 5858, '파문': 5859, '김윤진': 5860, '상품': 5861, '아마겟돈': 5862, '고결하다': 5863, '하셧을까': 5864, '아웃': 5865, '왈가': 5866, '왈부': 5867, '또해': 5868, '미성년': 5869, '순결': 5870, '명문': 5871, '빈센트': 5872, '종인': 5873, '예원': 5874, '남아돌다': 5875, '피디': 5876, '달기지': 5877, '미니어쳐': 5878, '뢔매': 5879, '정여립': 5880, '기축옥사': 5881, '실험영화': 5882, '처먹어랔': 5883, '화려': 5884, '옌': 5885, '도보': 5886, '사랑받다': 5887, '수이': 5888, '에이즈': 5889, '운동화': 5890, '프렌드': 5891, '년후': 5892, 'ㅅㅎㅎㅎ': 5893, '충돌': 5894, '거룩하다': 5895, '텀': 5896, '굿윌헌팅도쩐당': 5897, '현정': 5898, '희한하다': 5899, '한나': 5900, '사로잡히다': 5901, '필수': 5902, '메간폭스': 5903, '알콜중독자': 5904, '중견': 5905, '술사': 5906, '실물': 5907, '거여': 5908, '이집트': 5909, '스퀘어': 5910, '닉스': 5911, '합병': 5912, '소림사': 5913, '관문': 5914, 'ㅠㅠㅠㅠㅠㅠㅠㅠ': 5915, '뚫리다': 5916, '펑점': 5917, '글러': 5918, '스캔들': 5919, '에헤헹': 5920, '패턴턴너': 5921, '목격': 5922, '유턴': 5923, '턴': 5924, '훌쩍': 5925, '착지': 5926, '무릅쏴': 5927, '사격': 5928, '커트코베인': 5929, '팬픽': 5930, '알려지다': 5931, '사주다': 5932, '얼른': 5933, '것좀': 5934, '퀸틴': 5935, '포룸': 5936, '급식': 5937, '최지우': 5938, '막강': 5939, '짜장면': 5940, '황홀경': 5941, '미그기': 5942, '발사': 5943, '격추': 5944, '줄기': 5945, '돠': 5946, '다다다': 5947, '딘': 5948, '민감하다': 5949, '육식': 5950, '빌딩': 5951, '딧노': 5952, '모퉁이': 5953, '더듬다': 5954, '욕좀': 5955, '행여': 5956, '여름방학': 5957, '특선': 5958, '단편': 5959, '당태종': 5960, '왕건': 5961, '대조영': 5962, '장보고': 5963, '박태준': 5964, '빠져듬': 5965, '삼총사': 5966, '올밴': 5967, '유세윤': 5968, '음주운전': 5969, '명필름': 5970, '심재명': 5971, '꾸밈': 5972, '모라': 5973, '양면': 5974, '두부': 5975, '고어': 5976, '해짐': 5977, '시우민': 5978, '엑소': 5979, '교향곡': 5980, '미진하다': 5981, '감격시대': 5982, '날고기': 5983, '코스': 5984, '미키': 5985, '셰릴': 5986, '린펜': 5987, '조안': 5988, '버런': 5989, '맘껏': 5990, '지명도': 5991, '엄따': 5992, '공산당': 5993, '위화': 5994, '한채영': 5995, '신동': 5996, '뿌듯하다': 5997, '중령': 5998, 'ㅆㄹㄱ': 5999, '선교': 6000, '쓰기': 6001, '스타트랙': 6002, '틴토': 6003, '로드리게즈': 6004, '초보': 6005, '장비': 6006, '찰흙': 6007, '짦': 6008, '차븟': 6009, 'ㅇㄱ': 6010, '디시': 6011, '구제불': 6012, '능이': 6013, '출가': 6014, '은하사': 6015, '스티플러': 6016, '전무송': 6017, '리즈': 6018, '경우': 6019, '갖가지': 6020, '승전': 6021, '식임': 6022, '박대동': 6023, '홍도': 6024, '쾌': 6025, '공정하다': 6026, '오현민': 6027, '인간성': 6028, '앱스토어': 6029, '애플': 6030, '안드로이드': 6031, '목포': 6032, '붹': 6033, '맘속': 6034, '동족': 6035, '도울': 6036, '장성택': 6037, '체제': 6038, '자멸': 6039, '호시탐탐': 6040, '노리': 6041, '빼앗기다': 6042, '동민': 6043, '야유': 6044, '별점': 6045, '이정우': 6046, '김푸른': 6047, '엄기준': 6048, '절단': 6049, '닥치다': 6050, '무력하다': 6051, '앨리': 6052, '정준호': 6053, '쇼생크탈출': 6054, '오역': 6055, '아이구': 6056, '똘볼수': 6057, '맹점': 6058, '군중심리': 6059, '진영화': 6060, '캣우먼': 6061, '럼스': 6062, '옥주현': 6063, '하윤': 6064, '몰랑몰랑': 6065, '포탈': 6066, '아이로봇': 6067, '점말': 6068, '패륜': 6069, '존쿠삭': 6070, '메트로': 6071, '추리소설': 6072, '정당성': 6073, '헌신': 6074, '카톨릭': 6075, '개신교': 6076, '그리스도교': 6077, '유일신': 6078, '하느님': 6079, '애국가': 6080, '캡틴': 6081, '필추': 6082, '년씨짘': 6083, '나올때마닼': 6084, '으헠': 6085, '스태프': 6086, '묵고': 6087, '댕기': 6088, '셀': 6089, '리아나': 6090, '오만': 6091, '그레이': 6092, '본업': 6093, '신비하다': 6094, '예감': 6095, '관람객': 6096, '평가절하': 6097, '단호': 6098, '왜르케': 6099, '포켓몬스터': 6100, '불쌍타': 6101, '종훈': 6102, '이형': 6103, '가오': 6104, '상하': 6105, '착오': 6106, '느': 6107, '어케되는': 6108, '내적': 6109, '외적인': 6110, '물체': 6111, '빠르기': 6112, '풍부하다': 6113, '기분좋은날': 6114, '파킨슨병': 6115, '하염없이': 6116, '뭐함': 6117, '뎁': 6118, '스패': 6119, '바둑': 6120, '급수': 6121, '바둑용어': 6122, '자처': 6123, '아트': 6124, '잭맨': 6125, '풍선': 6126, '조엘': 6127, '슈마허': 6128, '로빈': 6129, '것일': 6130, '미덕': 6131, '애색긔들': 6132, '엄지': 6133, '사악하다': 6134, '매경': 6135, '갠차다': 6136, '타인': 6137, '까지의': 6138, '상반기': 6139, '개폼': 6140, '버젼': 6141, '으로서의': 6142, '관계씬': 6143, '수학': 6144, '알러뷰': 6145, '글쓰기': 6146, '기왕': 6147, '심왜': 6148, '나수윤': 6149, '배배꼬았다': 6150, '실질': 6151, '미술관': 6152, '관조': 6153, '검': 6154, '뷁': 6155, '읹': 6156, '씐': 6157, '제시카알바': 6158, '잡다하다': 6159, '샛길': 6160, '죽도': 6161, '그룹': 6162, '더럽히다': 6163, '애국': 6164, '종잡': 6165, '델마와루이스': 6166, '케이스': 6167, '정신없이': 6168, '지적': 6169, '곳도': 6170, '스럽지도': 6171, '점밑': 6172, '흘렷다': 6173, '억이': 6174, '외계': 6175, '최상급': 6176, '띠띠디띠': 6177, '숨': 6178, '아이폰': 6179, '종료': 6180, '수정과': 6181, '마마마': 6182, '우측': 6183, '이연희': 6184, '하와': 6185, '밖엔': 6186, '마지노선': 6187, '달마': 6188, '주유소': 6189, '습격': 6190, '췌밌는데': 6191, '안문숙': 6192, '천하': 6193, '양녕대군': 6194, '브랜드': 6195, '삽': 6196, '탐구': 6197, '대미': 6198, '문의': 6199, '데왜': 6200, '말이얌': 6201, '리턴': 6202, '코렌': 6203, '부의': 6204, '김태균': 6205, '재능': 6206, '환타지': 6207, '시나리오작가': 6208, '열도': 6209, '대중화': 6210, '춘향전': 6211, '연예가중계': 6212, '정일': 6213, '촬영감독': 6214, '수치심': 6215, '금정': 6216, '다운로드': 6217, '뉴완다': 6218, '억백만': 6219, '농간': 6220, '휼륭하다': 6221, '엄연하다': 6222, '재력': 6223, '오만해': 6224, '원스': 6225, '삼만리': 6226, '초등생': 6227, '이뻣다': 6228, '감상문': 6229, '서류': 6230, '봉투': 6231, '도망가다': 6232, '진임': 6233, '데니스': 6234, '퀘': 6235, '댄스': 6236, '들썩들썩': 6237, '아젛': 6238, '넢어': 6239, '쿵푸허슬': 6240, '월트디즈니': 6241, '도리': 6242, '프리즌브레이크': 6243, '콧구멍': 6244, '스캇': 6245, '쩌리': 6246, '인스피릿': 6247, '비스트': 6248, '균': 6249, '해병': 6250, '년놈': 6251, '불만': 6252, '해법': 6253, '사발': 6254, '젖': 6255, '것때메': 6256, '여자친구': 6257, '날카롭다': 6258, '형이상학적': 6259, '찔리다': 6260, '지각': 6261, '공기': 6262, '전해지다': 6263, 'ㅡㅡㅋ': 6264, '쟁장': 6265, '재밋게보고잇슴니': 6266, '넘버원': 6267, 'ㅉㅏ': 6268, '완표': 6269, '재영': 6270, '겜블': 6271, '형사물': 6272, '한재석': 6273, '최정희': 6274, '태문': 6275, '에그': 6276, '리즈시절': 6277, '무뚝뚝하다': 6278, '맙': 6279, '다오': 6280, '준놈': 6281, '김재철': 6282, '전사': 6283, '발치': 6284, '누규': 6285, '허드슨': 6286, '유키스': 6287, '유선': 6288, '라던가': 6289, '훌륭햇음': 6290, '웃대': 6291, '애국자': 6292, '남선': 6293, '아이스크림': 6294, '제한': 6295, '설국열차': 6296, '가루지기': 6297, '약점': 6298, '스트라이커': 6299, '김준': 6300, '살육': 6301, '것임': 6302, '흡연량': 6303, '슈퍼스타': 6304, '드라들': 6305, '시범': 6306, '미시': 6307, '윤하': 6308, '관좀': 6309, '귀여니': 6310, '뚬': 6311, '알렉스': 6312, '오로린': 6313, '심심': 6314, '미묘': 6315, '야마카시': 6316, '룸싸롱': 6317, '찌라시': 6318, '개편': 6319, '지상렬': 6320, '이유리': 6321, '까닭': 6322, '온라인': 6323, '서비스': 6324, '오픈': 6325, '오인혜': 6326, '세운': 6327, '돌아서다': 6328, '승려': 6329, '일대기': 6330, '둔기': 6331, '페드로': 6332, '전화기': 6333, '삐뚤어지다': 6334, '베풀다': 6335, '분대': 6336, '맥주': 6337, '마시다': 6338, '퍼뜩': 6339, 'ㅇㄴ': 6340, '추강': 6341, '이솝우화': 6342, '승화': 6343, '반짝반짝': 6344, '종로': 6345, '백곰': 6346, '무장': 6347, '재시': 6348, '키다': 6349, '쩡': 6350, '재밋게봐': 6351, '밋엇움': 6352, '평땜': 6353, '자음': 6354, '식겁하다': 6355, '소신': 6356, '한지민': 6357, '쓰레길': 6358, '혼합': 6359, '맘대로': 6360, '해먹': 6361, '여전': 6362, '동창회': 6363, '에손': 6364, 'ㅅㅂㅡㅡ': 6365, '날아가다': 6366, '바랬어': 6367, '그리기': 6368, '웃스': 6369, '유용하다': 6370, '썻었을거': 6371, '지정학적': 6372, '최강희': 6373, '블랙리스트': 6374, '나살': 6375, '법후': 6376, '발판': 6377, '로세': 6378, '드류': 6379, '모어': 6380, '꼴사납다': 6381, '보건': 6382, '현저': 6383, '쌕시': 6384, '시샘': 6385, '금성': 6386, '샘플': 6387, '느슨하다': 6388, '볼일': 6389, '노출하다': 6390, '족족': 6391, '보때': 6392, '이암': 6393, '컬': 6394, '부전': 6395, '번개': 6396, '드레곤': 6397, '기형': 6398, '덕질': 6399, '아나킨': 6400, '버러지': 6401, '웄던': 6402, '계열': 6403, '예찬': 6404, '오만상': 6405, '불현듯이': 6406, '이준기': 6407, '프렌치': 6408, '캉캉': 6409, '럴슨': 6410, '주근': 6411, '송어': 6412, '박종원': 6413, '알콜': 6414, '서커스': 6415, '이해해': 6416, '머좀': 6417, '무착': 6418, '무뇌': 6419, '무식하다': 6420, '회사원': 6421, '부라': 6422, '님드': 6423, '선진국': 6424, '폐허': 6425, '핵전쟁': 6426, '곰신': 6427, '강간범': 6428, '쿵푸': 6429, '가스펠': 6430, '편곡': 6431, '브리짓스': 6432, '가래': 6433, '헤일': 6434, '테': 6435, '벨트': 6436, '이경실': 6437, '니나': 6438, '본진': 6439, '헤드셋': 6440, '찌릴뻔': 6441, '눈밭': 6442, '몽롱': 6443, '모션': 6444, '뷰': 6445, '이이이이': 6446, '라이오넬': 6447, '부탄가스': 6448, '조만간': 6449, '엊그제': 6450, '사계절': 6451, '스테이': 6452, '로빈스': 6453, '리포트': 6454, '모튼': 6455, '똥망': 6456, '물소': 6457, '분투': 6458, '마음속': 6459, '간질': 6460, '긁다': 6461, '분신사바': 6462, '근처': 6463, '에라도': 6464, '조그만': 6465, '치열하다': 6466, '눈뜨다': 6467, '완점잼': 6468, '임정은': 6469, '부적': 6470, '소질': 6471, '수면제': 6472, '잠자다': 6473, '도기': 6474, '스피드': 6475, '용인': 6476, '이랑은': 6477, '파트너': 6478, '언급': 6479, '기부': 6480, '봉사활동': 6481, '장첸': 6482, '군상': 6483, '떙떙혹': 6484, '틴틴': 6485, '번인': 6486, '출생': 6487, '종결': 6488, '배제': 6489, '편리하다': 6490, '세대': 6491, '대장': 6492, '패럴': 6493, '기득권': 6494, '민주당': 6495, '형무소': 6496, '유사': 6497, '오프라인': 6498, '김효진': 6499, '꼰다': 6500, '쓸모없다': 6501, '뻣뻣하다': 6502, '퇴보': 6503, '코트': 6504, '반즈': 6505, '생생': 6506, '컨저링': 6507, '뭍': 6508, '반쪽': 6509, '영화니': 6510, '활보': 6511, '오리진': 6512, '마지막방송': 6513, '신성록': 6514, '부작용': 6515, '뺒': 6516, '나본': 6517, '라우': 6518, '욧': 6519, '관계자': 6520, '예의': 6521, '갸웃': 6522, '자위행위': 6523, '관용': 6524, '시간대': 6525, '처가': 6526, '다방면': 6527, '아릴': 6528, '샬로': 6529, '맹목': 6530, '샬': 6531, '살길': 6532, '여가': 6533, '뒤뚱뒤뚱': 6534, '퓨티드': 6535, '이두용': 6536, '렸': 6537, '징': 6538, '리자': 6539, '달아오르다': 6540, '뎈': 6541, '대길': 6542, '덕햇': 6543, '운남': 6544, '사이더': 6545, '하우스': 6546, '홀리랜드': 6547, '호야': 6548, '후끈': 6549, '후끈하다': 6550, '태우다': 6551, '쌩뚱맞다': 6552, '똥파리': 6553, '장승': 6554, '순진하다': 6555, '아베': 6556, '히로시': 6557, '타무라': 6558, '카': 6559, '키도': 6560, '온돌': 6561, '어쩌나': 6562, '감싸다': 6563, '익히다': 6564, '부드럽다': 6565, '가격': 6566, '흥정': 6567, '빈번': 6568, '직시': 6569, '어메이징': 6570, '리버': 6571, '피닉스': 6572, '폐해': 6573, '막연하다': 6574, '난무': 6575, '문단속': 6576, '중요성': 6577, '불사': 6578, '숨바꼭질': 6579, '이상자': 6580, '정식': 6581, '진작': 6582, '쵝오네': 6583, '박영화': 6584, '애둘맘': 6585, '애둘': 6586, '재우다': 6587, '낚으시네': 6588, '오늘밤': 6589, '악몸': 6590, '짱꼴라': 6591, '쏟아지다': 6592, '시초': 6593, '괜찬': 6594, '유니크': 6595, '요호': 6596, '보너스': 6597, '오도': 6598, '넬': 6599, '깽': 6600, '옥택연': 6601, '마누라': 6602, '나누기': 6603, '상의': 6604, '고참': 6605, '우발': 6606, '한반도': 6607, '편협': 6608, '까지와': 6609, '난뭐': 6610, '홥': 6611, '프로젝트': 6612, '키리시': 6613, '출렁이다': 6614, '어머님께': 6615, '외할아버지': 6616, '외할머니': 6617, '헐겁다': 6618, '이나영': 6619, '바규': 6620, '갈리다': 6621, '선후배': 6622, '짜리몽땅': 6623, '구관': 6624, '명관': 6625, '천식': 6626, '적요': 6627, '하루히': 6628, '클릭': 6629, '유전': 6630, '무죄': 6631, '무전': 6632, '유죄': 6633, '격투': 6634, '경전': 6635, '다예': 6636, '간략하다': 6637, '불편': 6638, '서울시장': 6639, '후보': 6640, '착': 6641, '달라붙다': 6642, '시방': 6643, '김선빈': 6644, '보물찾기': 6645, '미지': 6646, '희극배우': 6647, '우승': 6648, '송민호': 6649, '뮤직': 6650, '비됴': 6651, '실습': 6652, '대국민': 6653, '하숙': 6654, '사궈': 6655, '최최최': 6656, '불쾌감': 6657, '명의': 6658, '데뷰': 6659, '신경질': 6660, '떽땍거리': 6661, '측은하다': 6662, '카페': 6663, '썰렁하다': 6664, '썰전': 6665, '인맥': 6666, '레벨': 6667, '위인': 6668, '시킴': 6669, '볼랫더': 6670, '파르비스': 6671, '라츠': 6672, '흡사': 6673, '태클': 6674, '아이고': 6675, '정은채': 6676, '녹이다': 6677, '레기': 6678, '유연석': 6679, '손호준': 6680, '섭외': 6681, '요청': 6682, '후처': 6683, '이징': 6684, '거때메': 6685, '직선': 6686, '획기': 6687, '특권': 6688, '듬뿍': 6689, '괴기': 6690, '선희': 6691, '입도': 6692, '패닉': 6693, '멈추다': 6694, '해체': 6695, '수갑': 6696, '쩍': 6697, '참말': 6698, '레젼드': 6699, '미인': 6700, '골빈': 6701, '사라졋으': 6702, '봄내': 6703, '혜결': 6704, '닥본할끙': 6705, '죄파': 6706, '대학로': 6707, '방송국': 6708, '소녀시대': 6709, '경쟁자': 6710, '기수': 6711, '에이리언': 6712, '안마방': 6713, '잏': 6714, '무산': 6715, '토비': 6716, '맥과이어': 6717, '둘째': 6718, '루저': 6719, '설': 6720, '임의': 6721, '마라톤': 6722, '건강': 6723, '일석이조': 6724, '너와나': 6725, '김아중': 6726, '가주': 6727, '블록': 6728, '찾아다니다': 6729, '감탄사': 6730, '버지니아': 6731, '클레어': 6732, '집합소': 6733, 'ㅋㅋㅋㅋㅋㅋㅋㅋㅋㅋ': 6734, 'ㅋㅋㅋㅋㅋㅋㅋㅋㅋㅋㅋㅋㅋㅋㅋㅋㅋ': 6735, '싯달': 6736, '겄': 6737, '꾹': 6738, 'ㅗㅃㅋ': 6739, '꼬맹일때': 6740, '딱지': 6741, '일삼': 6742, '말년': 6743, '고하': 6744, '파일': 6745, '더구나': 6746, '괜츈타': 6747, '이방인': 6748, '왜왜왜': 6749, '미궁': 6750, '못하겄내': 6751, '하문': 6752, '미제': 6753, '느그': 6754, '중거': 6755, '따리': 6756, '백성현': 6757, '최불암': 6758, '전광렬': 6759, '점안': 6760, '손손': 6761, '드넹': 6762, '속단': 6763, '먹방': 6764, '꼴레오네': 6765, '바로바로': 6766, '욱일승천기': 6767, '일장기': 6768, '일맥상통': 6769, '샤워씬': 6770, '추기경': 6771, '교황': 6772, '격었': 6773, '웟': 6774, '그다음': 6775, '김프': 6776, '리맨': 6777, '강도': 6778, '인질': 6779, '절댜': 6780, '가당': 6781, '민세': 6782, '박영린': 6783, '관념': 6784, '순도': 6785, '소임': 6786, '오시': 6787, '마모루': 6788, '일박이일': 6789, '멘타리': 6790, '제자리걸음': 6791, '퇴화': 6792, '데스노트': 6793, '사표': 6794, '구야': 6795, '쓰나미': 6796, '선수': 6797, '전략': 6798, '신기하': 6799, '다주': 6800, '어설품': 6801, '다소간': 6802, '시리다': 6803, '정윤희': 6804, '돌파': 6805, '구사': 6806, '잠기다': 6807, '쇠발개쉐기': 6808, '파워레인저': 6809, '과찬': 6810, '황제': 6811, '황후': 6812, '불화': 6813, '공중부양': 6814, '형광등': 6815, '의료': 6816, '잼슴': 6817, 'ㅇㅎ': 6818, '단발머리': 6819, '거뭐': 6820, '편찮다': 6821, '만만하다': 6822, '자각': 6823, '선덕여왕': 6824, '닥터진': 6825, '진해': 6826, '동무': 6827, '악평': 6828, '스피디함': 6829, '돌발': 6830, '황보라': 6831, '잘맞다': 6832, 'ㅠㅂㅠ': 6833, '원망하다': 6834, '미군정': 6835, '이승': 6836, '행적': 6837, '규명': 6838, 'ㅋㅋㅋㅋㅋㅋㅋㅋㅋㅋㅋㅋㅋㅋㅋㅋㅋㅋㅋㅋㅋㅋㅋㅋㅋㅋㅋㅋㅋㅋㅋㅋㅋ': 6839, '아시안': 6840, '굴렁쇠': 6841, '벗기다': 6842, '갑날': 6843, '조이스틱': 6844, '지그': 6845, '빅매치': 6846, '컴텨': 6847, '김조광수': 6848, '아성': 6849, '옼': 6850, '앟': 6851, '드르륵': 6852, '처넌': 6853, '이해력': 6854, '은위': 6855, '로그': 6856, '두드리다': 6857, '감돈': 6858, '터치': 6859, '삼가다': 6860, '고인': 6861, '뼈채': 6862, '대략': 6863, '쇼생': 6864, '서사시': 6865, '맥락': 6866, '근대': 6867, '중요시': 6868, '최헌': 6869, '대풍수': 6870, '교체': 6871, '헛짓임': 6872, '실사영화': 6873, '김정훈': 6874, '투사': 6875, '순결하다': 6876, '곧다': 6877, '불과': 6878, '우습다': 6879, '감당': 6880, '얍얍': 6881, '뚝딱': 6882, '외로이': 6883, '쪽나': 6884, '해전': 6885, '네버엔딩': 6886, '윤시윤': 6887, '따스하다': 6888, '행크스': 6889, '윌': 6890, '소리치다': 6891, '손톱': 6892, '째다': 6893, '차원': 6894, '청국장': 6895, '데드풀': 6896, '응사': 6897, '한혜진': 6898, '다이아나': 6899, '쫓아오다': 6900, '퀸': 6901, '불발': 6902, '봣을떄': 6903, '벨아미': 6904, '로버트패틴슨': 6905, '스필버그': 6906, '우연이': 6907, '빼놓다': 6908, '붙여넣기': 6909, '나눔': 6910, '당근': 6911, '좆선': 6912, '일베충': 6913, '황추생': 6914, '오진우': 6915, '복도': 6916, '살리에리': 6917, '사하다': 6918, '모차르트': 6919, '빠닼': 6920, '가방': 6921, '압꿘': 6922, '팼다': 6923, '이역': 6924, '마법사': 6925, '실비': 6926, '블렉코메디': 6927, '메딘': 6928, '워킹데드': 6929, '터미널': 6930, '이수만': 6931, '미천하다': 6932, '속상하다': 6933, '과유': 6934, '불급': 6935, '대전': 6936, '네덜란드인': 6937, '일제시대': 6938, '외세': 6939, '침입': 6940, '종류': 6941, '애완견': 6942, '복종': 6943, '배신자': 6944, '척결': 6945, '추접': 6946, '으로써는': 6947, '정준': 6948, '용씨': 6949, '마직': 6950, '막부': 6951, '유주얼서스펙트': 6952, '웨이': 6953, '지밀': 6954, '버시': 6955, '답임': 6956, '도구로': 6957, '주소': 6958, '마파도': 6959, '특성': 6960, '출하': 6961, '오직': 6962, '에르': 6963, '체베트': 6964, '왕족': 6965, '희생양': 6966, '비운': 6967, '아완': 6968, '죤': 6969, '팡': 6970, '지엔': 6971, '되살리다': 6972, '약물': 6973, '스나입스': 6974, '신랄하다': 6975, '파김치': 6976, '백악관': 6977, '화초': 6978, '힌트': 6979, '키포인트': 6980, '치사하다': 6981, '짱개': 6982, '대요': 6983, '태반': 6984, '다람쥐': 6985, '여울': 6986, '의젖': 6987, '읭응': 6988, '핸드': 6989, '사납다': 6990, '괴물영화': 6991, '매드': 6992, '어요': 6993, '회볼때': 6994, '발라': 6995, '초록': 6996, '요도': 6997, '완득이': 6998, '는가': 6999, '변신': 7000, '라비': 7001, '로즈': 7002, '누굴까': 7003, '이디스': 7004, '치코': 7005, '나우': 7006, '건물': 7007, '지하가': 7008, '더보': 7009, '콩코드기': 7010, '끝장': 7011, '최소': 7012, '양도': 7013, '헝편없어': 7014, '라이즈': 7015, '롱롱롱': 7016, '붕뜬': 7017, '잠기': 7018, 'ㅋㅋㅋㄱ': 7019, '트레일러': 7020, '로드리게스': 7021, '셀마': 7022, '멕': 7023, '포도': 7024, '딸기': 7025, '디센트': 7026, '이기광': 7027, '주행': 7028, '었': 7029, '썪는줄': 7030, '비둘기': 7031, '성애자': 7032, '들르다': 7033, '해드리다': 7034, '절반': 7035, '할인': 7036, '중국사람': 7037, '보조': 7038, '순응': 7039, '세밀': 7040, '원인': 7041, '과오': 7042, '로드무비': 7043, '올랜도': 7044, '블룸': 7045, '나카타': 7046, '디다': 7047, '레슬리': 7048, '닐슨': 7049, '기념비': 7050, '구입': 7051, '뒤늦다': 7052, '김조한': 7053, '쏭': 7054, '현태': 7055, 'ㅠㅠㅠㅠㅠㅠㅠㅠㅠㅠㅠ': 7056, '솔직': 7057, '긴박하다': 7058, '개입': 7059, '남일': 7060, '랬': 7061, '멋쪙': 7062, '남규리': 7063, '찌푸리다': 7064, '되드라구': 7065, '기담': 7066, '인어': 7067, '꼬리': 7068, '신비롭다': 7069, '못자다': 7070, '엄지원': 7071, '이지아': 7072, '죨': 7073, '해품달': 7074, '삼계탕': 7075, '후라이드': 7076, '삼겹살': 7077, '드럼': 7078, '왓으': 7079, '흐접': 7080, '찌랭': 7081, '이도영': 7082, '힝': 7083, '상응': 7084, '개살구': 7085, '여강': 7086, '난입': 7087, '빼어나다': 7088, '지하실': 7089, '고사': 7090, '조정래': 7091, '오래도록': 7092, '김현주': 7093, '살색': 7094, '법적': 7095, '열쇠': 7096, '계획': 7097, '헤롱헤롱': 7098, '술처': 7099, '어쩜이리': 7100, '징글': 7101, '화합': 7102, '야인시대': 7103, '밀양': 7104, '깊숙하다': 7105, '뽐내다': 7106, '백만불': 7107, '오씨': 7108, '디아나': 7109, '암프': 7110, '뭘말': 7111, '투철': 7112, '어필': 7113, '스톱모션': 7114, '정성': 7115, '노다메': 7116, '살기': 7117, '배구': 7118, '뻘짓': 7119, '멘붕': 7120, '페러다임': 7121, '몰상식하다': 7122, '빠뜨리다': 7123, '면알': 7124, '가증': 7125, '쑈할때': 7126, '행각': 7127, '뻔뻔': 7128, '천안함프로젝트': 7129, '가드': 7130, '리암': 7131, '슨': 7132, '잼없드': 7133, '임정': 7134, '조민수': 7135, '잼남앞': 7136, '순순하다': 7137, '상저': 7138, '웅': 7139, '무너': 7140, '요망': 7141, '주정뱅이': 7142, '횡설수설': 7143, '대절': 7144, '린아': 7145, '따라서': 7146, '종은': 7147, '표지판': 7148, '빨랑멈처': 7149, '린지': 7150, '디배': 7151, '향상': 7152, '악물다': 7153, '라이브': 7154, '사병': 7155, '난점': 7156, '여덟': 7157, '봉': 7158, '뚜껑': 7159, '구상': 7160, '거겟': 7161, '심리학자': 7162, '상담': 7163, '직소': 7164, '고스톱': 7165, '치킨': 7166, '가구야': 7167, '가사': 7168, '용치': 7169, '년안': 7170, '작품하나': 7171, '패션쇼': 7172, '눈알': 7173, '어따': 7174, '한화': 7175, '콘도': 7176, '꽁': 7177, '모욕죄': 7178, '어이없이': 7179, '도크': 7180, '며칠': 7181, '이지나': 7182, '제비': 7183, '킹오파': 7184, '번지르르하다': 7185, '사라예보': 7186, '반대편': 7187, '이대로': 7188, '큰일': 7189, '힙합': 7190, '불행중': 7191, '코엑스': 7192, '아랫쪽': 7193, '배치': 7194, '컴터': 7195, '락': 7196, '린데': 7197, '벌거숭이': 7198, '임금님': 7199, '신선': 7200, '핵꿀잼': 7201, '밋게봣': 7202, '감회': 7203, '궁가': 7204, '바랫': 7205, '건만': 7206, '대세': 7207, '강점': 7208, '징용': 7209, '한인': 7210, '천명': 7211, '상당수': 7212, '패전': 7213, '마감': 7214, '조상': 7215, '방지법': 7216, '원빈': 7217, '기인': 7218, '시아란': 7219, '힌즈': 7220, '분한': 7221, '갑갑하다': 7222, '콩쾌': 7223, '제데로': 7224, '강심장': 7225, '뽱': 7226, '말빨': 7227, '왜욕해': 7228, '더락': 7229, '존시나': 7230, '셧': 7231, '레슬링': 7232, '어떻든': 7233, '맞장구': 7234, '대사도': 7235, '대학입시': 7236, '졸료': 7237, '아슬아슬하다': 7238, '무궁무진': 7239, '훨훨': 7240, '써머': 7241, '관성': 7242, '걸핏하면': 7243, '깨지다': 7244, '재혼': 7245, '조울증': 7246, '괴리감': 7247, '떨치다': 7248, '엄': 7249, '김진수': 7250, '나오넥': 7251, '호평': 7252, '안도': 7253, '크': 7254, '쫓아가다': 7255, '클로이': 7256, '흐헬': 7257, '이상향': 7258, '시꺼멓다': 7259, '배짱': 7260, '인구': 7261, '중박': 7262, '레저': 7263, '재탄생': 7264, '따름': 7265, '이슬람교': 7266, '어둡다': 7267, '거만하다': 7268, '사형수': 7269, '트란안훙꺼': 7270, '늦가을': 7271, '산책': 7272, '경향': 7273, '활발하다': 7274, '드하': 7275, '원더풀': 7276, '원보': 7277, '김지석': 7278, '천막': 7279, '토익': 7280, '스리': 7281, '킵': 7282, '무빙': 7283, '포워드': 7284, '글래머': 7285, '순대볶음': 7286, '자칭': 7287, '인심': 7288, '찡끗': 7289, '이영하': 7290, '노동자': 7291, '하그': 7292, '그늘': 7293, '초때': 7294, '본연': 7295, '무니': 7296, '인증': 7297, '기묘하다': 7298, '쉬망': 7299, '연감': 7300, '진입': 7301, '칠하다': 7302, '천배': 7303, '아이맥스': 7304, '조우': 7305, '퇴보하다': 7306, '미라': 7307, '발킬머': 7308, '스케이트장': 7309, '폐가': 7310, '감고': 7311, '운율': 7312, '고급': 7313, '알포인트': 7314, '연구': 7315, '호킨스': 7316, '샘슨': 7317, '낭랑하다': 7318, '리딩': 7319, '레드라이트': 7320, '팥': 7321, '붕어빵': 7322, '비우다': 7323, '팀버': 7324, '레이크': 7325, '거만': 7326, '중졸': 7327, '큰소리치다': 7328, '김우빈': 7329, '좔좔': 7330, '와사비': 7331, '리차드': 7332, '비로소': 7333, '카사노바': 7334, '누드': 7335, '쎼뇨리따': 7336, '다스': 7337, '탭': 7338, 'ㅔ': 7339, '이버': 7340, '콧물': 7341, '목도리': 7342, '육': 7343, '백화': 7344, '외로': 7345, '내보내다': 7346, '마츠야': 7347, '켄': 7348, '갑작스레': 7349, '벡실': 7350, '즐감': 7351, '츽오': 7352, '띠워': 7353, '방학': 7354, '뉴코아': 7355, '지배': 7356, '머나멀다': 7357, '바벨': 7358, '강정': 7359, '그램': 7360, '만들긔': 7361, '낮아지다': 7362, '맑은': 7363, '세탁기': 7364, '뭐햇': 7365, '텐션': 7366, '순식간': 7367, '퍼시픽림': 7368, '스등': 7369, '죄송': 7370, '드랍': 7371, '위만': 7372, '어화': 7373, '가나': 7374, '빙점': 7375, '개잼': 7376, '닯': 7377, '플라이': 7378, '캬캬캬': 7379, '전두환': 7380, '흐리다': 7381, '기립박수': 7382, '알프레드': 7383, '투비': 7384, '임마': 7385, '봣으': 7386, '살며시': 7387, '난국': 7388, '평론': 7389, '왜봣': 7390, '열심': 7391, '슬론': 7392, '생텀': 7393, '속임수': 7394, '인런글': 7395, '자서': 7396, '잇엇으': 7397, '원씨': 7398, '형용': 7399, '까지라도': 7400, '독하다': 7401, '무명': 7402, '페제': 7403, '그린호넷': 7404, '박상면': 7405, '낚였어': 7406, '김여정': 7407, '찡하다': 7408, '장쯔이': 7409, '총구': 7410, '입속': 7411, '치루는일': 7412, '화난': 7413, '밨는데': 7414, '특선영화': 7415, '사면': 7416, '윌슨': 7417, '느꼇다': 7418, '일도': 7419, '제하': 7420, '화재현장': 7421, '똥쿠소': 7422, '멍청이': 7423, '할머님': 7424, '호빗': 7425, '아날로그': 7426, '투닥': 7427, '랜디': 7428, '실베스터': 7429, '일보': 7430, '확확': 7431, '꽂히다': 7432, '다임': 7433, '수원': 7434, '중앙': 7435, '밑에님보': 7436, '뿜음': 7437, 'ㄱㄱ': 7438, '유독': 7439, '강의': 7440, '육상': 7441, '첫걸음': 7442, '박정철': 7443, '초원': 7444, '주지훈': 7445, '인철': 7446, '알반': 7447, '환희': 7448, '인터넷': 7449, '남자이야기': 7450, '민수형': 7451, '우리동네': 7452, '접류': 7453, '헛소리': 7454, '씌우다': 7455, '부인': 7456, '가엾다': 7457, '뭐별': 7458, '박준형': 7459, '찬송': 7460, '성경책': 7461, '교인': 7462, '영계': 7463, '장병': 7464, '노땅녀': 7465, '베베': 7466, '옥보단': 7467, '다분': 7468, '걷기': 7469, '아빠어디가': 7470, '보물': 7471, '형역': 7472, '올드보이': 7473, '삼사': 7474, '커피숍': 7475, '의논': 7476, '진장': 7477, '소울메이트': 7478, '료': 7479, '사인방': 7480, '아유': 7481, '신밧드': 7482, '험담': 7483, '오한': 7484, '반대말': 7485, '왜냐하면': 7486, '의료인': 7487, '교육인': 7488, '공공': 7489, '급박하다': 7490, '압박': 7491, '황비홍': 7492, '방세옥': 7493, '매기': 7494, '큐땜': 7495, '캄탄할': 7496, '푸념': 7497, '캠프': 7498, '생존': 7499, '미리': 7500, '도그빌': 7501, '출산': 7502, '언더월드': 7503, 'ㅆㅆㅆㅆㅆㅆ': 7504, '진짜루': 7505, '거처': 7506, '새끼고양이': 7507, '들이밀다': 7508, '버튼': 7509, '아악': 7510, '맨앤': 7511, '활용': 7512, '유명배우': 7513, '짊': 7514, '여담': 7515, '프시': 7516, '황금기': 7517, '춘추전국': 7518, '나래': 7519, '욘사마': 7520, '서막': 7521, '화류': 7522, '말좀해': 7523, '개쯔레기': 7524, '지난번': 7525, '준면': 7526, '나잘하다': 7527, '정명석': 7528, '군침': 7529, '존큐': 7530, '천연색': 7531, '좌절': 7532, '우수': 7533, '셜록홈즈': 7534, '텐데': 7535, '요전': 7536, '마가렛': 7537, '없엇으': 7538, '더재': 7539, '밋엇': 7540, '박지수': 7541, '햐하핯': 7542, '국보': 7543, '아야': 7544, '잘잘못': 7545, '금액': 7546, '으잌': 7547, '벗': 7548, '닭': 7549, '돌아이': 7550, '콰이어트': 7551, '청아': 7552, '엣지': 7553, '투모로우': 7554, '박히다': 7555, '카운트': 7556, '일뚱': 7557, '퍼포먼스': 7558, '겡': 7559, '부시맨': 7560, '양민수': 7561, '공동체': 7562, '영수': 7563, '병장': 7564, '해감': 7565, '피리': 7566, '불면': 7567, '까딱까딱': 7568, '벙커': 7569, '차려': 7570, '어우지루': 7571, '끝판': 7572, '애매': 7573, '그랫쪄': 7574, '얇다': 7575, '갈라티아': 7576, '이수경': 7577, '효리': 7578, '외도': 7579, '통채': 7580, '이자스민': 7581, '새누리당': 7582, '으악': 7583, '웩': 7584, '질풍': 7585, '게기': 7586, '영희': 7587, '느님': 7588, 'ㅜㅜㅜㅜㅜㅜㅜㅜㅜㅜㅜㅜㅜㅜㅜㅜㅜㅜㅜㅜㅜㅜㅜㅜㅜㅜㅜ': 7589, '광경': 7590, '밥말': 7591, '더블린': 7592, '이마트': 7593, '샷따': 7594, '소화기': 7595, '압권제': 7596, '퀴어': 7597, '왜안됫': 7598, '얕다': 7599, '쩌는듯': 7600, '마야': 7601, '불안감': 7602, '고저': 7603, '시시': 7604, '껄렁하다': 7605, '대관': 7606, '매그놀리아': 7607, '무성': 7608, '맹탕': 7609, '홀트': 7610, '소담': 7611, '무라카미': 7612, '잖다': 7613, '만화영화': 7614, '워낭소리': 7615, '유식': 7616, '엑스': 7617, '궁극': 7618, '패착': 7619, '서러움': 7620, '슷비슷비하': 7621, '이나마': 7622, '능동': 7623, '울프': 7624, '스카': 7625, '시원시원하다': 7626, '그렇지만': 7627, '묵념': 7628, '아론': 7629, '존슨': 7630, '레논': 7631, '얙션': 7632, '촤근': 7633, '워쇼스키': 7634, '걸돈': 7635, '닫히다': 7636, '버무러': 7637, '스타크래프트': 7638, '질럿들': 7639, '변비': 7640, '돌쇠': 7641, '익명성': 7642, '나장': 7643, '장터': 7644, '벌로': 7645, '로다': 7646, '자부': 7647, '없슴다': 7648, '조자룡': 7649, '야스쿠니': 7650, '토로': 7651, '키스신': 7652, '필자': 7653, '결심': 7654, '이준익': 7655, '샤시': 7656, '햇님': 7657, '태양빛': 7658, '케함': 7659, '관음증': 7660, '쓰라리다': 7661, '노개런티': 7662, '김우수': 7663, '매년': 7664, 'ㅏㅋㅋ': 7665, '음슴다': 7666, '교섭': 7667, '덤덤하다': 7668, '일이구': 7669, '독살': 7670, '안되겠니': 7671, 'ㅎㅅㅎ': 7672, '권인지': 7673, '싸이다': 7674, '마이클잭슨': 7675, '비칭할때': 7676, '실연': 7677, '일본여행': 7678, '분과': 7679, '동일': 7680, '김민지': 7681, '이수혁': 7682, '채트원': 7683, '라거': 7684, '깁슨': 7685, '퍼시픽': 7686, '림': 7687, '껀': 7688, '한거자': 7689, '이라곤': 7690, '청춘영화': 7691, '워터보이즈': 7692, '저능': 7693, '찬란하다': 7694, '랄프': 7695, '들여다보다': 7696, '해나': 7697, '막막하다': 7698, '정준하': 7699, '박중훈': 7700, '배척': 7701, '국': 7702, '셨': 7703, '시궁창': 7704, '컬트영화': 7705, '리도': 7706, '어어어어': 7707, '뱃가이': 7708, '불리다': 7709, '욕구': 7710, '플래닛': 7711, '비보': 7712, 'ㅉㅉㅉㅉ': 7713, '윤숙': 7714, '파파야': 7715, '관리자': 7716, '터끝': 7717, '멍하니': 7718, '무표정': 7719, '네티즌': 7720, '럭': 7721, '까비': 7722, '녀놈': 7723, '뻣': 7724, '오룡': 7725, '썻다하': 7726, '손오공': 7727, '갈증': 7728, '해소': 7729, '수박도': 7730, '케토': 7731, '대재앙': 7732, '헛점많': 7733, '꼼꼼하다': 7734, '특정': 7735, '후퇴': 7736, '안전': 7737, '사하나': 7738, '보물상자': 7739, '웃낌': 7740, '날줄': 7741, '이게뭐얌': 7742, 'ㅠㅠㅠㅠㅠㅠㅠ': 7743, '재및음': 7744, '멜번': 7745, '증세': 7746, '나기': 7747, '영향력': 7748, '뎌': 7749, '신슌': 7750, '거니': 7751, '소가': 7752, '황폐': 7753, '각심': 7754, '이러다가': 7755, '회태': 7756, '방터': 7757, '소매치기': 7758, '뺑소니': 7759, '눈감다': 7760, '점심': 7761, '부러지다': 7762, '이착': 7763, '척움': 7764, '흉하다': 7765, '도개': 7766, '운치': 7767, '피에타': 7768, '윤소이': 7769, '울상': 7770, '복희': 7771, '격거봣': 7772, '화병': 7773, '혼하': 7774, '명탐정코난': 7775, '남도일': 7776, '교포': 7777, '가물가물': 7778, '게바라': 7779, '예루살렘': 7780, '팔로우': 7781, '뿌리치다': 7782, '안전모': 7783, '전철': 7784, '노드': 7785, '입가': 7786, '방사': 7787, '수합': 7788, '헬스장': 7789, '사키': 7790, '잼잼': 7791, '영도': 7792, '조선소': 7793, '지난해': 7794, '선박': 7795, '수주': 7796, '음울하다': 7797, '조여': 7798, '조종': 7799, '도서관': 7800, '마리옹': 7801, '꼬띠': 7802, '낚었어': 7803, '왜케많': 7804, '토요명화': 7805, '정보석': 7806, '강경준': 7807, '정우식': 7808, '조우리': 7809, '탤런트': 7810, '이장우': 7811, '흡수': 7812, '컷팅': 7813, '캔슬': 7814, '거물': 7815, '억억천만': 7816, '위안': 7817, '블럭버스터': 7818, '장정초': 7819, '빛깔': 7820, '지니다': 7821, '석가탄신일': 7822, '석탄일': 7823, '뚜렷하다': 7824, '나물': 7825, '하등': 7826, '량': 7827, '도적': 7828, '브라더스': 7829, '선구자': 7830, '패딩턴': 7831, '용하다': 7832, '통일한국': 7833, '그리스도인': 7834, '이백만원': 7835, '벌금': 7836, '붕법': 7837, '벡터맨': 7838, '프로도': 7839, '연령': 7840, '대별': 7841, '워리어': 7842, '지당': 7843, '개이득': 7844, '이양': 7845, '하다못해': 7846, '졷': 7847, '덩': 7848, '프라챠': 7849, '핀카엡': 7850, '빈자리': 7851, '퍼시잭슨': 7852, '일치': 7853, '안티': 7854, '차세대': 7855, '파가': 7856, '카와이': 7857, '스마트폰': 7858, '도중': 7859, '베데스다': 7860, '작부': 7861, '레버': 7862, '마카로니': 7863, '선두': 7864, '에리오': 7865, '모리': 7866, '뻔헸': 7867, '다지다': 7868, '따': 7869, '재발': 7870, '갓말띤줄알았': 7871, '왓': 7872, 'ㅜㅜㅠ': 7873, '영화떄문': 7874, '김갑수': 7875, '인도영화': 7876, '요기': 7877, '중후': 7878, '배급': 7879, '말입': 7880, '문장': 7881, '월드컵': 7882, '간질병': 7883, '구태의연하다': 7884, '고루': 7885, '경력': 7886, '편안함': 7887, '버무린': 7888, '시에라리온': 7889, '자이몬': 7890, '훈수': 7891, '요강': 7892, '즌': 7893, '브레이크': 7894, '레이싱': 7895, '무용지물': 7896, '아리땁다': 7897, '다케우치': 7898, '기모노': 7899, '끈': 7900, '고질라': 7901, '다봣는데': 7902, '파이널': 7903, '멉': 7904, '고제': 7905, '우주기지': 7906, '튼실하다': 7907, '우기다': 7908, '하인': 7909, '욱겨': 7910, '디지다': 7911, '줄알': 7912, '헌터헌터': 7913, '조지': 7914, '클루니': 7915, '티란': 7916, '노아': 7917, '자지러지다': 7918, '쪙': 7919, '봤늡데': 7920, '매너': 7921, '어눌하다': 7922, '이그리': 7923, '피지': 7924, '국밥': 7925, '리만': 7926, '싸이': 7927, '코같다': 7928, '로얄': 7929, '익스펜더블': 7930, '까브리머싯씀': 7931, '당기다': 7932, '미워하다': 7933, '연상연하': 7934, '자호': 7935, '취조': 7936, '통편집': 7937, '문근영': 7938, '암호': 7939, '모스부호': 7940, '치렁치렁': 7941, '헤어쇼': 7942, '최정윤': 7943, '유애': 7944, '계절': 7945, '학기': 7946, '좃': 7947, '불만족': 7948, '나야': 7949, '낚곃네': 7950, '공지': 7951, '리카': 7952, '오달수': 7953, '축': 7954, '천박': 7955, '경매': 7956, '초상': 7957, '티앙': 7958, '카타': 7959, '재활용품': 7960, '수박': 7961, '복사': 7962, '자본': 7963, '만으로는': 7964, '박은혜': 7965, '맙소사': 7966, '추심': 7967, '볼껄그': 7968, '명민하다': 7969, '애고': 7970, '엑스맨': 7971, '증': 7972, '똑': 7973, '셋트': 7974, '여진구': 7975, '낌': 7976, '애잔하다': 7977, '풋함': 7978, '놀람': 7979, '호박': 7980, '방한': 7981, '김부선': 7982, '유흥': 7983, '유명인사': 7984, '비싸다': 7985, '구두': 7986, '벅스라이프': 7987, '관광': 7988, '젬': 7989, '읭스러움': 7990, '덴마크': 7991, '노르웨이': 7992, '북유럽': 7993, '백지': 7994, '황석': 7995, '작도': 7996, '고안': 7997, '가만있다': 7998, '불똥': 7999, '있엇구': 8000, '르르': 8001, '여학생': 8002, '백마': 8003, '어울림': 8004, '살맛': 8005, '복용': 8006, '바운운스': 8007, '포레스트검프': 8008, '개보': 8009, '터프': 8010, '전진': 8011, '당돌하다': 8012, '상영작': 8013, '현혹': 8014, '고객': 8015, '머진': 8016, '칭송': 8017, '이러니까': 8018, '김소연': 8019, '러': 8020, '개발': 8021, '시정': 8022, '현영': 8023, '칠흑': 8024, '추적자': 8025, '난널': 8026, '현정이': 8027, '급하다': 8028, '재계': 8029, '고집쟁이': 8030, '서유기': 8031, '머꼬': 8032, '공이': 8033, '콜라보': 8034, '고나은': 8035, '미란': 8036, '가누다': 8037, '멍멍': 8038, '실습생': 8039, '큰작가되셩': 8040, '석호': 8041, '올라서다': 8042, '수위': 8043, '의사소통': 8044, '다니엘': 8045, '스콜': 8046, '세지': 8047, '밖에는': 8048, '껄끄랏': 8049, '자고로': 8050, '가레스': 8051, '기록': 8052, '증폭': 8053, '소유진': 8054, '글쎼': 8055, '이펙트': 8056, '마침': 8057, '딸도': 8058, '내딸': 8059, '아비': 8060, '종교인': 8061, '움속': 8062, '나후': 8063, '아스카': 8064, '읽히다': 8065, '저리다': 8066, '재밋는거': 8067, '잘나가다': 8068, '치히로': 8069, '행방불명': 8070, '화점': 8071, '벚꽃': 8072, '밀다': 8073, '썸머': 8074, '조정석': 8075, '불평등': 8076, '이기대': 8077, '창희': 8078, '강산': 8079, '아팟': 8080, '크랭크': 8081, '스무': 8082, '울렁거리다': 8083, '호모포비아': 8084, '인간시장': 8085, '더기': 8086, '남자친구': 8087, '넴': 8088, '빡': 8089, '뭐시기': 8090, '트루': 8091, '스내치': 8092, '무리다': 8093, '정두홍': 8094, '액숀': 8095, '리멤버': 8096, '노트북': 8097, '난장판': 8098, '미유키': 8099, '실현': 8100, '살의': 8101, '사라': 8102, '궁지': 8103, '몰리다': 8104, '역설': 8105, '성악가': 8106, '아리아': 8107, '가벼워지다': 8108, '방안': 8109, '집주인': 8110, '아주머니': 8111, '버켓': 8112, '리스트': 8113, '세우다': 8114, '어학': 8115, '류승수': 8116, '이솜': 8117, '실재': 8118, '에게나': 8119, '가두다': 8120, '진정선': 8121, '최소라': 8122, '신현지': 8123, '통상': 8124, '평상시': 8125, '더블': 8126, '유년기': 8127, '중학생': 8128, '양념': 8129, '인과': 8130, '뒤통수': 8131, '주차': 8132, '칼부림': 8133, '화지': 8134, '개시': 8135, '개똥칠': 8136, '식견': 8137, '나잇스탠드': 8138, '사고방식': 8139, '후레쉬맨': 8140, '오닐': 8141, '도도': 8142, '지리멸렬하다': 8143, '어리석다': 8144, '김세준': 8145, '파치노': 8146, '팔마': 8147, '이말년': 8148, '유물': 8149, '차이다': 8150, '천일': 8151, '구지': 8152, '친분': 8153, '특별출연': 8154, '하이킥': 8155, '황제펭귄': 8156, '남여': 8157, '인정받다': 8158, '두목': 8159, '천년': 8160, '유혼': 8161, '마니마니': 8162, 'ㅘ': 8163, 'ㅏㅏㅏ': 8164, '골드미스': 8165, '세바퀴': 8166, '둘일때': 8167, '정이안': 8168, '헥헥거리': 8169, '동명이인': 8170, '맞대다': 8171, '롭': 8172, '슈나이더': 8173, '재미나다': 8174, '김민정': 8175, '파스': 8176, '스탠리': 8177, '깃털': 8178, '흑백영화': 8179, '이남': 8180, '흐미': 8181, '좀해': 8182, '그따위': 8183, '어쨌든': 8184, '나팔': 8185, '미요': 8186, '유전자': 8187, '그나': 8188, '미숙': 8189, '여실히': 8190, '라디오': 8191, '기숙': 8192, '전원': 8193, '에타': 8194, '숨지다': 8195, '갈비': 8196, '벙': 8197, '더도': 8198, '연대': 8199, '거쫌': 8200, '타락하다': 8201, '희롱': 8202, '아니닠': 8203, '나도꽃': 8204, '흑암': 8205, '용형': 8206, '호제': 8207, '진보': 8208, '외치다': 8209, '말씨': 8210, '낄낄대다': 8211, '애국심': 8212, '무치': 8213, '한가하다': 8214, '울화통': 8215, '아랐': 8216, '극찬': 8217, '둘째딸': 8218, '황금시간대': 8219, '수신료': 8220, '펜대': 8221, '트이다': 8222, '미생': 8223, '낚이': 8224, '자아도취': 8225, '다각': 8226, '사시': 8227, '인과관계': 8228, '노소': 8229, '충족': 8230, '재활용': 8231, '왕가네': 8232, '이은주': 8233, '연애소설': 8234, '스페셜': 8235, '축하': 8236, '과장하다': 8237, '태고': 8238, '머리털': 8239, '워스트': 8240, '거꾸로': 8241, '폭소': 8242, '봉달': 8243, '트루먼쇼': 8244, '환복': 8245, '크리스탈': 8246, '인식': 8247, '못느꼇': 8248, '아노하나': 8249, '슈타게': 8250, '급사': 8251, '큰데미췬': 8252, '음정': 8253, '갈갈': 8254, '보셧어': 8255, '홀딱': 8256, '고문': 8257, '왜인': 8258, '광관': 8259, '돌아다니다': 8260, '학자': 8261, '로마인': 8262, '주해': 8263, '근거': 8264, '전무하다': 8265, '김수미': 8266, '안이하다': 8267, '사교': 8268, '일부분': 8269, '사례': 8270, '어럈을때': 8271, '완젼빠': 8272, '암도': 8273, '이상훈': 8274, '그레고리': 8275, '성가': 8276, '내려앉다': 8277, '달성': 8278, '무뇌충일': 8279, '만지다': 8280, '두근': 8281, '허각': 8282, '멸망하다': 8283, '제본': 8284, '미도리': 8285, '과다르': 8286, '한여운': 8287, '요담': 8288, '다코타': 8289, '패닝': 8290, '번디': 8291, '같잖다': 8292, '은평': 8293, '무자': 8294, '격자': 8295, '월급': 8296, '와츠': 8297, '련': 8298, '모터사이클': 8299, '낯': 8300, '추석': 8301, '녹음기': 8302, '베스트셀러': 8303, '박쥐': 8304, '조악하다': 8305, '끊임없다': 8306, '주술': 8307, '천천히': 8308, '안토니오': 8309, '모티프': 8310, '정안': 8311, '홍길동전': 8312, '힐줄': 8313, '어머나': 8314, '요따위': 8315, '속수무책': 8316, '머랄': 8317, '모독': 8318, '정진': 8319, '애뜻': 8320, '억울': 8321, '하늘나라': 8322, '노무현': 8323, '쯔무시': 8324, '구원': 8325, '황신혜': 8326, '티남': 8327, '빡센': 8328, 'ㅋㄱ': 8329, '중병': 8330, '안거': 8331, '범죄예방': 8332, '남의껄': 8333, '못만듬': 8334, '이래도': 8335, '도시락': 8336, '씩씩하다': 8337, '게봣습': 8338, '뻗다': 8339, '챙': 8340, '칼라': 8341, '지아이조': 8342, '캠프락': 8343, '버레스크': 8344, '얼리다': 8345, '마리나': 8346, '꼽아': 8347, '전직': 8348, '두운': 8349, '이어진': 8350, '동양인': 8351, '서양인': 8352, '통속': 8353, '트라이앵글': 8354, '폭포': 8355, '밀리다': 8356, '비키다': 8357, '코딱지': 8358, '보안': 8359, '범학': 8360, '촌극': 8361, '해밋': 8362, '수확': 8363, '셰인': 8364, '보셩': 8365, '의형제': 8366, '건드리다': 8367, '잘끝냇구': 8368, '강아지': 8369, '공임': 8370, '지송': 8371, '비폭력': 8372, '남진': 8373, '바티스타': 8374, '하고만': 8375, '망측하다': 8376, '경비': 8377, '오토바이': 8378, '따돌리다': 8379, '잡아내다': 8380, '두세': 8381, '최다니엘': 8382, '롯데': 8383, '한하유': 8384, '루고': 8385, '왜놈': 8386, '조센징': 8387, '모시': 8388, '에플랙': 8389, '입체': 8390, 'ㅊ': 8391, '무분별': 8392, '방공': 8393, '이탈리아인': 8394, '문법': 8395, '자임': 8396, '조성은': 8397, '진배': 8398, '크리에이터': 8399, '압시': 8400, '겸손': 8401, '무수': 8402, '조심하다': 8403, '안주': 8404, '랍니다': 8405, '사십': 8406, '박하사탕': 8407, '생으로': 8408, '생명력': 8409, '뿜어대': 8410, '하여금': 8411, '목도': 8412, '현란하다': 8413, '요시노': 8414, '오크': 8415, '에잇': 8416, '카체이싱': 8417, '박력': 8418, '스턴': 8419, '평등': 8420, '조심': 8421, '시아': 8422, '자씨': 8423, '뮤턴트': 8424, '스튜어트': 8425, '킹콩': 8426, '태민': 8427, '멤버': 8428, '사빠': 8429, '두드러지다': 8430, '상업성': 8431, '자세': 8432, '레드': 8433, '쌉싸름하다': 8434, '각양각색': 8435, '홍길동': 8436, '혹독': 8437, '야외': 8438, '활빈당': 8439, '식구': 8440, '신비': 8441, '박제': 8442, '풍속': 8443, '학적': 8444, '가치나': 8445, '자의식': 8446, '꿈틀': 8447, '서투르다': 8448, '게으르다': 8449, '똥통': 8450, '초늑녁': 8451, '기언': 8452, '일색': 8453, '아랫': 8454, '반신반의': 8455, '뚝심': 8456, '추잡': 8457, '연산군': 8458, '흘': 8459, '무뇌충': 8460, '서구': 8461, '하나요': 8462, '얼짱': 8463, '몸짱': 8464, '개구쟁이': 8465, '스머프': 8466, '낸시': 8467, '알렌': 8468, '주앙': 8469, '포토': 8470, '드팔마': 8471, '영광': 8472, '민망': 8473, '검열': 8474, '디젤': 8475, '이완': 8476, '맥그리거': 8477, '유이': 8478, '박형식': 8479, '테스': 8480, '싸눅': 8481, '막막': 8482, '이등병': 8483, '계발': 8484, '샤를': 8485, '아우라': 8486, '나비효과': 8487, '안봣': 8488, '잘살다': 8489, '제보자': 8490, '더러워지다': 8491, '채팅': 8492, '방만': 8493, '지쯔': 8494, '카드': 8495, '박진영': 8496, '비아': 8497, '눈길': 8498, '울고불고': 8499, '아렇': 8500, '및': 8501, '팔이만': 8502, '분도': 8503, '중이': 8504, '마카오': 8505, '박의': 8506, '포커페이스': 8507, '이거지': 8508, '링컨': 8509, '날므': 8510, '이주환': 8511, '장종': 8512, '리설주': 8513, '노틸러스호': 8514, '공중': 8515, '격침': 8516, '번봄': 8517, '격하': 8518, '다정하다': 8519, '류승': 8520, '이율': 8521, '윤주': 8522, '정호': 8523, '연씨': 8524, '에스팀': 8525, '유래': 8526, '탈락': 8527, '청탁': 8528, '얏타맨': 8529, '해파리': 8530, '에네스': 8531, '카야': 8532, '꺼리다': 8533, '개무시': 8534, '경기': 8535, '독사': 8536, '진저리': 8537, '엠페러': 8538, '왜만듬': 8539, '대뜸': 8540, '짓거리': 8541, '붉다': 8542, '피겨': 8543, '한숨': 8544, '될껀데': 8545, '둥둥': 8546, '지르르': 8547, '엔티티': 8548, '낭': 8549, '어쩌자': 8550, '과잉': 8551, '금년': 8552, '파도': 8553, '수반': 8554, '육중': 8555, '레디': 8556, '골빈뇬들': 8557, '루퍼트': 8558, '친딸': 8559, '인혜힘들': 8560, '호주': 8561, '하수': 8562, '구가': 8563, '뱅뱅': 8564, '주신': 8565, '기상': 8566, '외한': 8567, '묶다': 8568, '알란': 8569, '옥빈': 8570, '쿠': 8571, '쩍발': 8572, '차도': 8573, '대도': 8574, '자본주의': 8575, '가부장': 8576, '퀼': 8577, '이다윗': 8578, '벌레': 8579, '재밋엇어': 8580, '콩남': 8581, '콩녀': 8582, '다이어리': 8583, '캐서린': 8584, '햅번': 8585, '그란트': 8586, '강하늘': 8587, '텝': 8588, '맨인블랙': 8589, '바퀴벌레': 8590, '렌느': 8591, '바램': 8592, '조의': 8593, '꿀': 8594, '샤말란': 8595, '박아': 8596, '감자별': 8597, '레고': 8598, '초대': 8599, '장난없다': 8600, '스티븐시걸': 8601, '보수파': 8602, '한판': 8603, '승홍': 8604, '분나': 8605, '잭블랙': 8606, '네이스': 8607, '셔': 8608, '디도': 8609, '평범': 8610, '구역질': 8611, '동성': 8612, '오케이': 8613, '프랑스인': 8614, '구한': 8615, '영국군': 8616, '환도': 8617, '태극': 8618, '나선': 8619, '나문희': 8620, '시어머니': 8621, '촬영장': 8622, '문과': 8623, '모의고사': 8624, '불록': 8625, '경상도': 8626, '호홉': 8627, '토닥토닥': 8628, '음악인': 8629, '음악처럼': 8630, '본답': 8631, '썩': 8632, '넘흐': 8633, '벙쪄': 8634, '재밋내굿': 8635, '약자': 8636, '맴도': 8637, '소림축구': 8638, '명량': 8639, '빈스본': 8640, '마샬': 8641, '헛슨': 8642, '토요일': 8643, '화중': 8644, '소블': 8645, '공블리': 8646, 'ㅏㄷ': 8647, '팅기다': 8648, '산삼': 8649, '씻다': 8650, '대회': 8651, '가차': 8652, '중고': 8653, '등생': 8654, '비디오카메라': 8655, '봣어': 8656, '시련': 8657, '핵폐기물': 8658, '자존심': 8659, '더잼': 8660, '진좀좀': 8661, '마무': 8662, '에게서': 8663, '정연식': 8664, '파장': 8665, '카펜터': 8666, '강호': 8667, '흑전사': 8668, '허둥대다': 8669, '훨배낫다': 8670, '찢다': 8671, '피해망상': 8672, '틀림없다': 8673, '험버트': 8674, '언변': 8675, '핫챠': 8676, '수법': 8677, '지롱': 8678, '깔깔': 8679, '모조리': 8680, '방이': 8681, '코스트': 8682, '극명하다': 8683, '발동': 8684, '리바이': 8685, '찍어내다': 8686, '밨': 8687, '필수요소': 8688, '아스테릭스': 8689, '실사판': 8690, '간달프': 8691, '쌩뚱맞': 8692, '서울대': 8693, '굴려': 8694, '직종': 8695, '넌센스': 8696, '취권': 8697, '헨젤': 8698, '그레텔': 8699, '어중간하다': 8700, '김두영': 8701, '홧병': 8702, '홀홀': 8703, '홀점': 8704, '로프': 8705, '이바람': 8706, '인디펜던스': 8707, '밨습니': 8708, '피크타임': 8709, '영관': 8710, '세아': 8711, '수컷': 8712, '파국': 8713, '짜내다': 8714, '벗겨지다': 8715, '재미엄': 8716, '어쨋': 8717, '문츠': 8718, '무진': 8719, '끗': 8720, '기억상실증': 8721, 'ㅔㅔ': 8722, '이진': 8723, '팔뚝': 8724, '건축학개론': 8725, '제겐': 8726, '이영애': 8727, '로보캅': 8728, '이끼': 8729, '폐쇄성': 8730, '폐륜': 8731, '잔혹': 8732, '라오스': 8733, '해빙': 8734, '사릉': 8735, '흡': 8736, '니미': 8737, '빈스': 8738, '운석': 8739, '터리': 8740, '시설': 8741, '드라큐라': 8742, '명량해전': 8743, '아드레날린': 8744, '과다복용': 8745, '벤츠': 8746, '아사': 8747, '버터': 8748, '다듬어지다': 8749, '똥똥똥': 8750, '똥떵': 8751, '신기다': 8752, '꾀': 8753, '상쾌하다': 8754, '라이드': 8755, '스무살': 8756, '소박': 8757, '아이코': 8758, '자고': 8759, '왓음': 8760, '추격씬': 8761, '한풀': 8762, '개엿': 8763, '호모': 8764, '빼기': 8765, '리허설': 8766, '봉만대': 8767, '우먼': 8768, '미니시리즈': 8769, '어브': 8770, '되돌리다': 8771, '글구': 8772, '주심': 8773, '쪽지': 8774, '무능하다': 8775, '은석': 8776, '치밀다': 8777, '흐트러뜨리': 8778, '루비반지': 8779, '진전': 8780, '경민이': 8781, '줫': 8782, 'ㅡㅡㅗ': 8783, '인조': 8784, '아키': 8785, '이런저런': 8786, '오랜만': 8787, '조은경': 8788, '입맞춤': 8789, '황진': 8790, '미씨': 8791, '여고괴담': 8792, '오션스일레븐': 8793, '셀카': 8794, '도랏': 8795, '황우슬혜': 8796, '이혜영': 8797, '강남': 8798, '여년전': 8799, '은색': 8800, '재규어': 8801, '외제차': 8802, '캡슐': 8803, '뽑는갸차폰': 8804, '완구': 8805, '고다': 8806, '레즈비언': 8807, '배렸다': 8808, '성지': 8809, '처녀': 8810, '플랜카드': 8811, '환영': 8812, '자시다': 8813, '학원물': 8814, '어지럽히다': 8815, '리키': 8816, '슈러더': 8817, '주근깨': 8818, '울부짖다': 8819, 'ㅎㅌㅊ': 8820, '됫으': 8821, '세금': 8822, '면세': 8823, '삼박자': 8824, '긴지': 8825, '말리다': 8826, '장난스럽다': 8827, '친하다': 8828, '당한': 8829, '야구모': 8830, '장엄하다': 8831, '엄숙하다': 8832, '친자': 8833, '삼장': 8834, '앙탈': 8835, '한일월드컵': 8836, '카트': 8837, '하울': 8838, '앨범': 8839, '피로연': 8840, '신혼': 8841, '느러뜨려놓': 8842, '다욕': 8843, '어으어엉': 8844, '떼거지': 8845, '김규리': 8846, '킄': 8847, '연하다': 8848, '비치다': 8849, '윤여정': 8850, '진술': 8851, '걸리버': 8852, '여행기': 8853, '비평': 8854, '승격': 8855, '밑천': 8856, '더스틴': 8857, '니콜': 8858, '팩트': 8859, '실존': 8860, '묶이다': 8861, '전당포': 8862, '불능': 8863, '양요섭': 8864, '표절논란': 8865, '거돈': 8866, '번더': 8867, '퀼리티쩌': 8868, '입술': 8869, '마이티': 8870, '몬지': 8871, '유쾌': 8872, '통쾌': 8873, '고양': 8874, '웨폰': 8875, '어뜨케': 8876, '우연찮': 8877, '이영은': 8878, '최성국': 8879, '형수': 8880, '관우': 8881, '쫗': 8882, '걸륜': 8883, '걸륜팬': 8884, '짝패': 8885, '샐러리맨': 8886, '초한지': 8887, '김서형': 8888, '찌개': 8889, '벌리다': 8890, '죄란': 8891, '신앙': 8892, '밥맛': 8893, '테마': 8894, '몰두': 8895, '한고은': 8896, '인적': 8897, '세현': 8898, '이몸': 8899, '바꼇': 8900, '윤재몸': 8901, '후진국': 8902, '환가': 8903, '솔까말': 8904, '메뉴': 8905, '드삼': 8906, '세코': 8907, '부문': 8908, '회복': 8909, '으아아': 8910, '스티치': 8911, '오사카': 8912, '찌잉': 8913, '간발': 8914, '킬머': 8915, '단원': 8916, '궤': 8917, '훑다': 8918, '김수로': 8919, '이어도': 8920, '씨도둑': 8921, '후궁': 8922, '유산': 8923, '인수대비': 8924, '지워지다': 8925, '보수': 8926, '테론': 8927, '여겨지다': 8928, '서사': 8929, '울림': 8930, '영화제작': 8931, '튀기다': 8932, '고작': 8933, '최선': 8934, '최상': 8935, '마약상': 8936, '인천': 8937, '츤데레': 8938, '간수': 8939, '내려지다': 8940, '과소': 8941, '게속': 8942, '얼렁뚱땅': 8943, '원폭': 8944, '후후': 8945, '그리스': 8946, '적기가': 8947, '나부랭이': 8948, '가닥': 8949, '내려오다': 8950, '물든': 8951, '사연': 8952, '깃': 8953, '전격': 8954, '윤발': 8955, '친일파': 8956, '충성': 8957, '부업': 8958, '모이다': 8959, '오즈의마법사': 8960, '철통': 8961, '대규모': 8962, '해상전': 8963, '터너': 8964, '잭스': 8965, '줄줄이': 8966, '예언': 8967, '작업실': 8968, '잠그다': 8969, '도난': 8970, '망청': 8971, '부셰미': 8972, '시에나': 8973, '밀러': 8974, '일본드라마': 8975, '한눈': 8976, '수꼴': 8977, '인민재판': 8978, '김정은': 8979, '넘겨주다': 8980, '캐리비안': 8981, '깜짝깜짝': 8982, '단발': 8983, '오렌지': 8984, '개똥': 8985, '판욕': 8986, '티브': 8987, '뚱보흑': 8988, '전설의고향': 8989, '의천도룡기': 8990, '난도': 8991, '제레미': 8992, '레너': 8993, '애니메': 8994, '거북이': 8995, '모터': 8996, '최첨단': 8997, '그러기에': 8998, '함속': 8999, '엉엉': 9000, '웹': 9001, '주마': 9002, '등록금': 9003, '거고': 9004, '늘어놓다': 9005, '경도': 9006, '재밋게봣는데': 9007, 'ㄹㅋ': 9008, '돈아까웡': 9009, '받을껄': 9010, '이명박': 9011, '사대강': 9012, '시숙': 9013, '숙': 9014, '강시선생': 9015, '덴마': 9016, '가버리다': 9017, '하유미': 9018, '로마시대': 9019, '대다수': 9020, '퉁': 9021, '궈': 9022, '먹기': 9023, '왜세': 9024, '드넒': 9025, '당나라': 9026, '역적': 9027, '김춘추': 9028, '어찌나': 9029, '무신': 9030, '생가': 9031, '헐헐': 9032, '잘빠지다': 9033, '에스': 9034, '피오': 9035, '옥죄': 9036, '비디오게임': 9037, '찌르다': 9038, '질소': 9039, '과자': 9040, '이제껏': 9041, '타레가': 9042, '만든샤기': 9043, '무지무지': 9044, '안녕': 9045, '일본제국': 9046, '영점': 9047, '장담': 9048, '컨데': 9049, '네네': 9050, '전태일': 9051, '헛되': 9052, '대론': 9053, '더라도': 9054, '수식어': 9055, '반올림': 9056, '전우': 9057, '몸값': 9058, '산이면': 9059, '생선': 9060, '처분': 9061, '돌팔매': 9062, '나영석': 9063, '가치관': 9064, '학대': 9065, '조장': 9066, '장애자': 9067, '보이콧': 9068, '우스꽝스럽다': 9069, '팔레스타인': 9070, '미미하다': 9071, '도신': 9072, '관지림': 9073, '단추': 9074, '옥수수': 9075, '밭': 9076, '체스': 9077, '한일': 9078, '무심하다': 9079, '쩌내': 9080, '투신': 9081, '조문탁': 9082, '쩝쩝': 9083, '주걸륜': 9084, '트릴로지': 9085, '위태': 9086, '이아': 9087, '블리치': 9088, '손꼽다': 9089, '낚인건': 9090, '권위': 9091, '발생': 9092, '재정': 9093, '스탈린': 9094, '욥': 9095, '박한별': 9096, '출시': 9097, '인내력': 9098, '이입': 9099, '일해': 9100, '도일': 9101, '난왜릏': 9102, '어간': 9103, '병자': 9104, '정성룡': 9105, '나스': 9106, '타샤': 9107, '킨스키': 9108, '뒤안길': 9109, '프랑': 9110, '사강': 9111, '지은': 9112, '휴잭맨': 9113, '복수혈전': 9114, '유료': 9115, '사천원': 9116, '머피': 9117, '일침': 9118, '히로인': 9119, '크레이븐': 9120, '펀집': 9121, '터널': 9122, '선샤인': 9123, '체험': 9124, '배비장전': 9125, '격려': 9126, '하규': 9127, '이글': 9128, '론': 9129, '하워드': 9130, '제시': 9131, '아이젠': 9132, '끌어당기다': 9133, '가톨릭': 9134, '하드디스크': 9135, '음량': 9136, '쿠엔틴': 9137, '어릴떄': 9138, '연금술사': 9139, '닌자': 9140, '어쌔씬': 9141, '드라이버': 9142, '당계례': 9143, '양자경': 9144, '발차기': 9145, '송윤아': 9146, '불운': 9147, '루프': 9148, '반담횽': 9149, '김민희': 9150, '친해지다': 9151, '우울': 9152, '준거': 9153, 'ㅇㅋ': 9154, '재밍': 9155, 'ㅡㅜ': 9156, '오른쪽': 9157, '화살표': 9158, '뉴욕': 9159, '염정': 9160, '변탠': 9161, '직': 9162, '메이퀸': 9163, '킌': 9164, '더글러스': 9165, '윤호': 9166, '호탄': 9167, '아크엔젤': 9168, '졸데': 9169, '해피앤드': 9170, '박정민': 9171, '퀸즈': 9172, '설킨': 9173, '란함': 9174, '취학': 9175, '아동': 9176, '앨고어': 9177, '월리스': 9178, '그루밋때': 9179, '기기': 9180, '틀어놓다': 9181, '장용': 9182, '레이첼': 9183, '겟': 9184, '잘봣음': 9185, '길래': 9186, '밀실': 9187, '연소자': 9188, '그랫': 9189, '소녀시절': 9190, '만능': 9191, '비슷': 9192, '무례하다': 9193, '사이버': 9194, '뮬러': 9195, '로망': 9196, '뚱엉뚱': 9197, '갸우뚱': 9198, '진구': 9199, '됫음': 9200, '방조명': 9201, '꽃봉오리': 9202, '분별': 9203, '스티브유': 9204, '엘지': 9205, '똑바루': 9206, '소피아': 9207, '절세': 9208, '화판': 9209, '도학': 9210, '위룡': 9211, '발가락': 9212, '만큼만': 9213, '이블데드': 9214, '미스터빈': 9215, '쇼킹': 9216, '트레': 9217, '헌터': 9218, '와이비': 9219, '취지': 9220, '특공대': 9221, '군부독재': 9222, '통치': 9223, '롤': 9224, '추연': 9225, '기력': 9226, '빅맨': 9227, '나누어지다': 9228, '프라': 9229, '먹이사슬': 9230, '기두': 9231, '윤설희': 9232, '역린': 9233, '샴푸': 9234, '지표': 9235, '블라인드': 9236, '탄식': 9237, '발싸개': 9238, '연쇄살인범': 9239, '에어컨': 9240, '오정희': 9241, '강압': 9242, '숙청': 9243, '강행': 9244, '까지나': 9245, '통찰': 9246, '겐': 9247, '아찔하다': 9248, '간분': 9249, '계시': 9250, '킨': 9251, '중독증': 9252, '시갈영홪우': 9253, '왜나왓는': 9254, '미스테리영화': 9255, '쓰레기통': 9256, '헛봤다': 9257, '미셀': 9258, '진실로': 9259, '이루어지다': 9260, '의혹': 9261, '수천': 9262, '영화리뷰': 9263, '제곱': 9264, '보증': 9265, '진진': 9266, '빠아님': 9267, '앳': 9268, '전도': 9269, '소련군': 9270, '진격': 9271, '탈영병': 9272, '사살': 9273, '스키장': 9274, '빠리': 9275, '모자라': 9276, '살살': 9277, '간지럽다': 9278, '전화선': 9279, '바랬는데': 9280, '김승우': 9281, '리더십': 9282, '훈남': 9283, '붕': 9284, '어서': 9285, '천공': 9286, '의성': 9287, '라퓨타': 9288, '할리우드영화': 9289, '재연': 9290, '식객': 9291, '꼬맹이': 9292, '뿜는': 9293, '서도': 9294, '사대': 9295, '퍼붓다': 9296, '큐': 9297, '빙자': 9298, '돌림': 9299, '쥐약': 9300, '전수진': 9301, '이은우': 9302, '무얼': 9303, '켈리': 9304, '쇄골': 9305, '스크립트': 9306, '흑연': 9307, '합기도': 9308, '나사': 9309, '베스킨라빈스': 9310, '니뽄류': 9311, '도시괴담': 9312, '말장난': 9313, '재희': 9314, '대갈': 9315, '최동훈': 9316, '전우치': 9317, '웨슬리': 9318, '우엉': 9319, '부추기다': 9320, '노희경': 9321, '베네딕트': 9322, '컴버배치': 9323, '광수': 9324, '효언니': 9325, '리모콘': 9326, '사드': 9327, '후작': 9328, '소개팅': 9329, '박차다': 9330, '견우': 9331, '거린': 9332, '지영': 9333, '건일': 9334, '꼭보': 9335, '사춘기': 9336, '속인': 9337, '스칼렛': 9338, '요한슨': 9339, '호크': 9340, '김유정': 9341, '주임': 9342, '은밀': 9343, '이육사만': 9344, '이육사': 9345, '배추': 9346, '깇체': 9347, '가년': 9348, '물어': 9349, '희수': 9350, '힐러리': 9351, '고든': 9352, '일편단심': 9353, '징징대다': 9354, '마땅하다': 9355, '단역': 9356, '섯다': 9357, '열풍': 9358, '고온': 9359, '고니': 9360, '아귀': 9361, '설전': 9362, '멍청': 9363, '신궁': 9364, '사담': 9365, '그릇되다': 9366, '선언': 9367, '얽히다': 9368, '섥혀': 9369, '연줄': 9370, '빌어': 9371, '먹고살다': 9372, '야비하다': 9373, '촌철': 9374, '서예': 9375, '질병': 9376, '브이': 9377, '추상': 9378, '성추행': 9379, '공갈': 9380, '성매매': 9381, '알선': 9382, '포주': 9383, '무렵': 9384, '띵하다': 9385, '상추': 9386, '아임낫뎃': 9387, '홍금보': 9388, '바론': 9389, '유다': 9390, '봣드': 9391, '잔악하다': 9392, '평민': 9393, '동원': 9394, '대군': 9395, '제나라': 9396, '홍성': 9397, '혜령': 9398, '좀바': 9399, '나른하다': 9400, '궁굼': 9401, '일시': 9402, '극영화': 9403, '인어공주': 9404, '아웅': 9405, '이지현': 9406, '육체': 9407, '젬슴': 9408, '김해숙': 9409, '김순옥': 9410, '배수빈': 9411, '한상진': 9412, '김태현': 9413, '방구': 9414, '역행': 9415, '죽지': 9416, '이종수': 9417, '잛': 9418, '미디어': 9419, '이씨': 9420, '비율': 9421, '익숙': 9422, '안정감': 9423, '풍취': 9424, '폴란드': 9425, '투영': 9426, '차분하다': 9427, '각성': 9428, '멜깁슨': 9429, '기름': 9430, '화비': 9431, '소감': 9432, '새미': 9433, '어드벤쳐': 9434, '용검': 9435, '히로스에': 9436, '라르': 9437, '지크': 9438, '미처': 9439, '신영화': 9440, '김남주': 9441, '표나': 9442, '관상': 9443, '힌편': 9444, '딸램': 9445, '탄피': 9446, '법부': 9447, '엎': 9448, '매장': 9449, '액트오브밸러': 9450, '론서바이버': 9451, '네이비씰': 9452, '문명': 9453, '괴로움': 9454, '랴': 9455, '말껄': 9456, '이현우': 9457, '민호': 9458, '꼽는': 9459, '유해진': 9460, '구수하다': 9461, '맛깔나다': 9462, '이장님': 9463, '하드코어': 9464, '부각시키다': 9465, '에두': 9466, '발끝': 9467, '소환': 9468, '자새': 9469, '테이큰': 9470, '솟아오르다': 9471, '샘물': 9472, '쫙': 9473, '읊어': 9474, '삭카': 9475, '로제': 9476, '주문': 9477, '구니스': 9478, '구디넙': 9479, '규칙': 9480, '슬링': 9481, '접때': 9482, '터틀': 9483, '주크박스': 9484, '엇갈리다': 9485, '한주': 9486, '음침하다': 9487, '뚝': 9488, '비스티보이즈': 9489, '빈도': 9490, '식당': 9491, '쌍둥이': 9492, '줄라': 9493, '심판': 9494, '결선': 9495, '고시': 9496, '여행가': 9497, '똥폼': 9498, '이경영': 9499, '으헝': 9500, '파악': 9501, '즘': 9502, '무마': 9503, '버겁다': 9504, '정욕': 9505, '악한': 9506, '이처럼': 9507, '꼬꼬': 9508, '오기': 9509, '건전하다': 9510, '명곡': 9511, '저학년': 9512, '사토미': 9513, '곱다': 9514, '덕의': 9515, '크리처': 9516, '쨩': 9517, '야웅': 9518, '허탈': 9519, '권력자': 9520, '권력': 9521, '만드심': 9522, '궁금': 9523, '장서희': 9524, '못구': 9525, '짜이다': 9526, '라일': 9527, '도나': 9528, '마음껏': 9529, '발산': 9530, '최적화': 9531, '고통스럽다': 9532, '한효주': 9533, '무시무시하다': 9534, '밥상': 9535, '엎음': 9536, '호세': 9537, '씨부리다': 9538, '의정': 9539, '히키코모리': 9540, '월터': 9541, '힐': 9542, '비장하다': 9543, '닼': 9544, '죽는겈': 9545, '잘껄': 9546, '지드래곤': 9547, '읍니': 9548, '별루임': 9549, '플러스': 9550, '플스': 9551, '봫': 9552, '주몽': 9553, '이러케': 9554, '파일량': 9555, '밑밥': 9556, '끝낼떄': 9557, '가정은': 9558, '파탄': 9559, '꽁꽁': 9560, '싸': 9561, '케니지': 9562, '다잉영': 9563, '구스': 9564, '산트': 9565, '이오': 9566, '개봉관': 9567, '확보': 9568, '권선': 9569, '징악': 9570, '공백': 9571, '신춘': 9572, '과욕': 9573, '장갑': 9574, '우승하다': 9575, '콩빠들': 9576, '극혐': 9577, '우디알렌': 9578, '셔물': 9579, '꼽으라': 9580, '드라마틱하다': 9581, '만행': 9582, '간반': 9583, '이시영': 9584, '정웅인': 9585, '이태준': 9586, '완젼히': 9587, '가지가지': 9588, '더티': 9589, '실사': 9590, '장학우': 9591, '메릴': 9592, '스트립': 9593, '앓이': 9594, '유아인': 9595, '소윤': 9596, '바랬던': 9597, '어떨': 9598, '부딪치다': 9599, '여하튼': 9600, '안젤라베이비': 9601, '팽팽': 9602, '조율': 9603, '조마조마하다': 9604, '초초': 9605, '컨디션': 9606, '붙이': 9607, '백미': 9608, '어슬픔': 9609, '관망': 9610, '거들다': 9611, '하여간': 9612, '주제곡': 9613, '심금': 9614, '자잘하다': 9615, '숏컷': 9616, '관계성': 9617, '냉정': 9618, '배우진': 9619, '한몫': 9620, '노파': 9621, '이듬': 9622, '그루': 9623, '애쉬': 9624, '율': 9625, '이레': 9626, '기타': 9627, '광팬': 9628, '썰다': 9629, '슬래셔': 9630, '영리하다': 9631, '트렌디': 9632, '옥상': 9633, '겨눌': 9634, '동감': 9635, '만화챡': 9636, '투니버스': 9637, '점빵문': 9638, '개멋': 9639, '라디오헤드': 9640, '삽입곡': 9641, '화룡': 9642, '점정': 9643, '아워스': 9644, '계승': 9645, '까지가': 9646, '결제': 9647, '붙잡다': 9648, '다이나믹': 9649, '과감': 9650, '비고': 9651, '모텐슨': 9652, '이스턴': 9653, '안과': 9654, '드뷔시': 9655, '달빛': 9656, '매회': 9657, '수혁': 9658, '장철': 9659, '크로싱': 9660, '해장국': 9661, '디스크': 9662, '낯가림': 9663, '음성': 9664, '콕스': 9665, '투캇': 9666, '전말': 9667, '이듭': 9668, '한공주': 9669, '상큼': 9670, '로멘틱': 9671, '붐': 9672, '위안부': 9673, '글귀': 9674, '효율': 9675, '반타작': 9676, 'ㅋㄲㅈㅁ': 9677, '수바': 9678, '상식': 9679, '양키': 9680, '유능하다': 9681, '밌다': 9682, '채시라': 9683, '한가인': 9684, '다인': 9685, '고향': 9686, '주무': 9687, '태안': 9688, '꽃게': 9689, '피프때': 9690, '피곤하다': 9691, '타잔': 9692, '대못': 9693, '저하': 9694, '홈': 9695, '논스톱': 9696, '박지성': 9697, '문채원': 9698, '수염': 9699, '복잡': 9700, '작작하다': 9701, '베트맨': 9702, '트림': 9703, '다라': 9704, '외롭다': 9705, '이기심': 9706, '간절': 9707, '히바': 9708, '램니': 9709, '박현지': 9710, '영아': 9711, '좁다': 9712, '의욕': 9713, '극우': 9714, '덕후': 9715, '톨스토이': 9716, '사상가': 9717, '소로': 9718, '농부': 9719, '헸을것': 9720, '괞찮네': 9721, 'ㅈㄹ': 9722, '확신': 9723, '기적처럼': 9724, '레파': 9725, '턱': 9726, '트램펄린': 9727, '고무': 9728, '부둣가씬': 9729, '변장': 9730, '듭': 9731, '베른': 9732, '참내': 9733, '탱': 9734, '옷벗다': 9735, '분잡': 9736, '깡통': 9737, '에너지': 9738, '궁굼해': 9739, '막다': 9740, '원어민': 9741, '교사': 9742, '금방': 9743, '득템': 9744, '데이라잇': 9745, '마란': 9746, '깨평': 9747, '상한': 9748, '패가': 9749, '행운': 9750, '신민아': 9751, '응어리': 9752, '만일': 9753, '시프': 9754, '진찌': 9755, 'ㅠㅜㅠ': 9756, '데드': 9757, '풀이': 9758, '우여곡절': 9759, '재림': 9760, '화산': 9761, '미셸': 9762, '레오': 9763, '홀리모터스': 9764, '적지': 9765, '톡톡하다': 9766, '해안가': 9767, '인칭': 9768, '시체': 9769, '카메라감독': 9770, '오뚝이': 9771, '로건': 9772, '들여놓다': 9773, '삭막': 9774, '유하': 9775, '말죽거리': 9776, '혹사': 9777, '비열하다': 9778, '해고': 9779, '몸빵': 9780, '괜춘함': 9781, '우마': 9782, '습니': 9783, '희망이': 9784, '햇습': 9785, '볼론': 9786, '점준새': 9787, '소시지': 9788, '박혓': 9789, '골든': 9790, '라즈': 9791, '재밋었다': 9792, '박유천': 9793, '과언': 9794, '사상충': 9795, '코지': 9796, '논픽션': 9797, '새마을운동': 9798, '노욕': 9799, '똥례': 9800, '착륙': 9801, '승객': 9802, '놨': 9803, '장례식': 9804, '엘레나': 9805, '튿': 9806, '도배': 9807, '질욕': 9808, '러브레터': 9809, '훨배': 9810, '웰컴': 9811, '인민군': 9812, '요정': 9813, '범한': 9814, '나로': 9815, '최전선': 9816, '데려가다': 9817, '독일어': 9818, '윤두준': 9819, '류시시': 9820, '시계수리공': 9821, '장효전': 9822, '약혼자': 9823, '엉덩이': 9824, '절벽': 9825, '얼꽝': 9826, '배출': 9827, '자명하다': 9828, '천원': 9829, '보석': 9830, '다이아몬드': 9831, '천정명': 9832, '온주완': 9833, '공중전': 9834, '흠뻑': 9835, '혼잡하다': 9836, '오점': 9837, '괜찬군': 9838, '가박': 9839, '장대': 9840, '소하': 9841, '놨다': 9842, '정기용': 9843, '협회': 9844, '에이미': 9845, '사운드트랙': 9846, '슈타인': 9847, '안구': 9848, '높이': 9849, '다중이': 9850, '정신분열': 9851, '토토가': 9852, '유플러스': 9853, '낚일순': 9854, '궁합': 9855, '그해': 9856, '재밋습니': 9857, '미스코리아': 9858, '거젆': 9859, '유행어': 9860, '이대': 9861, '독일인': 9862, '점점이': 9863, '폭스라이프': 9864, '불사신': 9865, '풀림': 9866, '월남': 9867, '동기': 9868, '진득': 9869, '몰래': 9870, '금기': 9871, '시한': 9872, '제우스': 9873, '박살': 9874, '인디언': 9875, '예지원': 9876, '가상현실': 9877, '딕': 9878, '해악': 9879, '수뤠기': 9880, '지리': 9881, '계절풍': 9882, '무모하다': 9883, '국교': 9884, '세균': 9885, '걔': 9886, '정통하다': 9887, '족도': 9888, '글치': 9889, '떼': 9890, '유대': 9891, '지못미': 9892, '나이스': 9893, '성수': 9894, '괜차늠': 9895, '비틀어지다': 9896, '토대': 9897, '퀵실버': 9898, '온갖': 9899, '당하': 9900, '권태기': 9901, '비일': 9902, '반적': 9903, '피트': 9904, '무책임하다': 9905, 'ㅋㅋㅋㅋㅋㅋㅋㅋㅋㅋㅋㅋㅋㅋㅋㅋㅋㅋㅋㅋㅋㅋㅋㅋㅋㅋㅋ': 9906, '실속': 9907, '이민': 9908, '약소국': 9909, '드리우다': 9910, '취했을뿐': 9911, '장화홍련': 9912, '재밋는듯': 9913, '화통': 9914, '곰탱이': 9915, '페테': 9916, '그루지': 9917, '지잔': 9918, '강정원': 9919, '정연': 9920, '자리다': 9921, '인용': 9922, '보존': 9923, '절음': 9924, '쩔엇으': 9925, '립': 9926, '도란': 9927, '세종대왕': 9928, '막일': 9929, '퓨뭐냐': 9930, '캐나다': 9931, '줄곧': 9932, '제공': 9933, '친절하다': 9934, '실버': 9935, '최무룡': 9936, '쩌구': 9937, '저쩌구': 9938, 'ㄲㅈ': 9939, '짝짝': 9940, '종합': 9941, '그이': 9942, '지니': 9943, '자스민': 9944, '어어': 9945, '히히히': 9946, '랄거': 9947, '날짜': 9948, '왜정': 9949, '샤샤': 9950, '퀜틴영화': 9951, '넘겨보다': 9952, '요요': 9953, '유통': 9954, '마스터': 9955, '나리': 9956, '고여': 9957, '듯정': 9958, '아스': 9959, '트랄': 9960, '예비': 9961, '정은': 9962, '암살': 9963, '껌': 9964, '오열연기': 9965, '뮤지': 9966, '왜꼭': 9967, '윽수': 9968, '가감': 9969, '있엇으리': 9970, '팬심': 9971, '매튜': 9972, '맥커너히': 9973, '박희': 9974, '봉테일': 9975, '호소': 9976, '요시히코': 9977, '다재': 9978, '박카스': 9979, '음가': 9980, '장날': 9981, '겁내': 9982, '토크쇼': 9983, '구별': 9984, '망다리': 9985, '낚였': 9986, '남아도': 9987, '가잔': 9988, '정승': 9989, '봤슴당': 9990, '자극시키다': 9991, '생사람': 9992, '디스코': 9993, '표지': 9994, '제이콥': 9995, '벌린': 9996, '송지효': 9997, '분에이': 9998, '걸짝': 9999, '느거': 10000, '인관': 10001, 'ㅓ': 10002, '고거': 10003, 'ㅏㄱ': 10004, '룬드': 10005, '렌': 10006, '토니쟈': 10007, '왜리': 10008, '흥겹다': 10009, '인디밴드': 10010, '예술음악': 10011, '춥다': 10012, '진화론': 10013, '깍지': 10014, '매트릭스': 10015, '왕정': 10016, '한물가다': 10017, '허무맹랑': 10018, '정기': 10019, '야장': 10020, '난하다': 10021, '졸도': 10022, '금융': 10023, '초록물고기': 10024, '체인지': 10025, '접속': 10026, '올가미': 10027, '넘버': 10028, '슥': 10029, '군국': 10030, '전세계': 10031, '감임': 10032, '지세': 10033, '어물': 10034, '기능': 10035, '브루노': 10036, '개독': 10037, '미션': 10038, '심리상담': 10039, '엨': 10040, '가위손': 10041, '개지': 10042, '재밋구': 10043, '리즈중': 10044, '퀴': 10045, '릿카': 10046, '레베카': 10047, '변치': 10048, '밋다': 10049, '칙칙하다': 10050, '수긍': 10051, '밑바닥': 10052, '코네': 10053, '독신': 10054, '포유': 10055, '부담스럽다': 10056, '야매': 10057, '룽다': 10058, '독특': 10059, '거때매': 10060, '고등학교': 10061, '땡땡': 10062, '추월': 10063, '가넷': 10064, '화물': 10065, '엘리': 10066, '탈때': 10067, '미소년': 10068, '짜릿': 10069, '남궁민': 10070, '팅': 10071, '실무': 10072, '김경석': 10073, '세르': 10074, '지오': 10075, '구티': 10076, '레스': 10077, '철권': 10078, '무소유': 10079, '가트': 10080, '바콜': 10081, '감미': 10082, '개대': 10083, '아주아주': 10084, '출품': 10085, '백발': 10086, '믿음직하다': 10087, '많앗곸': 10088, '똥멋': 10089, '와아아': 10090, '놈놈놈': 10091, '서고': 10092, '리플': 10093, '손호영': 10094, '탐욕': 10095, '달리기': 10096, '이민자': 10097, '일상다반사': 10098, '태희': 10099, '차승민': 10100, '못지않다': 10101, '존잼': 10102, '엥': 10103, '수행': 10104, '맘에안듬': 10105, '뫼산': 10106, '폭락': 10107, '베이컨': 10108, '지스': 10109, '스팅': 10110, '블리': 10111, '별반': 10112, '개개다': 10113, '쿵쿵': 10114, '자연재해': 10115, '좌파': 10116, '썻는': 10117, '막말': 10118, '이미테이션': 10119, '쯧': 10120, '오자룡': 10121, '들썩이다': 10122, '에누리': 10123, '브스': 10124, '요일': 10125, '금토': 10126, '캡': 10127, '널린': 10128, '흥분하다': 10129, '나마': 10130, '비밀결혼': 10131, '실실': 10132, '아이돌가수': 10133, '마에다': 10134, '아츠코': 10135, '태': 10136, '모욕': 10137, '시월애': 10138, '인크레더블': 10139, '대중성': 10140, '그렉': 10141, '그로테스크': 10142, '이어트': 10143, '어프': 10144, '할리데이': 10145, '독보': 10146, '광활하다': 10147, '얻어맞다': 10148, '여우': 10149, '챠크라': 10150, '럴': 10151, '촌티': 10152, '은테': 10153, '최민수': 10154, '동굴': 10155, '돌보다': 10156, '화서': 10157, '해골': 10158, '갖': 10159, '꼬장': 10160, '나아가다': 10161, '음미': 10162, '할리': 10163, '아작': 10164, '이두': 10165, '크루': 10166, '영영': 10167, '드레스': 10168, '폴리': 10169, '냑': 10170, '공작': 10171, '씬시티': 10172, '킬빌': 10173, '식코': 10174, '시원': 10175, '고마': 10176, '김리나': 10177, '지랄': 10178, '라빈': 10179, '낚였눼': 10180, '신상옥': 10181, '유학': 10182, '공채': 10183, '텔런튼데': 10184, '학예회': 10185, '장보': 10186, '스위프트': 10187, '자동': 10188, '응답기': 10189, '듯이': 10190, '인간극장': 10191, '작별인사': 10192, '토이스토리': 10193, '소라': 10194, '아오이': 10195, '김강우': 10196, '날조': 10197, '망라': 10198, '하치': 10199, '채드': 10200, '머레이': 10201, '짖다': 10202, '전영': 10203, '미식축구': 10204, '식민지': 10205, '건설': 10206, '관광객': 10207, '재일동포': 10208, '분단': 10209, '조총련': 10210, '소외': 10211, '차별': 10212, '후휘': 10213, '엘리샤': 10214, '커스버트': 10215, '전병': 10216, '돈의화신': 10217, '오지랖': 10218, '로디': 10219, '역사드라마': 10220, '이로써': 10221, '이성': 10222, '아포칼립토': 10223, '초입': 10224, '찌그러지다': 10225, '헛된': 10226, '김현정': 10227, '삿다': 10228, '최진혁': 10229, '꺄악': 10230, '멘트': 10231, '여요': 10232, '장고': 10233, '우월': 10234, '안젤리나': 10235, '화백': 10236, '그러하다': 10237, '안소니': 10238, '맟춰': 10239, '썪': 10240, '차기': 10241, '돌려차기': 10242, '정신차려라': 10243, '저따위': 10244, '수치': 10245, '범죄영화': 10246, '허위': 10247, '혐': 10248, '건아': 10249, '쩌비': 10250, '심혈': 10251, '기울이다': 10252, '구숙정': 10253, '광대하다': 10254, '라기보다는': 10255, '코리안': 10256, '잉여': 10257, '송중기': 10258, '히든싱어': 10259, '백야': 10260, '유실': 10261, '수출': 10262, '원본': 10263, '우리말': 10264, '해치다': 10265, '루피': 10266, '패왕색': 10267, '패기': 10268, '숫자': 10269, '문지기': 10270, '물고기': 10271, '어부': 10272, '초래': 10273, '목록': 10274, '폴': 10275, '베타': 10276, '손꾸락': 10277, '거열': 10278, '이원규': 10279, '백설공주': 10280, '헌츠맨': 10281, '그려지다': 10282, '강츄': 10283, '에서부터': 10284, '프루스트': 10285, '견줄만': 10286, '적재적소': 10287, '씨네프': 10288, '내뿜': 10289, '영홬': 10290, '금성무': 10291, '킹왕짱': 10292, '어염': 10293, '내버리다': 10294, '뚱땡이': 10295, '걸즈': 10296, '존쿠삭나온': 10297, '평영': 10298, '존쿠삭연기': 10299, '이식': 10300, '룻': 10301, '애뜻함': 10302, '마블': 10303, '땡기다': 10304, '캡틴아메리카': 10305, '어벤저스': 10306, '사탄': 10307, '지상': 10308, '통렬': 10309, '난간': 10310, '펙트': 10311, '힌국': 10312, '웨버': 10313, '삼거리': 10314, '우즈': 10315, '커지다': 10316, '특유의슬': 10317, '상통': 10318, '쭝쿠러': 10319, '극악': 10320, '김태연': 10321, '파쿠르': 10322, '강변': 10323, '천만이': 10324, '라라피포': 10325, '괴담': 10326, '화장': 10327, '폭격기': 10328, '주술사': 10329, '이행': 10330, '광신도': 10331, '암세포': 10332, '덮다': 10333, '가책': 10334, '도자기': 10335, '맞먹다': 10336, '해탈': 10337, '커츠': 10338, '나열': 10339, '대나무': 10340, '에서가': 10341, '계곡': 10342, '방학기': 10343, '동명': 10344, '해선': 10345, '곤란하다': 10346, '창문': 10347, '강동원': 10348, '테크닉': 10349, '사가다': 10350, '콜라': 10351, '프레드': 10352, '폭': 10353, '협동': 10354, '특징': 10355, '굿닥터': 10356, '갈아타다': 10357, '아름': 10358, '승부조작': 10359, '빠들': 10360, '중간계': 10361, '태운': 10362, '한시': 10363, '리프': 10364, '지자': 10365, '드라이빙': 10366, '재미썽': 10367, '무녀': 10368, '수정': 10369, '억압': 10370, '루마니아': 10371, '몬쥬': 10372, '에서야': 10373, '파고들다': 10374, '비밥': 10375, '쏫': 10376, '아지': 10377, '임꺽정': 10378, '느끼하다': 10379, '언떤놈': 10380, '환자연기': 10381, '전역': 10382, '생활관': 10383, '여교사': 10384, '적꿈': 10385, '므흣': 10386, '연출자': 10387, '채용': 10388, '시스템': 10389, '외주': 10390, '슈렉': 10391, '로라': 10392, '결집': 10393, '뜻대로': 10394, '고등학생': 10395, '돈벌': 10396, '샤이': 10397, '라보프': 10398, '트랜스포머': 10399, '이건모': 10400, '영화대본': 10401, '가위바위보': 10402, '브로드밴드': 10403, '고집': 10404, '참사': 10405, '중공군': 10406, '각하': 10407, '참전용사': 10408, '호국': 10409, '영령': 10410, '죄송스럽다': 10411, '욕설': 10412, '장항': 10413, '청년': 10414, '눈가': 10415, '병원': 10416, '묘기': 10417, '뱀': 10418, '무스': 10419, '이돈': 10420, '인셉션': 10421, '봉황': 10422, '수식': 10423, '켄드릭': 10424, '대통령': 10425, '길리엄': 10426, '고결': 10427, '더러': 10428, '명가': 10429, '이초': 10430, '츠': 10431, '차오': 10432, '발레': 10433, '매카시즘': 10434, '슬펏음근데': 10435, '이맘': 10436, '수술': 10437, '개잼꿀잼': 10438, '계세': 10439, '씬정도': 10440, '하향': 10441, '평준화': 10442, '이응': 10443, '가을로': 10444, '휴먼': 10445, '금요일': 10446, '활력소': 10447, '디디': 10448, '다물어지다': 10449, '나니아': 10450, '연대기': 10451, '여사': 10452, '회수': 10453, '정연기': 10454, '별루엿': 10455, '집안일': 10456, '조류': 10457, '씌': 10458, '전제': 10459, '와스': 10460, '개꿀': 10461, '허망': 10462, '요로': 10463, '맹신': 10464, '진의': 10465, '노고': 10466, '주저': 10467, '펄프픽션': 10468, '재키': 10469, '티프': 10470, '더욱이': 10471, '어딜': 10472, '꼴릿': 10473, '인내심': 10474, '부처': 10475, '바궈': 10476, '드릅': 10477, '소수자': 10478, '슴돠': 10479, '는단': 10480, '대게': 10481, '정해지다': 10482, '순풍': 10483, '다이빙벨': 10484, '침몰': 10485, '꿋꿋하다': 10486, '폴라로이드': 10487, '사진기': 10488, '대조': 10489, '최효종': 10490, '김원효': 10491, '국비': 10492, '종범': 10493, '옥한흠': 10494, '목사': 10495, '딱지왕': 10496, '콤': 10497, '나늬겟': 10498, '장백지': 10499, '결여': 10500, '양대': 10501, '산맥': 10502, '성질': 10503, '만인': 10504, '이이해': 10505, '막내': 10506, '자마자': 10507, '여보세요': 10508, '병구': 10509, '컨': 10510, '창백하다': 10511, '채밌네': 10512, '개운하다': 10513, '침울하다': 10514, '찮': 10515, '펠릭스': 10516, '라이터': 10517, '패왕별희': 10518, '장영': 10519, '소개': 10520, '아이슬란드': 10521, '아일럔드': 10522, '진흙': 10523, '쓸엑': 10524, 'ㅈㅐ': 10525, '밌었다': 10526, '마시기': 10527, '야성': 10528, '독재자': 10529, '보증수표': 10530, '불변': 10531, '주제넘다': 10532, '감별': 10533, '내지': 10534, '이태임': 10535, '청산': 10536, '규리': 10537, '말씀': 10538, '피부': 10539, 'ㅋㄱㅋ': 10540, '총사': 10541, '리안': 10542, '브로디': 10543, '콱': 10544, '모도': 10545, '김슬기': 10546, '무릎': 10547, '일관': 10548, '영화장르': 10549, '학부모': 10550, '봣건': 10551, '상중하': 10552, '제어': 10553, '살타': 10554, '갈현': 10555, '두루': 10556, '고창': 10557, '갈구다': 10558, '깨어나다': 10559, '제자리': 10560, '판박이': 10561, '서요': 10562, '암만': 10563, '욱': 10564, '천은': 10565, '데미무어': 10566, '젖통': 10567, '맹승지': 10568, '재밋게본': 10569, '입학': 10570, '구도': 10571, '사바세계': 10572, '중생': 10573, '받아들이다': 10574, '대결': 10575, '장소': 10576, '진우': 10577, '진혼': 10578, '떡실신': 10579, '사뭇': 10580, '엄태구': 10581, '혜영': 10582, '선입견': 10583, '모자이크': 10584, '구토': 10585, '전지': 10586, '늙어감': 10587, '끄덕이다': 10588, '후배': 10589, '버릇': 10590, '진영': 10591, '박경원': 10592, '점임': 10593, '위워회': 10594, '송시': 10595, '쉴드치다': 10596, '김대호': 10597, '병풍': 10598, '연도': 10599, '시중': 10600, '수만': 10601, '을해': 10602, '통행': 10603, '직진': 10604, '미스터': 10605, '미세': 10606, '스미스': 10607, '쮸쮸': 10608, '사서': 10609, '니키타': 10610, '뤽': 10611, '배송': 10612, '휴그랜트': 10613, '오그': 10614, '십대': 10615, '찬란': 10616, '국물': 10617, '순박하다': 10618, '때론': 10619, '뛰어다니다': 10620, '봉작': 10621, '제국': 10622, '질의': 10623, '표상': 10624, '냉철하다': 10625, '철심': 10626, '삐리뽕': 10627, '악하다': 10628, '무책임': 10629, '콩가루': 10630, '안속': 10631, '세월호': 10632, '선진': 10633, '역사왜곡': 10634, '인종': 10635, '이순신': 10636, '박규리': 10637, '한승연': 10638, '정니콜': 10639, '구하라': 10640, '강지영': 10641, '카라': 10642, '카밀리아': 10643, '샌드맨': 10644, '샤우팅': 10645, '개구리': 10646, '헐씬': 10647, '멋찌': 10648, '알트': 10649, '교차': 10650, '다케시': 10651, '측정': 10652, '여리다': 10653, '인문학': 10654, '분야': 10655, '내심': 10656, '환대': 10657, '리눅스': 10658, '주접': 10659, '이나라': 10660, '횡포': 10661, '화평': 10662, '병희': 10663, '논산': 10664, '마중가': 10665, '허락': 10666, '크기': 10667, '김만': 10668, '봉씨': 10669, '얼간이': 10670, '고상하다': 10671, '위함': 10672, '데빌': 10673, '그대': 10674, '괴뢰': 10675, '왘': 10676, '장진': 10677, '겨짐': 10678, '봣습니': 10679, '유노윤호': 10680, '도끼': 10681, '우왕': 10682, '떠올리다': 10683, '김현숙': 10684, '만들엇네': 10685, '비크티니': 10686, '루쿠': 10687, '에반스': 10688, '무심코': 10689, '쯔요시': 10690, '나락': 10691, '소시민': 10692, '윤석': 10693, '무위자연': 10694, '다음팟': 10695, '장창': 10696, '저작권': 10697, '메이트': 10698, '불만제로': 10699, '파이어': 10700, '이색': 10701, '베를린': 10702, '소모': 10703, '불친절하다': 10704, '내해': 10705, '방화': 10706, '할로우': 10707, '양파': 10708, '살피다': 10709, '나무': 10710, '동근': 10711, '요괴': 10712, '합격': 10713, '민초': 10714, '노트르담': 10715, '라가': 10716, '카니발': 10717, '사이드': 10718, '미러': 10719, '킁킁': 10720, '썅내': 10721, '복지': 10722, '아더왕': 10723, '아토': 10724, '커다랗다': 10725, '금욕': 10726, '음탕하다': 10727, '등골': 10728, '척도': 10729, '츄': 10730, '민효린': 10731, '밋엇다': 10732, '싱그럽다': 10733, '브라운관': 10734, '취하': 10735, '알제리': 10736, '원호': 10737, '렛': 10738, '송새벽': 10739, '본전': 10740, '헛짓': 10741, '장미': 10742, '콘택트': 10743, '고립': 10744, '혈육': 10745, '깝깝': 10746, '크로이처': 10747, '소나타': 10748, '국방': 10749, '족속': 10750, '사리': 10751, '맛보다': 10752, '퀵': 10753, '사관학교': 10754, '부서': 10755, '책임자': 10756, '법인': 10757, '국방부': 10758, '소속': 10759, '기관': 10760, '책임지다': 10761, '척머슬러': 10762, '증언': 10763, '젠도': 10764, '안착': 10765, '볼날': 10766, '셋별': 10767, '액': 10768, '서바이벌': 10769, '클리셰': 10770, '비주류': 10771, '불가피하다': 10772, '여경': 10773, '경첨': 10774, '라이어': 10775, '클러버': 10776, '아늠': 10777, '돔': 10778, '드뎌': 10779, '종말': 10780, '박정학': 10781, '해롭다': 10782, '철저하다': 10783, '런닝': 10784, '임도': 10785, '센치하다': 10786, '직업여성': 10787, '끝없이': 10788, '임용': 10789, '감응': 10790, '음청': 10791, '겟썸': 10792, '랫': 10793, '비유': 10794, '대학생': 10795, '왕년': 10796, '박노식': 10797, '박준규': 10798, '주머니': 10799, '루카스': 10800, '공항': 10801, '딱딱하다': 10802, '조리': 10803, '껄끄러웠다': 10804, '프럼': 10805, '어스': 10806, '주도하다': 10807, '공화정': 10808, '설립': 10809, '따윈': 10810, '리얼타임': 10811, '성실하다': 10812, '신발': 10813, '응응': 10814, '겜블러': 10815, '카일': 10816}\n"
          ]
        }
      ]
    },
    {
      "cell_type": "code",
      "source": [
        "threshold = 3\n",
        "total_cnt = len(tokenizer.word_index) # 단어의 수\n",
        "rare_cnt = 0 # 등장 빈도수가 threshold보다 작은 단어의 개수를 카운트\n",
        "total_freq = 0 # 훈련 데이터의 전체 단어 빈도수 총 합\n",
        "rare_freq = 0 # 등장 빈도수가 threshold보다 작은 단어의 등장 빈도수의 총 합\n",
        "\n",
        "# 단어와 빈도수의 쌍(pair)을 key와 value로 받는다.\n",
        "for key, value in tokenizer.word_counts.items():\n",
        "    total_freq = total_freq + value\n",
        "\n",
        "    # 단어의 등장 빈도수가 threshold보다 작으면\n",
        "    if(value < threshold):\n",
        "        rare_cnt = rare_cnt + 1\n",
        "        rare_freq = rare_freq + value\n",
        "\n",
        "print('단어 집합(vocabulary)의 크기 :',total_cnt)\n",
        "print('등장 빈도가 %s번 이하인 희귀 단어의 수: %s'%(threshold - 1, rare_cnt))\n",
        "print(\"단어 집합에서 희귀 단어의 비율:\", (rare_cnt / total_cnt)*100)\n",
        "print(\"전체 등장 빈도에서 희귀 단어 등장 빈도 비율:\", (rare_freq / total_freq)*100)"
      ],
      "metadata": {
        "id": "Z-MrH9TGM2Hb",
        "colab": {
          "base_uri": "https://localhost:8080/"
        },
        "outputId": "4f22d234-593d-452d-abf3-de8a4b3d283a"
      },
      "execution_count": null,
      "outputs": [
        {
          "output_type": "stream",
          "name": "stdout",
          "text": [
            "단어 집합(vocabulary)의 크기 : 10816\n",
            "등장 빈도가 2번 이하인 희귀 단어의 수: 7272\n",
            "단어 집합에서 희귀 단어의 비율: 67.23372781065089\n",
            "전체 등장 빈도에서 희귀 단어 등장 빈도 비율: 10.772431477852772\n"
          ]
        }
      ]
    },
    {
      "cell_type": "code",
      "source": [
        "# 전체 단어 개수 중 빈도수 2이하인 단어는 제거.\n",
        "# 0번 패딩 토큰을 고려하여 + 1\n",
        "vocab_size = total_cnt - rare_cnt + 1\n",
        "print('단어 집합의 크기 :',vocab_size)"
      ],
      "metadata": {
        "colab": {
          "base_uri": "https://localhost:8080/"
        },
        "id": "touYmwDHM7Qf",
        "outputId": "38dac256-23fb-426a-94da-f3c880944218"
      },
      "execution_count": null,
      "outputs": [
        {
          "output_type": "stream",
          "name": "stdout",
          "text": [
            "단어 집합의 크기 : 3545\n"
          ]
        }
      ]
    },
    {
      "cell_type": "code",
      "source": [
        "tokenizer = Tokenizer(vocab_size)\n",
        "tokenizer.fit_on_texts(X_train)\n",
        "X_train = tokenizer.texts_to_sequences(X_train)\n",
        "X_test = tokenizer.texts_to_sequences(X_test)"
      ],
      "metadata": {
        "id": "FGiobFztM-fk",
        "colab": {
          "base_uri": "https://localhost:8080/",
          "height": 211
        },
        "outputId": "0f2e1d1d-3815-48d4-9c96-58a0aa911fae"
      },
      "execution_count": null,
      "outputs": [
        {
          "output_type": "error",
          "ename": "NameError",
          "evalue": "ignored",
          "traceback": [
            "\u001b[0;31m---------------------------------------------------------------------------\u001b[0m",
            "\u001b[0;31mNameError\u001b[0m                                 Traceback (most recent call last)",
            "\u001b[0;32m<ipython-input-59-184e6387d63c>\u001b[0m in \u001b[0;36m<cell line: 4>\u001b[0;34m()\u001b[0m\n\u001b[1;32m      2\u001b[0m \u001b[0mtokenizer\u001b[0m\u001b[0;34m.\u001b[0m\u001b[0mfit_on_texts\u001b[0m\u001b[0;34m(\u001b[0m\u001b[0mX_train\u001b[0m\u001b[0;34m)\u001b[0m\u001b[0;34m\u001b[0m\u001b[0;34m\u001b[0m\u001b[0m\n\u001b[1;32m      3\u001b[0m \u001b[0mX_train\u001b[0m \u001b[0;34m=\u001b[0m \u001b[0mtokenizer\u001b[0m\u001b[0;34m.\u001b[0m\u001b[0mtexts_to_sequences\u001b[0m\u001b[0;34m(\u001b[0m\u001b[0mX_train\u001b[0m\u001b[0;34m)\u001b[0m\u001b[0;34m\u001b[0m\u001b[0;34m\u001b[0m\u001b[0m\n\u001b[0;32m----> 4\u001b[0;31m \u001b[0mX_test\u001b[0m \u001b[0;34m=\u001b[0m \u001b[0mtokenizer\u001b[0m\u001b[0;34m.\u001b[0m\u001b[0mtexts_to_sequences\u001b[0m\u001b[0;34m(\u001b[0m\u001b[0mX_test\u001b[0m\u001b[0;34m)\u001b[0m\u001b[0;34m\u001b[0m\u001b[0;34m\u001b[0m\u001b[0m\n\u001b[0m",
            "\u001b[0;31mNameError\u001b[0m: name 'X_test' is not defined"
          ]
        }
      ]
    },
    {
      "cell_type": "code",
      "source": [
        "print(X_train[:3])"
      ],
      "metadata": {
        "colab": {
          "base_uri": "https://localhost:8080/"
        },
        "id": "b2lfeXpENBu9",
        "outputId": "765b4558-9bad-4099-c657-16b6d714fd00"
      },
      "execution_count": null,
      "outputs": [
        {
          "output_type": "stream",
          "name": "stdout",
          "text": [
            "[[58, 622, 15, 238, 818], [710, 325, 42, 597, 1, 161, 1498, 23, 863, 742, 20], [338, 1244, 2207, 2, 239, 8]]\n"
          ]
        }
      ]
    },
    {
      "cell_type": "code",
      "source": [
        "y_train = np.array(train_data['label'])\n",
        "y_test = np.array(test_data['label'])"
      ],
      "metadata": {
        "id": "ssQFA-3lND9r"
      },
      "execution_count": null,
      "outputs": []
    },
    {
      "cell_type": "code",
      "source": [
        "drop_train = [index for index, sentence in enumerate(X_train) if len(sentence) < 1]"
      ],
      "metadata": {
        "id": "h0FF5siiNGnJ"
      },
      "execution_count": null,
      "outputs": []
    },
    {
      "cell_type": "code",
      "source": [
        "# 빈 샘플들을 제거\n",
        "X_train = np.delete(X_train, drop_train, axis=0)\n",
        "y_train = np.delete(y_train, drop_train, axis=0)\n",
        "print(len(X_train))\n",
        "print(len(y_train))"
      ],
      "metadata": {
        "colab": {
          "base_uri": "https://localhost:8080/"
        },
        "id": "k9R0Mb25NJbK",
        "outputId": "48c3566f-3cdb-44e1-fa0a-2a364c7ae3dd"
      },
      "execution_count": null,
      "outputs": [
        {
          "output_type": "stream",
          "name": "stdout",
          "text": [
            "7614\n",
            "145349\n"
          ]
        },
        {
          "output_type": "stream",
          "name": "stderr",
          "text": [
            "/usr/local/lib/python3.10/dist-packages/numpy/lib/function_base.py:5030: VisibleDeprecationWarning: Creating an ndarray from ragged nested sequences (which is a list-or-tuple of lists-or-tuples-or ndarrays with different lengths or shapes) is deprecated. If you meant to do this, you must specify 'dtype=object' when creating the ndarray.\n",
            "  arr = asarray(arr)\n"
          ]
        }
      ]
    },
    {
      "cell_type": "code",
      "source": [
        "print('리뷰의 최대 길이 :',max(len(review) for review in X_train))\n",
        "print('리뷰의 평균 길이 :',sum(map(len, X_train))/len(X_train))\n",
        "plt.hist([len(review) for review in X_train], bins=50)\n",
        "plt.xlabel('length of samples')\n",
        "plt.ylabel('number of samples')\n",
        "plt.show()"
      ],
      "metadata": {
        "colab": {
          "base_uri": "https://localhost:8080/",
          "height": 486
        },
        "id": "Z94Q5seRNL71",
        "outputId": "0228ea95-8686-466d-b926-7fd89cd11af2"
      },
      "execution_count": null,
      "outputs": [
        {
          "output_type": "stream",
          "name": "stdout",
          "text": [
            "리뷰의 최대 길이 : 51\n",
            "리뷰의 평균 길이 : 9.688468610454427\n"
          ]
        },
        {
          "output_type": "display_data",
          "data": {
            "text/plain": [
              "<Figure size 640x480 with 1 Axes>"
            ],
            "image/png": "[encoded data removed]"
          },
          "metadata": {}
        }
      ]
    },
    {
      "cell_type": "code",
      "source": [
        "def below_threshold_len(max_len, nested_list):\n",
        "  count = 0\n",
        "  for sentence in nested_list:\n",
        "    if(len(sentence) <= max_len):\n",
        "        count = count + 1\n",
        "  print('전체 샘플 중 길이가 %s 이하인 샘플의 비율: %s'%(max_len, (count / len(nested_list))*100))"
      ],
      "metadata": {
        "id": "_qZPyq6LNOk7"
      },
      "execution_count": null,
      "outputs": []
    },
    {
      "cell_type": "code",
      "source": [
        "max_len = 30\n",
        "below_threshold_len(max_len, X_train)"
      ],
      "metadata": {
        "colab": {
          "base_uri": "https://localhost:8080/"
        },
        "id": "zram4lhENSCB",
        "outputId": "e7e2edc9-78c9-4efd-c892-2540d098d4bf"
      },
      "execution_count": null,
      "outputs": [
        {
          "output_type": "stream",
          "name": "stdout",
          "text": [
            "전체 샘플 중 길이가 30 이하인 샘플의 비율: 95.81034935644864\n"
          ]
        }
      ]
    },
    {
      "cell_type": "code",
      "source": [
        "X_train = pad_sequences(X_train, maxlen=max_len)\n",
        "X_test = pad_sequences(X_test, maxlen=max_len)"
      ],
      "metadata": {
        "id": "OtbPfDMMNVFj",
        "colab": {
          "base_uri": "https://localhost:8080/",
          "height": 193
        },
        "outputId": "9c2c4f65-e50d-4a36-dbff-48eab3c3eaf9"
      },
      "execution_count": null,
      "outputs": [
        {
          "output_type": "error",
          "ename": "NameError",
          "evalue": "ignored",
          "traceback": [
            "\u001b[0;31m---------------------------------------------------------------------------\u001b[0m",
            "\u001b[0;31mNameError\u001b[0m                                 Traceback (most recent call last)",
            "\u001b[0;32m<ipython-input-67-3a406aace5ea>\u001b[0m in \u001b[0;36m<cell line: 2>\u001b[0;34m()\u001b[0m\n\u001b[1;32m      1\u001b[0m \u001b[0mX_train\u001b[0m \u001b[0;34m=\u001b[0m \u001b[0mpad_sequences\u001b[0m\u001b[0;34m(\u001b[0m\u001b[0mX_train\u001b[0m\u001b[0;34m,\u001b[0m \u001b[0mmaxlen\u001b[0m\u001b[0;34m=\u001b[0m\u001b[0mmax_len\u001b[0m\u001b[0;34m)\u001b[0m\u001b[0;34m\u001b[0m\u001b[0;34m\u001b[0m\u001b[0m\n\u001b[0;32m----> 2\u001b[0;31m \u001b[0mX_test\u001b[0m \u001b[0;34m=\u001b[0m \u001b[0mpad_sequences\u001b[0m\u001b[0;34m(\u001b[0m\u001b[0mX_test\u001b[0m\u001b[0;34m,\u001b[0m \u001b[0mmaxlen\u001b[0m\u001b[0;34m=\u001b[0m\u001b[0mmax_len\u001b[0m\u001b[0;34m)\u001b[0m\u001b[0;34m\u001b[0m\u001b[0;34m\u001b[0m\u001b[0m\n\u001b[0m",
            "\u001b[0;31mNameError\u001b[0m: name 'X_test' is not defined"
          ]
        }
      ]
    },
    {
      "cell_type": "code",
      "source": [
        "from tensorflow.keras.layers import Embedding, Dense, LSTM\n",
        "from tensorflow.keras.models import Sequential\n",
        "from tensorflow.keras.models import load_model\n",
        "from tensorflow.keras.callbacks import EarlyStopping, ModelCheckpoint"
      ],
      "metadata": {
        "id": "OU5zlASkMLR7"
      },
      "execution_count": null,
      "outputs": []
    },
    {
      "cell_type": "code",
      "source": [
        "embedding_dim = 100\n",
        "hidden_units = 128\n",
        "\n",
        "model = Sequential()\n",
        "model.add(Embedding(vocab_size, embedding_dim))\n",
        "model.add(LSTM(hidden_units))\n",
        "model.add(Dense(1, activation='sigmoid'))\n",
        "\n",
        "es = EarlyStopping(monitor='val_loss', mode='min', verbose=1, patience=4)\n",
        "mc = ModelCheckpoint('best_model.h5', monitor='val_acc', mode='max', verbose=1, save_best_only=True)\n",
        "\n",
        "model.compile(optimizer='rmsprop', loss='binary_crossentropy', metrics=['acc'])\n",
        "history = model.fit(X_train, y_train, epochs=15, callbacks=[es, mc], batch_size=64, validation_split=0.2)"
      ],
      "metadata": {
        "id": "zT6qRLHjNYLz",
        "colab": {
          "base_uri": "https://localhost:8080/"
        },
        "outputId": "c4e2b4b6-a5ad-4221-e367-47e465a6578a"
      },
      "execution_count": null,
      "outputs": [
        {
          "output_type": "stream",
          "name": "stdout",
          "text": [
            "Epoch 1/15\n",
            "95/96 [============================>.] - ETA: 0s - loss: 0.6406 - acc: 0.6523\n",
            "Epoch 1: val_acc improved from -inf to 0.77019, saving model to best_model.h5\n",
            "96/96 [==============================] - 17s 124ms/step - loss: 0.6404 - acc: 0.6528 - val_loss: 0.5104 - val_acc: 0.7702\n",
            "Epoch 2/15\n",
            "95/96 [============================>.] - ETA: 0s - loss: 0.4456 - acc: 0.8028\n",
            "Epoch 2: val_acc improved from 0.77019 to 0.77873, saving model to best_model.h5\n",
            "96/96 [==============================] - 10s 108ms/step - loss: 0.4452 - acc: 0.8030 - val_loss: 0.4360 - val_acc: 0.7787\n",
            "Epoch 3/15\n",
            "96/96 [==============================] - ETA: 0s - loss: 0.3447 - acc: 0.8536\n",
            "Epoch 3: val_acc improved from 0.77873 to 0.79317, saving model to best_model.h5\n",
            "96/96 [==============================] - 11s 117ms/step - loss: 0.3447 - acc: 0.8536 - val_loss: 0.4254 - val_acc: 0.7932\n",
            "Epoch 4/15\n",
            "95/96 [============================>.] - ETA: 0s - loss: 0.2971 - acc: 0.8753\n",
            "Epoch 4: val_acc improved from 0.79317 to 0.79580, saving model to best_model.h5\n",
            "96/96 [==============================] - 10s 103ms/step - loss: 0.2975 - acc: 0.8752 - val_loss: 0.4431 - val_acc: 0.7958\n",
            "Epoch 5/15\n",
            "95/96 [============================>.] - ETA: 0s - loss: 0.2662 - acc: 0.8928\n",
            "Epoch 5: val_acc did not improve from 0.79580\n",
            "96/96 [==============================] - 10s 106ms/step - loss: 0.2660 - acc: 0.8928 - val_loss: 0.4364 - val_acc: 0.7951\n",
            "Epoch 6/15\n",
            "95/96 [============================>.] - ETA: 0s - loss: 0.2417 - acc: 0.9066\n",
            "Epoch 6: val_acc did not improve from 0.79580\n",
            "96/96 [==============================] - 11s 111ms/step - loss: 0.2416 - acc: 0.9067 - val_loss: 0.4801 - val_acc: 0.7951\n",
            "Epoch 7/15\n",
            "96/96 [==============================] - ETA: 0s - loss: 0.2316 - acc: 0.9081\n",
            "Epoch 7: val_acc improved from 0.79580 to 0.80105, saving model to best_model.h5\n",
            "96/96 [==============================] - 10s 105ms/step - loss: 0.2316 - acc: 0.9081 - val_loss: 0.4644 - val_acc: 0.8011\n",
            "Epoch 7: early stopping\n"
          ]
        }
      ]
    },
    {
      "cell_type": "code",
      "source": [
        "loaded_model = load_model('best_model.h5')\n",
        "#print(\"\\n 테스트 정확도: %.4f\" % (loaded_model.evaluate(X_test, y_test)[1]))"
      ],
      "metadata": {
        "id": "_YndOmR9Ncbm"
      },
      "execution_count": null,
      "outputs": []
    }
  ]
}